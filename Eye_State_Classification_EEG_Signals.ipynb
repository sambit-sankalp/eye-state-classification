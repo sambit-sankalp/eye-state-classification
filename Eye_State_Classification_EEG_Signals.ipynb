{
  "cells": [
    {
      "cell_type": "markdown",
      "metadata": {
        "id": "le3WdOCST7Xm"
      },
      "source": [
        "## EEG signal Based Eye State Classification"
      ]
    },
    {
      "cell_type": "markdown",
      "metadata": {
        "id": "y7m4HmOGF5Wq"
      },
      "source": [
        "### Convert ARFF to CSV"
      ]
    },
    {
      "cell_type": "code",
      "execution_count": null,
      "metadata": {
        "colab": {
          "base_uri": "https://localhost:8080/"
        },
        "id": "1QvftjJUF46r",
        "outputId": "6bc26848-de63-4a40-c791-4e7c22fcb21a"
      },
      "outputs": [
        {
          "output_type": "execute_result",
          "data": {
            "text/plain": [
              "       AF3       F7       F3      FC5       T7       P7       O1       O2  \\\n",
              "0  4329.23  4009.23  4289.23  4148.21  4350.26  4586.15  4096.92  4641.03   \n",
              "1  4324.62  4004.62  4293.85  4148.72  4342.05  4586.67  4097.44  4638.97   \n",
              "2  4327.69  4006.67  4295.38  4156.41  4336.92  4583.59  4096.92  4630.26   \n",
              "3  4328.72  4011.79  4296.41  4155.90  4343.59  4582.56  4097.44  4630.77   \n",
              "4  4326.15  4011.79  4292.31  4151.28  4347.69  4586.67  4095.90  4627.69   \n",
              "\n",
              "        P8       T8      FC6       F4       F8      AF4 eyeDetection  \n",
              "0  4222.05  4238.46  4211.28  4280.51  4635.90  4393.85         b'0'  \n",
              "1  4210.77  4226.67  4207.69  4279.49  4632.82  4384.10         b'0'  \n",
              "2  4207.69  4222.05  4206.67  4282.05  4628.72  4389.23         b'0'  \n",
              "3  4217.44  4235.38  4210.77  4287.69  4632.31  4396.41         b'0'  \n",
              "4  4210.77  4244.10  4212.82  4288.21  4632.82  4398.46         b'0'  "
            ],
            "text/html": [
              "\n",
              "  <div id=\"df-759cfbec-80b8-4dd7-a6e8-fab6578242dd\" class=\"colab-df-container\">\n",
              "    <div>\n",
              "<style scoped>\n",
              "    .dataframe tbody tr th:only-of-type {\n",
              "        vertical-align: middle;\n",
              "    }\n",
              "\n",
              "    .dataframe tbody tr th {\n",
              "        vertical-align: top;\n",
              "    }\n",
              "\n",
              "    .dataframe thead th {\n",
              "        text-align: right;\n",
              "    }\n",
              "</style>\n",
              "<table border=\"1\" class=\"dataframe\">\n",
              "  <thead>\n",
              "    <tr style=\"text-align: right;\">\n",
              "      <th></th>\n",
              "      <th>AF3</th>\n",
              "      <th>F7</th>\n",
              "      <th>F3</th>\n",
              "      <th>FC5</th>\n",
              "      <th>T7</th>\n",
              "      <th>P7</th>\n",
              "      <th>O1</th>\n",
              "      <th>O2</th>\n",
              "      <th>P8</th>\n",
              "      <th>T8</th>\n",
              "      <th>FC6</th>\n",
              "      <th>F4</th>\n",
              "      <th>F8</th>\n",
              "      <th>AF4</th>\n",
              "      <th>eyeDetection</th>\n",
              "    </tr>\n",
              "  </thead>\n",
              "  <tbody>\n",
              "    <tr>\n",
              "      <th>0</th>\n",
              "      <td>4329.23</td>\n",
              "      <td>4009.23</td>\n",
              "      <td>4289.23</td>\n",
              "      <td>4148.21</td>\n",
              "      <td>4350.26</td>\n",
              "      <td>4586.15</td>\n",
              "      <td>4096.92</td>\n",
              "      <td>4641.03</td>\n",
              "      <td>4222.05</td>\n",
              "      <td>4238.46</td>\n",
              "      <td>4211.28</td>\n",
              "      <td>4280.51</td>\n",
              "      <td>4635.90</td>\n",
              "      <td>4393.85</td>\n",
              "      <td>b'0'</td>\n",
              "    </tr>\n",
              "    <tr>\n",
              "      <th>1</th>\n",
              "      <td>4324.62</td>\n",
              "      <td>4004.62</td>\n",
              "      <td>4293.85</td>\n",
              "      <td>4148.72</td>\n",
              "      <td>4342.05</td>\n",
              "      <td>4586.67</td>\n",
              "      <td>4097.44</td>\n",
              "      <td>4638.97</td>\n",
              "      <td>4210.77</td>\n",
              "      <td>4226.67</td>\n",
              "      <td>4207.69</td>\n",
              "      <td>4279.49</td>\n",
              "      <td>4632.82</td>\n",
              "      <td>4384.10</td>\n",
              "      <td>b'0'</td>\n",
              "    </tr>\n",
              "    <tr>\n",
              "      <th>2</th>\n",
              "      <td>4327.69</td>\n",
              "      <td>4006.67</td>\n",
              "      <td>4295.38</td>\n",
              "      <td>4156.41</td>\n",
              "      <td>4336.92</td>\n",
              "      <td>4583.59</td>\n",
              "      <td>4096.92</td>\n",
              "      <td>4630.26</td>\n",
              "      <td>4207.69</td>\n",
              "      <td>4222.05</td>\n",
              "      <td>4206.67</td>\n",
              "      <td>4282.05</td>\n",
              "      <td>4628.72</td>\n",
              "      <td>4389.23</td>\n",
              "      <td>b'0'</td>\n",
              "    </tr>\n",
              "    <tr>\n",
              "      <th>3</th>\n",
              "      <td>4328.72</td>\n",
              "      <td>4011.79</td>\n",
              "      <td>4296.41</td>\n",
              "      <td>4155.90</td>\n",
              "      <td>4343.59</td>\n",
              "      <td>4582.56</td>\n",
              "      <td>4097.44</td>\n",
              "      <td>4630.77</td>\n",
              "      <td>4217.44</td>\n",
              "      <td>4235.38</td>\n",
              "      <td>4210.77</td>\n",
              "      <td>4287.69</td>\n",
              "      <td>4632.31</td>\n",
              "      <td>4396.41</td>\n",
              "      <td>b'0'</td>\n",
              "    </tr>\n",
              "    <tr>\n",
              "      <th>4</th>\n",
              "      <td>4326.15</td>\n",
              "      <td>4011.79</td>\n",
              "      <td>4292.31</td>\n",
              "      <td>4151.28</td>\n",
              "      <td>4347.69</td>\n",
              "      <td>4586.67</td>\n",
              "      <td>4095.90</td>\n",
              "      <td>4627.69</td>\n",
              "      <td>4210.77</td>\n",
              "      <td>4244.10</td>\n",
              "      <td>4212.82</td>\n",
              "      <td>4288.21</td>\n",
              "      <td>4632.82</td>\n",
              "      <td>4398.46</td>\n",
              "      <td>b'0'</td>\n",
              "    </tr>\n",
              "  </tbody>\n",
              "</table>\n",
              "</div>\n",
              "    <div class=\"colab-df-buttons\">\n",
              "\n",
              "  <div class=\"colab-df-container\">\n",
              "    <button class=\"colab-df-convert\" onclick=\"convertToInteractive('df-759cfbec-80b8-4dd7-a6e8-fab6578242dd')\"\n",
              "            title=\"Convert this dataframe to an interactive table.\"\n",
              "            style=\"display:none;\">\n",
              "\n",
              "  <svg xmlns=\"http://www.w3.org/2000/svg\" height=\"24px\" viewBox=\"0 -960 960 960\">\n",
              "    <path d=\"M120-120v-720h720v720H120Zm60-500h600v-160H180v160Zm220 220h160v-160H400v160Zm0 220h160v-160H400v160ZM180-400h160v-160H180v160Zm440 0h160v-160H620v160ZM180-180h160v-160H180v160Zm440 0h160v-160H620v160Z\"/>\n",
              "  </svg>\n",
              "    </button>\n",
              "\n",
              "  <style>\n",
              "    .colab-df-container {\n",
              "      display:flex;\n",
              "      gap: 12px;\n",
              "    }\n",
              "\n",
              "    .colab-df-convert {\n",
              "      background-color: #E8F0FE;\n",
              "      border: none;\n",
              "      border-radius: 50%;\n",
              "      cursor: pointer;\n",
              "      display: none;\n",
              "      fill: #1967D2;\n",
              "      height: 32px;\n",
              "      padding: 0 0 0 0;\n",
              "      width: 32px;\n",
              "    }\n",
              "\n",
              "    .colab-df-convert:hover {\n",
              "      background-color: #E2EBFA;\n",
              "      box-shadow: 0px 1px 2px rgba(60, 64, 67, 0.3), 0px 1px 3px 1px rgba(60, 64, 67, 0.15);\n",
              "      fill: #174EA6;\n",
              "    }\n",
              "\n",
              "    .colab-df-buttons div {\n",
              "      margin-bottom: 4px;\n",
              "    }\n",
              "\n",
              "    [theme=dark] .colab-df-convert {\n",
              "      background-color: #3B4455;\n",
              "      fill: #D2E3FC;\n",
              "    }\n",
              "\n",
              "    [theme=dark] .colab-df-convert:hover {\n",
              "      background-color: #434B5C;\n",
              "      box-shadow: 0px 1px 3px 1px rgba(0, 0, 0, 0.15);\n",
              "      filter: drop-shadow(0px 1px 2px rgba(0, 0, 0, 0.3));\n",
              "      fill: #FFFFFF;\n",
              "    }\n",
              "  </style>\n",
              "\n",
              "    <script>\n",
              "      const buttonEl =\n",
              "        document.querySelector('#df-759cfbec-80b8-4dd7-a6e8-fab6578242dd button.colab-df-convert');\n",
              "      buttonEl.style.display =\n",
              "        google.colab.kernel.accessAllowed ? 'block' : 'none';\n",
              "\n",
              "      async function convertToInteractive(key) {\n",
              "        const element = document.querySelector('#df-759cfbec-80b8-4dd7-a6e8-fab6578242dd');\n",
              "        const dataTable =\n",
              "          await google.colab.kernel.invokeFunction('convertToInteractive',\n",
              "                                                    [key], {});\n",
              "        if (!dataTable) return;\n",
              "\n",
              "        const docLinkHtml = 'Like what you see? Visit the ' +\n",
              "          '<a target=\"_blank\" href=https://colab.research.google.com/notebooks/data_table.ipynb>data table notebook</a>'\n",
              "          + ' to learn more about interactive tables.';\n",
              "        element.innerHTML = '';\n",
              "        dataTable['output_type'] = 'display_data';\n",
              "        await google.colab.output.renderOutput(dataTable, element);\n",
              "        const docLink = document.createElement('div');\n",
              "        docLink.innerHTML = docLinkHtml;\n",
              "        element.appendChild(docLink);\n",
              "      }\n",
              "    </script>\n",
              "  </div>\n",
              "\n",
              "\n",
              "<div id=\"df-004d493c-0aa3-4592-875a-794e5b028c10\">\n",
              "  <button class=\"colab-df-quickchart\" onclick=\"quickchart('df-004d493c-0aa3-4592-875a-794e5b028c10')\"\n",
              "            title=\"Suggest charts\"\n",
              "            style=\"display:none;\">\n",
              "\n",
              "<svg xmlns=\"http://www.w3.org/2000/svg\" height=\"24px\"viewBox=\"0 0 24 24\"\n",
              "     width=\"24px\">\n",
              "    <g>\n",
              "        <path d=\"M19 3H5c-1.1 0-2 .9-2 2v14c0 1.1.9 2 2 2h14c1.1 0 2-.9 2-2V5c0-1.1-.9-2-2-2zM9 17H7v-7h2v7zm4 0h-2V7h2v10zm4 0h-2v-4h2v4z\"/>\n",
              "    </g>\n",
              "</svg>\n",
              "  </button>\n",
              "\n",
              "<style>\n",
              "  .colab-df-quickchart {\n",
              "      --bg-color: #E8F0FE;\n",
              "      --fill-color: #1967D2;\n",
              "      --hover-bg-color: #E2EBFA;\n",
              "      --hover-fill-color: #174EA6;\n",
              "      --disabled-fill-color: #AAA;\n",
              "      --disabled-bg-color: #DDD;\n",
              "  }\n",
              "\n",
              "  [theme=dark] .colab-df-quickchart {\n",
              "      --bg-color: #3B4455;\n",
              "      --fill-color: #D2E3FC;\n",
              "      --hover-bg-color: #434B5C;\n",
              "      --hover-fill-color: #FFFFFF;\n",
              "      --disabled-bg-color: #3B4455;\n",
              "      --disabled-fill-color: #666;\n",
              "  }\n",
              "\n",
              "  .colab-df-quickchart {\n",
              "    background-color: var(--bg-color);\n",
              "    border: none;\n",
              "    border-radius: 50%;\n",
              "    cursor: pointer;\n",
              "    display: none;\n",
              "    fill: var(--fill-color);\n",
              "    height: 32px;\n",
              "    padding: 0;\n",
              "    width: 32px;\n",
              "  }\n",
              "\n",
              "  .colab-df-quickchart:hover {\n",
              "    background-color: var(--hover-bg-color);\n",
              "    box-shadow: 0 1px 2px rgba(60, 64, 67, 0.3), 0 1px 3px 1px rgba(60, 64, 67, 0.15);\n",
              "    fill: var(--button-hover-fill-color);\n",
              "  }\n",
              "\n",
              "  .colab-df-quickchart-complete:disabled,\n",
              "  .colab-df-quickchart-complete:disabled:hover {\n",
              "    background-color: var(--disabled-bg-color);\n",
              "    fill: var(--disabled-fill-color);\n",
              "    box-shadow: none;\n",
              "  }\n",
              "\n",
              "  .colab-df-spinner {\n",
              "    border: 2px solid var(--fill-color);\n",
              "    border-color: transparent;\n",
              "    border-bottom-color: var(--fill-color);\n",
              "    animation:\n",
              "      spin 1s steps(1) infinite;\n",
              "  }\n",
              "\n",
              "  @keyframes spin {\n",
              "    0% {\n",
              "      border-color: transparent;\n",
              "      border-bottom-color: var(--fill-color);\n",
              "      border-left-color: var(--fill-color);\n",
              "    }\n",
              "    20% {\n",
              "      border-color: transparent;\n",
              "      border-left-color: var(--fill-color);\n",
              "      border-top-color: var(--fill-color);\n",
              "    }\n",
              "    30% {\n",
              "      border-color: transparent;\n",
              "      border-left-color: var(--fill-color);\n",
              "      border-top-color: var(--fill-color);\n",
              "      border-right-color: var(--fill-color);\n",
              "    }\n",
              "    40% {\n",
              "      border-color: transparent;\n",
              "      border-right-color: var(--fill-color);\n",
              "      border-top-color: var(--fill-color);\n",
              "    }\n",
              "    60% {\n",
              "      border-color: transparent;\n",
              "      border-right-color: var(--fill-color);\n",
              "    }\n",
              "    80% {\n",
              "      border-color: transparent;\n",
              "      border-right-color: var(--fill-color);\n",
              "      border-bottom-color: var(--fill-color);\n",
              "    }\n",
              "    90% {\n",
              "      border-color: transparent;\n",
              "      border-bottom-color: var(--fill-color);\n",
              "    }\n",
              "  }\n",
              "</style>\n",
              "\n",
              "  <script>\n",
              "    async function quickchart(key) {\n",
              "      const quickchartButtonEl =\n",
              "        document.querySelector('#' + key + ' button');\n",
              "      quickchartButtonEl.disabled = true;  // To prevent multiple clicks.\n",
              "      quickchartButtonEl.classList.add('colab-df-spinner');\n",
              "      try {\n",
              "        const charts = await google.colab.kernel.invokeFunction(\n",
              "            'suggestCharts', [key], {});\n",
              "      } catch (error) {\n",
              "        console.error('Error during call to suggestCharts:', error);\n",
              "      }\n",
              "      quickchartButtonEl.classList.remove('colab-df-spinner');\n",
              "      quickchartButtonEl.classList.add('colab-df-quickchart-complete');\n",
              "    }\n",
              "    (() => {\n",
              "      let quickchartButtonEl =\n",
              "        document.querySelector('#df-004d493c-0aa3-4592-875a-794e5b028c10 button');\n",
              "      quickchartButtonEl.style.display =\n",
              "        google.colab.kernel.accessAllowed ? 'block' : 'none';\n",
              "    })();\n",
              "  </script>\n",
              "</div>\n",
              "\n",
              "    </div>\n",
              "  </div>\n"
            ],
            "application/vnd.google.colaboratory.intrinsic+json": {
              "type": "dataframe",
              "variable_name": "train",
              "summary": "{\n  \"name\": \"train\",\n  \"rows\": 14980,\n  \"fields\": [\n    {\n      \"column\": \"AF3\",\n      \"properties\": {\n        \"dtype\": \"number\",\n        \"std\": 2492.0721742650967,\n        \"min\": 1030.77,\n        \"max\": 309231.0,\n        \"num_unique_values\": 548,\n        \"samples\": [\n          4257.95,\n          4458.46,\n          4256.92\n        ],\n        \"semantic_type\": \"\",\n        \"description\": \"\"\n      }\n    },\n    {\n      \"column\": \"F7\",\n      \"properties\": {\n        \"dtype\": \"number\",\n        \"std\": 45.94167248479191,\n        \"min\": 2830.77,\n        \"max\": 7804.62,\n        \"num_unique_values\": 452,\n        \"samples\": [\n          4078.46,\n          4017.44,\n          4098.46\n        ],\n        \"semantic_type\": \"\",\n        \"description\": \"\"\n      }\n    },\n    {\n      \"column\": \"F3\",\n      \"properties\": {\n        \"dtype\": \"number\",\n        \"std\": 44.428051757419404,\n        \"min\": 1040.0,\n        \"max\": 6880.51,\n        \"num_unique_values\": 345,\n        \"samples\": [\n          4295.9,\n          4307.18,\n          4385.64\n        ],\n        \"semantic_type\": \"\",\n        \"description\": \"\"\n      }\n    },\n    {\n      \"column\": \"FC5\",\n      \"properties\": {\n        \"dtype\": \"number\",\n        \"std\": 5216.404632299904,\n        \"min\": 2453.33,\n        \"max\": 642564.0,\n        \"num_unique_values\": 312,\n        \"samples\": [\n          4162.05,\n          4142.05,\n          4114.36\n        ],\n        \"semantic_type\": \"\",\n        \"description\": \"\"\n      }\n    },\n    {\n      \"column\": \"T7\",\n      \"properties\": {\n        \"dtype\": \"number\",\n        \"std\": 34.73882081848662,\n        \"min\": 2089.74,\n        \"max\": 6474.36,\n        \"num_unique_values\": 285,\n        \"samples\": [\n          4339.49,\n          4427.69,\n          4447.18\n        ],\n        \"semantic_type\": \"\",\n        \"description\": \"\"\n      }\n    },\n    {\n      \"column\": \"P7\",\n      \"properties\": {\n        \"dtype\": \"number\",\n        \"std\": 2924.789537325123,\n        \"min\": 2768.21,\n        \"max\": 362564.0,\n        \"num_unique_values\": 330,\n        \"samples\": [\n          4581.54,\n          4651.79,\n          4570.77\n        ],\n        \"semantic_type\": \"\",\n        \"description\": \"\"\n      }\n    },\n    {\n      \"column\": \"O1\",\n      \"properties\": {\n        \"dtype\": \"number\",\n        \"std\": 4600.926542533788,\n        \"min\": 2086.15,\n        \"max\": 567179.0,\n        \"num_unique_values\": 290,\n        \"samples\": [\n          4098.46,\n          4134.87,\n          4078.97\n        ],\n        \"semantic_type\": \"\",\n        \"description\": \"\"\n      }\n    },\n    {\n      \"column\": \"O2\",\n      \"properties\": {\n        \"dtype\": \"number\",\n        \"std\": 29.292603201776213,\n        \"min\": 4567.18,\n        \"max\": 7264.1,\n        \"num_unique_values\": 294,\n        \"samples\": [\n          4609.74,\n          4608.72,\n          4583.59\n        ],\n        \"semantic_type\": \"\",\n        \"description\": \"\"\n      }\n    },\n    {\n      \"column\": \"P8\",\n      \"properties\": {\n        \"dtype\": \"number\",\n        \"std\": 2136.408522887388,\n        \"min\": 1357.95,\n        \"max\": 265641.0,\n        \"num_unique_values\": 304,\n        \"samples\": [\n          4238.97,\n          4170.77,\n          4234.87\n        ],\n        \"semantic_type\": \"\",\n        \"description\": \"\"\n      }\n    },\n    {\n      \"column\": \"T8\",\n      \"properties\": {\n        \"dtype\": \"number\",\n        \"std\": 38.050902621216295,\n        \"min\": 1816.41,\n        \"max\": 6674.36,\n        \"num_unique_values\": 346,\n        \"samples\": [\n          4256.41,\n          4193.85,\n          4330.77\n        ],\n        \"semantic_type\": \"\",\n        \"description\": \"\"\n      }\n    },\n    {\n      \"column\": \"FC6\",\n      \"properties\": {\n        \"dtype\": \"number\",\n        \"std\": 37.78598137403711,\n        \"min\": 3273.33,\n        \"max\": 6823.08,\n        \"num_unique_values\": 419,\n        \"samples\": [\n          4173.85,\n          4148.72,\n          4231.28\n        ],\n        \"semantic_type\": \"\",\n        \"description\": \"\"\n      }\n    },\n    {\n      \"column\": \"F4\",\n      \"properties\": {\n        \"dtype\": \"number\",\n        \"std\": 41.544311516664244,\n        \"min\": 2257.95,\n        \"max\": 7002.56,\n        \"num_unique_values\": 343,\n        \"samples\": [\n          4238.46,\n          4323.08,\n          4328.72\n        ],\n        \"semantic_type\": \"\",\n        \"description\": \"\"\n      }\n    },\n    {\n      \"column\": \"F8\",\n      \"properties\": {\n        \"dtype\": \"number\",\n        \"std\": 1208.3699582560432,\n        \"min\": 86.6667,\n        \"max\": 152308.0,\n        \"num_unique_values\": 558,\n        \"samples\": [\n          4667.69,\n          4475.9,\n          4640.0\n        ],\n        \"semantic_type\": \"\",\n        \"description\": \"\"\n      }\n    },\n    {\n      \"column\": \"AF4\",\n      \"properties\": {\n        \"dtype\": \"number\",\n        \"std\": 5891.285042523523,\n        \"min\": 1366.15,\n        \"max\": 715897.0,\n        \"num_unique_values\": 592,\n        \"samples\": [\n          4456.92,\n          4539.49,\n          4402.56\n        ],\n        \"semantic_type\": \"\",\n        \"description\": \"\"\n      }\n    },\n    {\n      \"column\": \"eyeDetection\",\n      \"properties\": {\n        \"dtype\": \"category\",\n        \"num_unique_values\": 2,\n        \"samples\": [\n          \"b'1'\",\n          \"b'0'\"\n        ],\n        \"semantic_type\": \"\",\n        \"description\": \"\"\n      }\n    }\n  ]\n}"
            }
          },
          "metadata": {},
          "execution_count": 1
        }
      ],
      "source": [
        "import pandas as pd\n",
        "from scipy.io import arff\n",
        "data = arff.loadarff('EEG Eye State.arff')\n",
        "train= pd.DataFrame(data[0])\n",
        "train.head()"
      ]
    },
    {
      "cell_type": "code",
      "execution_count": null,
      "metadata": {
        "colab": {
          "base_uri": "https://localhost:8080/"
        },
        "id": "Q4h0GyuBIgci",
        "outputId": "957f4762-5ec5-41bc-d1b6-245171b6b24d"
      },
      "outputs": [
        {
          "output_type": "execute_result",
          "data": {
            "text/plain": [
              "['eyeDetection']"
            ]
          },
          "metadata": {},
          "execution_count": 2
        }
      ],
      "source": [
        "catCols = [col for col in train.columns if train[col].dtype==\"O\"]\n",
        "catCols[:5]"
      ]
    },
    {
      "cell_type": "code",
      "execution_count": null,
      "metadata": {
        "colab": {
          "base_uri": "https://localhost:8080/"
        },
        "id": "GQ20Hs1DGVu0",
        "outputId": "72bc4ce7-26f3-4836-a1ec-128f608754a5"
      },
      "outputs": [
        {
          "output_type": "execute_result",
          "data": {
            "text/plain": [
              "       AF3       F7       F3      FC5       T7       P7       O1       O2  \\\n",
              "0  4329.23  4009.23  4289.23  4148.21  4350.26  4586.15  4096.92  4641.03   \n",
              "1  4324.62  4004.62  4293.85  4148.72  4342.05  4586.67  4097.44  4638.97   \n",
              "2  4327.69  4006.67  4295.38  4156.41  4336.92  4583.59  4096.92  4630.26   \n",
              "3  4328.72  4011.79  4296.41  4155.90  4343.59  4582.56  4097.44  4630.77   \n",
              "4  4326.15  4011.79  4292.31  4151.28  4347.69  4586.67  4095.90  4627.69   \n",
              "\n",
              "        P8       T8      FC6       F4       F8      AF4 eyeDetection  \n",
              "0  4222.05  4238.46  4211.28  4280.51  4635.90  4393.85            0  \n",
              "1  4210.77  4226.67  4207.69  4279.49  4632.82  4384.10            0  \n",
              "2  4207.69  4222.05  4206.67  4282.05  4628.72  4389.23            0  \n",
              "3  4217.44  4235.38  4210.77  4287.69  4632.31  4396.41            0  \n",
              "4  4210.77  4244.10  4212.82  4288.21  4632.82  4398.46            0  "
            ],
            "text/html": [
              "\n",
              "  <div id=\"df-f7f34304-cea2-4ca4-8da9-960beae1f7a3\" class=\"colab-df-container\">\n",
              "    <div>\n",
              "<style scoped>\n",
              "    .dataframe tbody tr th:only-of-type {\n",
              "        vertical-align: middle;\n",
              "    }\n",
              "\n",
              "    .dataframe tbody tr th {\n",
              "        vertical-align: top;\n",
              "    }\n",
              "\n",
              "    .dataframe thead th {\n",
              "        text-align: right;\n",
              "    }\n",
              "</style>\n",
              "<table border=\"1\" class=\"dataframe\">\n",
              "  <thead>\n",
              "    <tr style=\"text-align: right;\">\n",
              "      <th></th>\n",
              "      <th>AF3</th>\n",
              "      <th>F7</th>\n",
              "      <th>F3</th>\n",
              "      <th>FC5</th>\n",
              "      <th>T7</th>\n",
              "      <th>P7</th>\n",
              "      <th>O1</th>\n",
              "      <th>O2</th>\n",
              "      <th>P8</th>\n",
              "      <th>T8</th>\n",
              "      <th>FC6</th>\n",
              "      <th>F4</th>\n",
              "      <th>F8</th>\n",
              "      <th>AF4</th>\n",
              "      <th>eyeDetection</th>\n",
              "    </tr>\n",
              "  </thead>\n",
              "  <tbody>\n",
              "    <tr>\n",
              "      <th>0</th>\n",
              "      <td>4329.23</td>\n",
              "      <td>4009.23</td>\n",
              "      <td>4289.23</td>\n",
              "      <td>4148.21</td>\n",
              "      <td>4350.26</td>\n",
              "      <td>4586.15</td>\n",
              "      <td>4096.92</td>\n",
              "      <td>4641.03</td>\n",
              "      <td>4222.05</td>\n",
              "      <td>4238.46</td>\n",
              "      <td>4211.28</td>\n",
              "      <td>4280.51</td>\n",
              "      <td>4635.90</td>\n",
              "      <td>4393.85</td>\n",
              "      <td>0</td>\n",
              "    </tr>\n",
              "    <tr>\n",
              "      <th>1</th>\n",
              "      <td>4324.62</td>\n",
              "      <td>4004.62</td>\n",
              "      <td>4293.85</td>\n",
              "      <td>4148.72</td>\n",
              "      <td>4342.05</td>\n",
              "      <td>4586.67</td>\n",
              "      <td>4097.44</td>\n",
              "      <td>4638.97</td>\n",
              "      <td>4210.77</td>\n",
              "      <td>4226.67</td>\n",
              "      <td>4207.69</td>\n",
              "      <td>4279.49</td>\n",
              "      <td>4632.82</td>\n",
              "      <td>4384.10</td>\n",
              "      <td>0</td>\n",
              "    </tr>\n",
              "    <tr>\n",
              "      <th>2</th>\n",
              "      <td>4327.69</td>\n",
              "      <td>4006.67</td>\n",
              "      <td>4295.38</td>\n",
              "      <td>4156.41</td>\n",
              "      <td>4336.92</td>\n",
              "      <td>4583.59</td>\n",
              "      <td>4096.92</td>\n",
              "      <td>4630.26</td>\n",
              "      <td>4207.69</td>\n",
              "      <td>4222.05</td>\n",
              "      <td>4206.67</td>\n",
              "      <td>4282.05</td>\n",
              "      <td>4628.72</td>\n",
              "      <td>4389.23</td>\n",
              "      <td>0</td>\n",
              "    </tr>\n",
              "    <tr>\n",
              "      <th>3</th>\n",
              "      <td>4328.72</td>\n",
              "      <td>4011.79</td>\n",
              "      <td>4296.41</td>\n",
              "      <td>4155.90</td>\n",
              "      <td>4343.59</td>\n",
              "      <td>4582.56</td>\n",
              "      <td>4097.44</td>\n",
              "      <td>4630.77</td>\n",
              "      <td>4217.44</td>\n",
              "      <td>4235.38</td>\n",
              "      <td>4210.77</td>\n",
              "      <td>4287.69</td>\n",
              "      <td>4632.31</td>\n",
              "      <td>4396.41</td>\n",
              "      <td>0</td>\n",
              "    </tr>\n",
              "    <tr>\n",
              "      <th>4</th>\n",
              "      <td>4326.15</td>\n",
              "      <td>4011.79</td>\n",
              "      <td>4292.31</td>\n",
              "      <td>4151.28</td>\n",
              "      <td>4347.69</td>\n",
              "      <td>4586.67</td>\n",
              "      <td>4095.90</td>\n",
              "      <td>4627.69</td>\n",
              "      <td>4210.77</td>\n",
              "      <td>4244.10</td>\n",
              "      <td>4212.82</td>\n",
              "      <td>4288.21</td>\n",
              "      <td>4632.82</td>\n",
              "      <td>4398.46</td>\n",
              "      <td>0</td>\n",
              "    </tr>\n",
              "  </tbody>\n",
              "</table>\n",
              "</div>\n",
              "    <div class=\"colab-df-buttons\">\n",
              "\n",
              "  <div class=\"colab-df-container\">\n",
              "    <button class=\"colab-df-convert\" onclick=\"convertToInteractive('df-f7f34304-cea2-4ca4-8da9-960beae1f7a3')\"\n",
              "            title=\"Convert this dataframe to an interactive table.\"\n",
              "            style=\"display:none;\">\n",
              "\n",
              "  <svg xmlns=\"http://www.w3.org/2000/svg\" height=\"24px\" viewBox=\"0 -960 960 960\">\n",
              "    <path d=\"M120-120v-720h720v720H120Zm60-500h600v-160H180v160Zm220 220h160v-160H400v160Zm0 220h160v-160H400v160ZM180-400h160v-160H180v160Zm440 0h160v-160H620v160ZM180-180h160v-160H180v160Zm440 0h160v-160H620v160Z\"/>\n",
              "  </svg>\n",
              "    </button>\n",
              "\n",
              "  <style>\n",
              "    .colab-df-container {\n",
              "      display:flex;\n",
              "      gap: 12px;\n",
              "    }\n",
              "\n",
              "    .colab-df-convert {\n",
              "      background-color: #E8F0FE;\n",
              "      border: none;\n",
              "      border-radius: 50%;\n",
              "      cursor: pointer;\n",
              "      display: none;\n",
              "      fill: #1967D2;\n",
              "      height: 32px;\n",
              "      padding: 0 0 0 0;\n",
              "      width: 32px;\n",
              "    }\n",
              "\n",
              "    .colab-df-convert:hover {\n",
              "      background-color: #E2EBFA;\n",
              "      box-shadow: 0px 1px 2px rgba(60, 64, 67, 0.3), 0px 1px 3px 1px rgba(60, 64, 67, 0.15);\n",
              "      fill: #174EA6;\n",
              "    }\n",
              "\n",
              "    .colab-df-buttons div {\n",
              "      margin-bottom: 4px;\n",
              "    }\n",
              "\n",
              "    [theme=dark] .colab-df-convert {\n",
              "      background-color: #3B4455;\n",
              "      fill: #D2E3FC;\n",
              "    }\n",
              "\n",
              "    [theme=dark] .colab-df-convert:hover {\n",
              "      background-color: #434B5C;\n",
              "      box-shadow: 0px 1px 3px 1px rgba(0, 0, 0, 0.15);\n",
              "      filter: drop-shadow(0px 1px 2px rgba(0, 0, 0, 0.3));\n",
              "      fill: #FFFFFF;\n",
              "    }\n",
              "  </style>\n",
              "\n",
              "    <script>\n",
              "      const buttonEl =\n",
              "        document.querySelector('#df-f7f34304-cea2-4ca4-8da9-960beae1f7a3 button.colab-df-convert');\n",
              "      buttonEl.style.display =\n",
              "        google.colab.kernel.accessAllowed ? 'block' : 'none';\n",
              "\n",
              "      async function convertToInteractive(key) {\n",
              "        const element = document.querySelector('#df-f7f34304-cea2-4ca4-8da9-960beae1f7a3');\n",
              "        const dataTable =\n",
              "          await google.colab.kernel.invokeFunction('convertToInteractive',\n",
              "                                                    [key], {});\n",
              "        if (!dataTable) return;\n",
              "\n",
              "        const docLinkHtml = 'Like what you see? Visit the ' +\n",
              "          '<a target=\"_blank\" href=https://colab.research.google.com/notebooks/data_table.ipynb>data table notebook</a>'\n",
              "          + ' to learn more about interactive tables.';\n",
              "        element.innerHTML = '';\n",
              "        dataTable['output_type'] = 'display_data';\n",
              "        await google.colab.output.renderOutput(dataTable, element);\n",
              "        const docLink = document.createElement('div');\n",
              "        docLink.innerHTML = docLinkHtml;\n",
              "        element.appendChild(docLink);\n",
              "      }\n",
              "    </script>\n",
              "  </div>\n",
              "\n",
              "\n",
              "<div id=\"df-e63115f4-ee9e-42b5-a0a8-834f757cb2e4\">\n",
              "  <button class=\"colab-df-quickchart\" onclick=\"quickchart('df-e63115f4-ee9e-42b5-a0a8-834f757cb2e4')\"\n",
              "            title=\"Suggest charts\"\n",
              "            style=\"display:none;\">\n",
              "\n",
              "<svg xmlns=\"http://www.w3.org/2000/svg\" height=\"24px\"viewBox=\"0 0 24 24\"\n",
              "     width=\"24px\">\n",
              "    <g>\n",
              "        <path d=\"M19 3H5c-1.1 0-2 .9-2 2v14c0 1.1.9 2 2 2h14c1.1 0 2-.9 2-2V5c0-1.1-.9-2-2-2zM9 17H7v-7h2v7zm4 0h-2V7h2v10zm4 0h-2v-4h2v4z\"/>\n",
              "    </g>\n",
              "</svg>\n",
              "  </button>\n",
              "\n",
              "<style>\n",
              "  .colab-df-quickchart {\n",
              "      --bg-color: #E8F0FE;\n",
              "      --fill-color: #1967D2;\n",
              "      --hover-bg-color: #E2EBFA;\n",
              "      --hover-fill-color: #174EA6;\n",
              "      --disabled-fill-color: #AAA;\n",
              "      --disabled-bg-color: #DDD;\n",
              "  }\n",
              "\n",
              "  [theme=dark] .colab-df-quickchart {\n",
              "      --bg-color: #3B4455;\n",
              "      --fill-color: #D2E3FC;\n",
              "      --hover-bg-color: #434B5C;\n",
              "      --hover-fill-color: #FFFFFF;\n",
              "      --disabled-bg-color: #3B4455;\n",
              "      --disabled-fill-color: #666;\n",
              "  }\n",
              "\n",
              "  .colab-df-quickchart {\n",
              "    background-color: var(--bg-color);\n",
              "    border: none;\n",
              "    border-radius: 50%;\n",
              "    cursor: pointer;\n",
              "    display: none;\n",
              "    fill: var(--fill-color);\n",
              "    height: 32px;\n",
              "    padding: 0;\n",
              "    width: 32px;\n",
              "  }\n",
              "\n",
              "  .colab-df-quickchart:hover {\n",
              "    background-color: var(--hover-bg-color);\n",
              "    box-shadow: 0 1px 2px rgba(60, 64, 67, 0.3), 0 1px 3px 1px rgba(60, 64, 67, 0.15);\n",
              "    fill: var(--button-hover-fill-color);\n",
              "  }\n",
              "\n",
              "  .colab-df-quickchart-complete:disabled,\n",
              "  .colab-df-quickchart-complete:disabled:hover {\n",
              "    background-color: var(--disabled-bg-color);\n",
              "    fill: var(--disabled-fill-color);\n",
              "    box-shadow: none;\n",
              "  }\n",
              "\n",
              "  .colab-df-spinner {\n",
              "    border: 2px solid var(--fill-color);\n",
              "    border-color: transparent;\n",
              "    border-bottom-color: var(--fill-color);\n",
              "    animation:\n",
              "      spin 1s steps(1) infinite;\n",
              "  }\n",
              "\n",
              "  @keyframes spin {\n",
              "    0% {\n",
              "      border-color: transparent;\n",
              "      border-bottom-color: var(--fill-color);\n",
              "      border-left-color: var(--fill-color);\n",
              "    }\n",
              "    20% {\n",
              "      border-color: transparent;\n",
              "      border-left-color: var(--fill-color);\n",
              "      border-top-color: var(--fill-color);\n",
              "    }\n",
              "    30% {\n",
              "      border-color: transparent;\n",
              "      border-left-color: var(--fill-color);\n",
              "      border-top-color: var(--fill-color);\n",
              "      border-right-color: var(--fill-color);\n",
              "    }\n",
              "    40% {\n",
              "      border-color: transparent;\n",
              "      border-right-color: var(--fill-color);\n",
              "      border-top-color: var(--fill-color);\n",
              "    }\n",
              "    60% {\n",
              "      border-color: transparent;\n",
              "      border-right-color: var(--fill-color);\n",
              "    }\n",
              "    80% {\n",
              "      border-color: transparent;\n",
              "      border-right-color: var(--fill-color);\n",
              "      border-bottom-color: var(--fill-color);\n",
              "    }\n",
              "    90% {\n",
              "      border-color: transparent;\n",
              "      border-bottom-color: var(--fill-color);\n",
              "    }\n",
              "  }\n",
              "</style>\n",
              "\n",
              "  <script>\n",
              "    async function quickchart(key) {\n",
              "      const quickchartButtonEl =\n",
              "        document.querySelector('#' + key + ' button');\n",
              "      quickchartButtonEl.disabled = true;  // To prevent multiple clicks.\n",
              "      quickchartButtonEl.classList.add('colab-df-spinner');\n",
              "      try {\n",
              "        const charts = await google.colab.kernel.invokeFunction(\n",
              "            'suggestCharts', [key], {});\n",
              "      } catch (error) {\n",
              "        console.error('Error during call to suggestCharts:', error);\n",
              "      }\n",
              "      quickchartButtonEl.classList.remove('colab-df-spinner');\n",
              "      quickchartButtonEl.classList.add('colab-df-quickchart-complete');\n",
              "    }\n",
              "    (() => {\n",
              "      let quickchartButtonEl =\n",
              "        document.querySelector('#df-e63115f4-ee9e-42b5-a0a8-834f757cb2e4 button');\n",
              "      quickchartButtonEl.style.display =\n",
              "        google.colab.kernel.accessAllowed ? 'block' : 'none';\n",
              "    })();\n",
              "  </script>\n",
              "</div>\n",
              "\n",
              "    </div>\n",
              "  </div>\n"
            ],
            "application/vnd.google.colaboratory.intrinsic+json": {
              "type": "dataframe",
              "variable_name": "train",
              "summary": "{\n  \"name\": \"train\",\n  \"rows\": 14980,\n  \"fields\": [\n    {\n      \"column\": \"AF3\",\n      \"properties\": {\n        \"dtype\": \"number\",\n        \"std\": 2492.0721742650967,\n        \"min\": 1030.77,\n        \"max\": 309231.0,\n        \"num_unique_values\": 548,\n        \"samples\": [\n          4257.95,\n          4458.46,\n          4256.92\n        ],\n        \"semantic_type\": \"\",\n        \"description\": \"\"\n      }\n    },\n    {\n      \"column\": \"F7\",\n      \"properties\": {\n        \"dtype\": \"number\",\n        \"std\": 45.94167248479191,\n        \"min\": 2830.77,\n        \"max\": 7804.62,\n        \"num_unique_values\": 452,\n        \"samples\": [\n          4078.46,\n          4017.44,\n          4098.46\n        ],\n        \"semantic_type\": \"\",\n        \"description\": \"\"\n      }\n    },\n    {\n      \"column\": \"F3\",\n      \"properties\": {\n        \"dtype\": \"number\",\n        \"std\": 44.428051757419404,\n        \"min\": 1040.0,\n        \"max\": 6880.51,\n        \"num_unique_values\": 345,\n        \"samples\": [\n          4295.9,\n          4307.18,\n          4385.64\n        ],\n        \"semantic_type\": \"\",\n        \"description\": \"\"\n      }\n    },\n    {\n      \"column\": \"FC5\",\n      \"properties\": {\n        \"dtype\": \"number\",\n        \"std\": 5216.404632299904,\n        \"min\": 2453.33,\n        \"max\": 642564.0,\n        \"num_unique_values\": 312,\n        \"samples\": [\n          4162.05,\n          4142.05,\n          4114.36\n        ],\n        \"semantic_type\": \"\",\n        \"description\": \"\"\n      }\n    },\n    {\n      \"column\": \"T7\",\n      \"properties\": {\n        \"dtype\": \"number\",\n        \"std\": 34.73882081848662,\n        \"min\": 2089.74,\n        \"max\": 6474.36,\n        \"num_unique_values\": 285,\n        \"samples\": [\n          4339.49,\n          4427.69,\n          4447.18\n        ],\n        \"semantic_type\": \"\",\n        \"description\": \"\"\n      }\n    },\n    {\n      \"column\": \"P7\",\n      \"properties\": {\n        \"dtype\": \"number\",\n        \"std\": 2924.789537325123,\n        \"min\": 2768.21,\n        \"max\": 362564.0,\n        \"num_unique_values\": 330,\n        \"samples\": [\n          4581.54,\n          4651.79,\n          4570.77\n        ],\n        \"semantic_type\": \"\",\n        \"description\": \"\"\n      }\n    },\n    {\n      \"column\": \"O1\",\n      \"properties\": {\n        \"dtype\": \"number\",\n        \"std\": 4600.926542533788,\n        \"min\": 2086.15,\n        \"max\": 567179.0,\n        \"num_unique_values\": 290,\n        \"samples\": [\n          4098.46,\n          4134.87,\n          4078.97\n        ],\n        \"semantic_type\": \"\",\n        \"description\": \"\"\n      }\n    },\n    {\n      \"column\": \"O2\",\n      \"properties\": {\n        \"dtype\": \"number\",\n        \"std\": 29.292603201776213,\n        \"min\": 4567.18,\n        \"max\": 7264.1,\n        \"num_unique_values\": 294,\n        \"samples\": [\n          4609.74,\n          4608.72,\n          4583.59\n        ],\n        \"semantic_type\": \"\",\n        \"description\": \"\"\n      }\n    },\n    {\n      \"column\": \"P8\",\n      \"properties\": {\n        \"dtype\": \"number\",\n        \"std\": 2136.408522887388,\n        \"min\": 1357.95,\n        \"max\": 265641.0,\n        \"num_unique_values\": 304,\n        \"samples\": [\n          4238.97,\n          4170.77,\n          4234.87\n        ],\n        \"semantic_type\": \"\",\n        \"description\": \"\"\n      }\n    },\n    {\n      \"column\": \"T8\",\n      \"properties\": {\n        \"dtype\": \"number\",\n        \"std\": 38.050902621216295,\n        \"min\": 1816.41,\n        \"max\": 6674.36,\n        \"num_unique_values\": 346,\n        \"samples\": [\n          4256.41,\n          4193.85,\n          4330.77\n        ],\n        \"semantic_type\": \"\",\n        \"description\": \"\"\n      }\n    },\n    {\n      \"column\": \"FC6\",\n      \"properties\": {\n        \"dtype\": \"number\",\n        \"std\": 37.78598137403711,\n        \"min\": 3273.33,\n        \"max\": 6823.08,\n        \"num_unique_values\": 419,\n        \"samples\": [\n          4173.85,\n          4148.72,\n          4231.28\n        ],\n        \"semantic_type\": \"\",\n        \"description\": \"\"\n      }\n    },\n    {\n      \"column\": \"F4\",\n      \"properties\": {\n        \"dtype\": \"number\",\n        \"std\": 41.544311516664244,\n        \"min\": 2257.95,\n        \"max\": 7002.56,\n        \"num_unique_values\": 343,\n        \"samples\": [\n          4238.46,\n          4323.08,\n          4328.72\n        ],\n        \"semantic_type\": \"\",\n        \"description\": \"\"\n      }\n    },\n    {\n      \"column\": \"F8\",\n      \"properties\": {\n        \"dtype\": \"number\",\n        \"std\": 1208.3699582560432,\n        \"min\": 86.6667,\n        \"max\": 152308.0,\n        \"num_unique_values\": 558,\n        \"samples\": [\n          4667.69,\n          4475.9,\n          4640.0\n        ],\n        \"semantic_type\": \"\",\n        \"description\": \"\"\n      }\n    },\n    {\n      \"column\": \"AF4\",\n      \"properties\": {\n        \"dtype\": \"number\",\n        \"std\": 5891.285042523523,\n        \"min\": 1366.15,\n        \"max\": 715897.0,\n        \"num_unique_values\": 592,\n        \"samples\": [\n          4456.92,\n          4539.49,\n          4402.56\n        ],\n        \"semantic_type\": \"\",\n        \"description\": \"\"\n      }\n    },\n    {\n      \"column\": \"eyeDetection\",\n      \"properties\": {\n        \"dtype\": \"category\",\n        \"num_unique_values\": 2,\n        \"samples\": [\n          \"1\",\n          \"0\"\n        ],\n        \"semantic_type\": \"\",\n        \"description\": \"\"\n      }\n    }\n  ]\n}"
            }
          },
          "metadata": {},
          "execution_count": 3
        }
      ],
      "source": [
        "train[catCols]=train[catCols].apply(lambda x: x.str.decode('utf8'))\n",
        "train.head()"
      ]
    },
    {
      "cell_type": "code",
      "execution_count": null,
      "metadata": {
        "colab": {
          "base_uri": "https://localhost:8080/"
        },
        "id": "aFn5hPDHIsYz",
        "outputId": "6aaa590c-6dbd-4c81-b537-7d7904b6ac93"
      },
      "outputs": [
        {
          "output_type": "execute_result",
          "data": {
            "text/plain": [
              "           AF3       F7       F3      FC5       T7       P7       O1       O2  \\\n",
              "0      4329.23  4009.23  4289.23  4148.21  4350.26  4586.15  4096.92  4641.03   \n",
              "1      4324.62  4004.62  4293.85  4148.72  4342.05  4586.67  4097.44  4638.97   \n",
              "2      4327.69  4006.67  4295.38  4156.41  4336.92  4583.59  4096.92  4630.26   \n",
              "3      4328.72  4011.79  4296.41  4155.90  4343.59  4582.56  4097.44  4630.77   \n",
              "4      4326.15  4011.79  4292.31  4151.28  4347.69  4586.67  4095.90  4627.69   \n",
              "...        ...      ...      ...      ...      ...      ...      ...      ...   \n",
              "14975  4281.03  3990.26  4245.64  4116.92  4333.85  4614.36  4074.87  4625.64   \n",
              "14976  4276.92  3991.79  4245.13  4110.77  4332.82  4615.38  4073.33  4621.54   \n",
              "14977  4277.44  3990.77  4246.67  4113.85  4333.33  4615.38  4072.82  4623.59   \n",
              "14978  4284.62  3991.79  4251.28  4122.05  4334.36  4616.41  4080.51  4628.72   \n",
              "14979  4287.69  3997.44  4260.00  4121.03  4333.33  4616.41  4088.72  4638.46   \n",
              "\n",
              "            P8       T8      FC6       F4       F8      AF4 eyeDetection  \n",
              "0      4222.05  4238.46  4211.28  4280.51  4635.90  4393.85            0  \n",
              "1      4210.77  4226.67  4207.69  4279.49  4632.82  4384.10            0  \n",
              "2      4207.69  4222.05  4206.67  4282.05  4628.72  4389.23            0  \n",
              "3      4217.44  4235.38  4210.77  4287.69  4632.31  4396.41            0  \n",
              "4      4210.77  4244.10  4212.82  4288.21  4632.82  4398.46            0  \n",
              "...        ...      ...      ...      ...      ...      ...          ...  \n",
              "14975  4203.08  4221.54  4171.28  4269.23  4593.33  4340.51            1  \n",
              "14976  4194.36  4217.44  4162.56  4259.49  4590.26  4333.33            1  \n",
              "14977  4193.33  4212.82  4160.51  4257.95  4591.79  4339.49            1  \n",
              "14978  4200.00  4220.00  4165.64  4267.18  4596.41  4350.77            1  \n",
              "14979  4212.31  4226.67  4167.69  4274.36  4597.95  4350.77            1  \n",
              "\n",
              "[14980 rows x 15 columns]"
            ],
            "text/html": [
              "\n",
              "  <div id=\"df-ace499d1-7d43-48c3-8114-1ab3e2105f37\" class=\"colab-df-container\">\n",
              "    <div>\n",
              "<style scoped>\n",
              "    .dataframe tbody tr th:only-of-type {\n",
              "        vertical-align: middle;\n",
              "    }\n",
              "\n",
              "    .dataframe tbody tr th {\n",
              "        vertical-align: top;\n",
              "    }\n",
              "\n",
              "    .dataframe thead th {\n",
              "        text-align: right;\n",
              "    }\n",
              "</style>\n",
              "<table border=\"1\" class=\"dataframe\">\n",
              "  <thead>\n",
              "    <tr style=\"text-align: right;\">\n",
              "      <th></th>\n",
              "      <th>AF3</th>\n",
              "      <th>F7</th>\n",
              "      <th>F3</th>\n",
              "      <th>FC5</th>\n",
              "      <th>T7</th>\n",
              "      <th>P7</th>\n",
              "      <th>O1</th>\n",
              "      <th>O2</th>\n",
              "      <th>P8</th>\n",
              "      <th>T8</th>\n",
              "      <th>FC6</th>\n",
              "      <th>F4</th>\n",
              "      <th>F8</th>\n",
              "      <th>AF4</th>\n",
              "      <th>eyeDetection</th>\n",
              "    </tr>\n",
              "  </thead>\n",
              "  <tbody>\n",
              "    <tr>\n",
              "      <th>0</th>\n",
              "      <td>4329.23</td>\n",
              "      <td>4009.23</td>\n",
              "      <td>4289.23</td>\n",
              "      <td>4148.21</td>\n",
              "      <td>4350.26</td>\n",
              "      <td>4586.15</td>\n",
              "      <td>4096.92</td>\n",
              "      <td>4641.03</td>\n",
              "      <td>4222.05</td>\n",
              "      <td>4238.46</td>\n",
              "      <td>4211.28</td>\n",
              "      <td>4280.51</td>\n",
              "      <td>4635.90</td>\n",
              "      <td>4393.85</td>\n",
              "      <td>0</td>\n",
              "    </tr>\n",
              "    <tr>\n",
              "      <th>1</th>\n",
              "      <td>4324.62</td>\n",
              "      <td>4004.62</td>\n",
              "      <td>4293.85</td>\n",
              "      <td>4148.72</td>\n",
              "      <td>4342.05</td>\n",
              "      <td>4586.67</td>\n",
              "      <td>4097.44</td>\n",
              "      <td>4638.97</td>\n",
              "      <td>4210.77</td>\n",
              "      <td>4226.67</td>\n",
              "      <td>4207.69</td>\n",
              "      <td>4279.49</td>\n",
              "      <td>4632.82</td>\n",
              "      <td>4384.10</td>\n",
              "      <td>0</td>\n",
              "    </tr>\n",
              "    <tr>\n",
              "      <th>2</th>\n",
              "      <td>4327.69</td>\n",
              "      <td>4006.67</td>\n",
              "      <td>4295.38</td>\n",
              "      <td>4156.41</td>\n",
              "      <td>4336.92</td>\n",
              "      <td>4583.59</td>\n",
              "      <td>4096.92</td>\n",
              "      <td>4630.26</td>\n",
              "      <td>4207.69</td>\n",
              "      <td>4222.05</td>\n",
              "      <td>4206.67</td>\n",
              "      <td>4282.05</td>\n",
              "      <td>4628.72</td>\n",
              "      <td>4389.23</td>\n",
              "      <td>0</td>\n",
              "    </tr>\n",
              "    <tr>\n",
              "      <th>3</th>\n",
              "      <td>4328.72</td>\n",
              "      <td>4011.79</td>\n",
              "      <td>4296.41</td>\n",
              "      <td>4155.90</td>\n",
              "      <td>4343.59</td>\n",
              "      <td>4582.56</td>\n",
              "      <td>4097.44</td>\n",
              "      <td>4630.77</td>\n",
              "      <td>4217.44</td>\n",
              "      <td>4235.38</td>\n",
              "      <td>4210.77</td>\n",
              "      <td>4287.69</td>\n",
              "      <td>4632.31</td>\n",
              "      <td>4396.41</td>\n",
              "      <td>0</td>\n",
              "    </tr>\n",
              "    <tr>\n",
              "      <th>4</th>\n",
              "      <td>4326.15</td>\n",
              "      <td>4011.79</td>\n",
              "      <td>4292.31</td>\n",
              "      <td>4151.28</td>\n",
              "      <td>4347.69</td>\n",
              "      <td>4586.67</td>\n",
              "      <td>4095.90</td>\n",
              "      <td>4627.69</td>\n",
              "      <td>4210.77</td>\n",
              "      <td>4244.10</td>\n",
              "      <td>4212.82</td>\n",
              "      <td>4288.21</td>\n",
              "      <td>4632.82</td>\n",
              "      <td>4398.46</td>\n",
              "      <td>0</td>\n",
              "    </tr>\n",
              "    <tr>\n",
              "      <th>...</th>\n",
              "      <td>...</td>\n",
              "      <td>...</td>\n",
              "      <td>...</td>\n",
              "      <td>...</td>\n",
              "      <td>...</td>\n",
              "      <td>...</td>\n",
              "      <td>...</td>\n",
              "      <td>...</td>\n",
              "      <td>...</td>\n",
              "      <td>...</td>\n",
              "      <td>...</td>\n",
              "      <td>...</td>\n",
              "      <td>...</td>\n",
              "      <td>...</td>\n",
              "      <td>...</td>\n",
              "    </tr>\n",
              "    <tr>\n",
              "      <th>14975</th>\n",
              "      <td>4281.03</td>\n",
              "      <td>3990.26</td>\n",
              "      <td>4245.64</td>\n",
              "      <td>4116.92</td>\n",
              "      <td>4333.85</td>\n",
              "      <td>4614.36</td>\n",
              "      <td>4074.87</td>\n",
              "      <td>4625.64</td>\n",
              "      <td>4203.08</td>\n",
              "      <td>4221.54</td>\n",
              "      <td>4171.28</td>\n",
              "      <td>4269.23</td>\n",
              "      <td>4593.33</td>\n",
              "      <td>4340.51</td>\n",
              "      <td>1</td>\n",
              "    </tr>\n",
              "    <tr>\n",
              "      <th>14976</th>\n",
              "      <td>4276.92</td>\n",
              "      <td>3991.79</td>\n",
              "      <td>4245.13</td>\n",
              "      <td>4110.77</td>\n",
              "      <td>4332.82</td>\n",
              "      <td>4615.38</td>\n",
              "      <td>4073.33</td>\n",
              "      <td>4621.54</td>\n",
              "      <td>4194.36</td>\n",
              "      <td>4217.44</td>\n",
              "      <td>4162.56</td>\n",
              "      <td>4259.49</td>\n",
              "      <td>4590.26</td>\n",
              "      <td>4333.33</td>\n",
              "      <td>1</td>\n",
              "    </tr>\n",
              "    <tr>\n",
              "      <th>14977</th>\n",
              "      <td>4277.44</td>\n",
              "      <td>3990.77</td>\n",
              "      <td>4246.67</td>\n",
              "      <td>4113.85</td>\n",
              "      <td>4333.33</td>\n",
              "      <td>4615.38</td>\n",
              "      <td>4072.82</td>\n",
              "      <td>4623.59</td>\n",
              "      <td>4193.33</td>\n",
              "      <td>4212.82</td>\n",
              "      <td>4160.51</td>\n",
              "      <td>4257.95</td>\n",
              "      <td>4591.79</td>\n",
              "      <td>4339.49</td>\n",
              "      <td>1</td>\n",
              "    </tr>\n",
              "    <tr>\n",
              "      <th>14978</th>\n",
              "      <td>4284.62</td>\n",
              "      <td>3991.79</td>\n",
              "      <td>4251.28</td>\n",
              "      <td>4122.05</td>\n",
              "      <td>4334.36</td>\n",
              "      <td>4616.41</td>\n",
              "      <td>4080.51</td>\n",
              "      <td>4628.72</td>\n",
              "      <td>4200.00</td>\n",
              "      <td>4220.00</td>\n",
              "      <td>4165.64</td>\n",
              "      <td>4267.18</td>\n",
              "      <td>4596.41</td>\n",
              "      <td>4350.77</td>\n",
              "      <td>1</td>\n",
              "    </tr>\n",
              "    <tr>\n",
              "      <th>14979</th>\n",
              "      <td>4287.69</td>\n",
              "      <td>3997.44</td>\n",
              "      <td>4260.00</td>\n",
              "      <td>4121.03</td>\n",
              "      <td>4333.33</td>\n",
              "      <td>4616.41</td>\n",
              "      <td>4088.72</td>\n",
              "      <td>4638.46</td>\n",
              "      <td>4212.31</td>\n",
              "      <td>4226.67</td>\n",
              "      <td>4167.69</td>\n",
              "      <td>4274.36</td>\n",
              "      <td>4597.95</td>\n",
              "      <td>4350.77</td>\n",
              "      <td>1</td>\n",
              "    </tr>\n",
              "  </tbody>\n",
              "</table>\n",
              "<p>14980 rows × 15 columns</p>\n",
              "</div>\n",
              "    <div class=\"colab-df-buttons\">\n",
              "\n",
              "  <div class=\"colab-df-container\">\n",
              "    <button class=\"colab-df-convert\" onclick=\"convertToInteractive('df-ace499d1-7d43-48c3-8114-1ab3e2105f37')\"\n",
              "            title=\"Convert this dataframe to an interactive table.\"\n",
              "            style=\"display:none;\">\n",
              "\n",
              "  <svg xmlns=\"http://www.w3.org/2000/svg\" height=\"24px\" viewBox=\"0 -960 960 960\">\n",
              "    <path d=\"M120-120v-720h720v720H120Zm60-500h600v-160H180v160Zm220 220h160v-160H400v160Zm0 220h160v-160H400v160ZM180-400h160v-160H180v160Zm440 0h160v-160H620v160ZM180-180h160v-160H180v160Zm440 0h160v-160H620v160Z\"/>\n",
              "  </svg>\n",
              "    </button>\n",
              "\n",
              "  <style>\n",
              "    .colab-df-container {\n",
              "      display:flex;\n",
              "      gap: 12px;\n",
              "    }\n",
              "\n",
              "    .colab-df-convert {\n",
              "      background-color: #E8F0FE;\n",
              "      border: none;\n",
              "      border-radius: 50%;\n",
              "      cursor: pointer;\n",
              "      display: none;\n",
              "      fill: #1967D2;\n",
              "      height: 32px;\n",
              "      padding: 0 0 0 0;\n",
              "      width: 32px;\n",
              "    }\n",
              "\n",
              "    .colab-df-convert:hover {\n",
              "      background-color: #E2EBFA;\n",
              "      box-shadow: 0px 1px 2px rgba(60, 64, 67, 0.3), 0px 1px 3px 1px rgba(60, 64, 67, 0.15);\n",
              "      fill: #174EA6;\n",
              "    }\n",
              "\n",
              "    .colab-df-buttons div {\n",
              "      margin-bottom: 4px;\n",
              "    }\n",
              "\n",
              "    [theme=dark] .colab-df-convert {\n",
              "      background-color: #3B4455;\n",
              "      fill: #D2E3FC;\n",
              "    }\n",
              "\n",
              "    [theme=dark] .colab-df-convert:hover {\n",
              "      background-color: #434B5C;\n",
              "      box-shadow: 0px 1px 3px 1px rgba(0, 0, 0, 0.15);\n",
              "      filter: drop-shadow(0px 1px 2px rgba(0, 0, 0, 0.3));\n",
              "      fill: #FFFFFF;\n",
              "    }\n",
              "  </style>\n",
              "\n",
              "    <script>\n",
              "      const buttonEl =\n",
              "        document.querySelector('#df-ace499d1-7d43-48c3-8114-1ab3e2105f37 button.colab-df-convert');\n",
              "      buttonEl.style.display =\n",
              "        google.colab.kernel.accessAllowed ? 'block' : 'none';\n",
              "\n",
              "      async function convertToInteractive(key) {\n",
              "        const element = document.querySelector('#df-ace499d1-7d43-48c3-8114-1ab3e2105f37');\n",
              "        const dataTable =\n",
              "          await google.colab.kernel.invokeFunction('convertToInteractive',\n",
              "                                                    [key], {});\n",
              "        if (!dataTable) return;\n",
              "\n",
              "        const docLinkHtml = 'Like what you see? Visit the ' +\n",
              "          '<a target=\"_blank\" href=https://colab.research.google.com/notebooks/data_table.ipynb>data table notebook</a>'\n",
              "          + ' to learn more about interactive tables.';\n",
              "        element.innerHTML = '';\n",
              "        dataTable['output_type'] = 'display_data';\n",
              "        await google.colab.output.renderOutput(dataTable, element);\n",
              "        const docLink = document.createElement('div');\n",
              "        docLink.innerHTML = docLinkHtml;\n",
              "        element.appendChild(docLink);\n",
              "      }\n",
              "    </script>\n",
              "  </div>\n",
              "\n",
              "\n",
              "<div id=\"df-9b3c46a0-26b6-402c-9e54-43c6cb6f94fe\">\n",
              "  <button class=\"colab-df-quickchart\" onclick=\"quickchart('df-9b3c46a0-26b6-402c-9e54-43c6cb6f94fe')\"\n",
              "            title=\"Suggest charts\"\n",
              "            style=\"display:none;\">\n",
              "\n",
              "<svg xmlns=\"http://www.w3.org/2000/svg\" height=\"24px\"viewBox=\"0 0 24 24\"\n",
              "     width=\"24px\">\n",
              "    <g>\n",
              "        <path d=\"M19 3H5c-1.1 0-2 .9-2 2v14c0 1.1.9 2 2 2h14c1.1 0 2-.9 2-2V5c0-1.1-.9-2-2-2zM9 17H7v-7h2v7zm4 0h-2V7h2v10zm4 0h-2v-4h2v4z\"/>\n",
              "    </g>\n",
              "</svg>\n",
              "  </button>\n",
              "\n",
              "<style>\n",
              "  .colab-df-quickchart {\n",
              "      --bg-color: #E8F0FE;\n",
              "      --fill-color: #1967D2;\n",
              "      --hover-bg-color: #E2EBFA;\n",
              "      --hover-fill-color: #174EA6;\n",
              "      --disabled-fill-color: #AAA;\n",
              "      --disabled-bg-color: #DDD;\n",
              "  }\n",
              "\n",
              "  [theme=dark] .colab-df-quickchart {\n",
              "      --bg-color: #3B4455;\n",
              "      --fill-color: #D2E3FC;\n",
              "      --hover-bg-color: #434B5C;\n",
              "      --hover-fill-color: #FFFFFF;\n",
              "      --disabled-bg-color: #3B4455;\n",
              "      --disabled-fill-color: #666;\n",
              "  }\n",
              "\n",
              "  .colab-df-quickchart {\n",
              "    background-color: var(--bg-color);\n",
              "    border: none;\n",
              "    border-radius: 50%;\n",
              "    cursor: pointer;\n",
              "    display: none;\n",
              "    fill: var(--fill-color);\n",
              "    height: 32px;\n",
              "    padding: 0;\n",
              "    width: 32px;\n",
              "  }\n",
              "\n",
              "  .colab-df-quickchart:hover {\n",
              "    background-color: var(--hover-bg-color);\n",
              "    box-shadow: 0 1px 2px rgba(60, 64, 67, 0.3), 0 1px 3px 1px rgba(60, 64, 67, 0.15);\n",
              "    fill: var(--button-hover-fill-color);\n",
              "  }\n",
              "\n",
              "  .colab-df-quickchart-complete:disabled,\n",
              "  .colab-df-quickchart-complete:disabled:hover {\n",
              "    background-color: var(--disabled-bg-color);\n",
              "    fill: var(--disabled-fill-color);\n",
              "    box-shadow: none;\n",
              "  }\n",
              "\n",
              "  .colab-df-spinner {\n",
              "    border: 2px solid var(--fill-color);\n",
              "    border-color: transparent;\n",
              "    border-bottom-color: var(--fill-color);\n",
              "    animation:\n",
              "      spin 1s steps(1) infinite;\n",
              "  }\n",
              "\n",
              "  @keyframes spin {\n",
              "    0% {\n",
              "      border-color: transparent;\n",
              "      border-bottom-color: var(--fill-color);\n",
              "      border-left-color: var(--fill-color);\n",
              "    }\n",
              "    20% {\n",
              "      border-color: transparent;\n",
              "      border-left-color: var(--fill-color);\n",
              "      border-top-color: var(--fill-color);\n",
              "    }\n",
              "    30% {\n",
              "      border-color: transparent;\n",
              "      border-left-color: var(--fill-color);\n",
              "      border-top-color: var(--fill-color);\n",
              "      border-right-color: var(--fill-color);\n",
              "    }\n",
              "    40% {\n",
              "      border-color: transparent;\n",
              "      border-right-color: var(--fill-color);\n",
              "      border-top-color: var(--fill-color);\n",
              "    }\n",
              "    60% {\n",
              "      border-color: transparent;\n",
              "      border-right-color: var(--fill-color);\n",
              "    }\n",
              "    80% {\n",
              "      border-color: transparent;\n",
              "      border-right-color: var(--fill-color);\n",
              "      border-bottom-color: var(--fill-color);\n",
              "    }\n",
              "    90% {\n",
              "      border-color: transparent;\n",
              "      border-bottom-color: var(--fill-color);\n",
              "    }\n",
              "  }\n",
              "</style>\n",
              "\n",
              "  <script>\n",
              "    async function quickchart(key) {\n",
              "      const quickchartButtonEl =\n",
              "        document.querySelector('#' + key + ' button');\n",
              "      quickchartButtonEl.disabled = true;  // To prevent multiple clicks.\n",
              "      quickchartButtonEl.classList.add('colab-df-spinner');\n",
              "      try {\n",
              "        const charts = await google.colab.kernel.invokeFunction(\n",
              "            'suggestCharts', [key], {});\n",
              "      } catch (error) {\n",
              "        console.error('Error during call to suggestCharts:', error);\n",
              "      }\n",
              "      quickchartButtonEl.classList.remove('colab-df-spinner');\n",
              "      quickchartButtonEl.classList.add('colab-df-quickchart-complete');\n",
              "    }\n",
              "    (() => {\n",
              "      let quickchartButtonEl =\n",
              "        document.querySelector('#df-9b3c46a0-26b6-402c-9e54-43c6cb6f94fe button');\n",
              "      quickchartButtonEl.style.display =\n",
              "        google.colab.kernel.accessAllowed ? 'block' : 'none';\n",
              "    })();\n",
              "  </script>\n",
              "</div>\n",
              "\n",
              "  <div id=\"id_34798838-684e-4386-98da-e361bb603c3f\">\n",
              "    <style>\n",
              "      .colab-df-generate {\n",
              "        background-color: #E8F0FE;\n",
              "        border: none;\n",
              "        border-radius: 50%;\n",
              "        cursor: pointer;\n",
              "        display: none;\n",
              "        fill: #1967D2;\n",
              "        height: 32px;\n",
              "        padding: 0 0 0 0;\n",
              "        width: 32px;\n",
              "      }\n",
              "\n",
              "      .colab-df-generate:hover {\n",
              "        background-color: #E2EBFA;\n",
              "        box-shadow: 0px 1px 2px rgba(60, 64, 67, 0.3), 0px 1px 3px 1px rgba(60, 64, 67, 0.15);\n",
              "        fill: #174EA6;\n",
              "      }\n",
              "\n",
              "      [theme=dark] .colab-df-generate {\n",
              "        background-color: #3B4455;\n",
              "        fill: #D2E3FC;\n",
              "      }\n",
              "\n",
              "      [theme=dark] .colab-df-generate:hover {\n",
              "        background-color: #434B5C;\n",
              "        box-shadow: 0px 1px 3px 1px rgba(0, 0, 0, 0.15);\n",
              "        filter: drop-shadow(0px 1px 2px rgba(0, 0, 0, 0.3));\n",
              "        fill: #FFFFFF;\n",
              "      }\n",
              "    </style>\n",
              "    <button class=\"colab-df-generate\" onclick=\"generateWithVariable('train')\"\n",
              "            title=\"Generate code using this dataframe.\"\n",
              "            style=\"display:none;\">\n",
              "\n",
              "  <svg xmlns=\"http://www.w3.org/2000/svg\" height=\"24px\"viewBox=\"0 0 24 24\"\n",
              "       width=\"24px\">\n",
              "    <path d=\"M7,19H8.4L18.45,9,17,7.55,7,17.6ZM5,21V16.75L18.45,3.32a2,2,0,0,1,2.83,0l1.4,1.43a1.91,1.91,0,0,1,.58,1.4,1.91,1.91,0,0,1-.58,1.4L9.25,21ZM18.45,9,17,7.55Zm-12,3A5.31,5.31,0,0,0,4.9,8.1,5.31,5.31,0,0,0,1,6.5,5.31,5.31,0,0,0,4.9,4.9,5.31,5.31,0,0,0,6.5,1,5.31,5.31,0,0,0,8.1,4.9,5.31,5.31,0,0,0,12,6.5,5.46,5.46,0,0,0,6.5,12Z\"/>\n",
              "  </svg>\n",
              "    </button>\n",
              "    <script>\n",
              "      (() => {\n",
              "      const buttonEl =\n",
              "        document.querySelector('#id_34798838-684e-4386-98da-e361bb603c3f button.colab-df-generate');\n",
              "      buttonEl.style.display =\n",
              "        google.colab.kernel.accessAllowed ? 'block' : 'none';\n",
              "\n",
              "      buttonEl.onclick = () => {\n",
              "        google.colab.notebook.generateWithVariable('train');\n",
              "      }\n",
              "      })();\n",
              "    </script>\n",
              "  </div>\n",
              "\n",
              "    </div>\n",
              "  </div>\n"
            ],
            "application/vnd.google.colaboratory.intrinsic+json": {
              "type": "dataframe",
              "variable_name": "train",
              "summary": "{\n  \"name\": \"train\",\n  \"rows\": 14980,\n  \"fields\": [\n    {\n      \"column\": \"AF3\",\n      \"properties\": {\n        \"dtype\": \"number\",\n        \"std\": 2492.0721742650967,\n        \"min\": 1030.77,\n        \"max\": 309231.0,\n        \"num_unique_values\": 548,\n        \"samples\": [\n          4257.95,\n          4458.46,\n          4256.92\n        ],\n        \"semantic_type\": \"\",\n        \"description\": \"\"\n      }\n    },\n    {\n      \"column\": \"F7\",\n      \"properties\": {\n        \"dtype\": \"number\",\n        \"std\": 45.94167248479191,\n        \"min\": 2830.77,\n        \"max\": 7804.62,\n        \"num_unique_values\": 452,\n        \"samples\": [\n          4078.46,\n          4017.44,\n          4098.46\n        ],\n        \"semantic_type\": \"\",\n        \"description\": \"\"\n      }\n    },\n    {\n      \"column\": \"F3\",\n      \"properties\": {\n        \"dtype\": \"number\",\n        \"std\": 44.428051757419404,\n        \"min\": 1040.0,\n        \"max\": 6880.51,\n        \"num_unique_values\": 345,\n        \"samples\": [\n          4295.9,\n          4307.18,\n          4385.64\n        ],\n        \"semantic_type\": \"\",\n        \"description\": \"\"\n      }\n    },\n    {\n      \"column\": \"FC5\",\n      \"properties\": {\n        \"dtype\": \"number\",\n        \"std\": 5216.404632299904,\n        \"min\": 2453.33,\n        \"max\": 642564.0,\n        \"num_unique_values\": 312,\n        \"samples\": [\n          4162.05,\n          4142.05,\n          4114.36\n        ],\n        \"semantic_type\": \"\",\n        \"description\": \"\"\n      }\n    },\n    {\n      \"column\": \"T7\",\n      \"properties\": {\n        \"dtype\": \"number\",\n        \"std\": 34.73882081848662,\n        \"min\": 2089.74,\n        \"max\": 6474.36,\n        \"num_unique_values\": 285,\n        \"samples\": [\n          4339.49,\n          4427.69,\n          4447.18\n        ],\n        \"semantic_type\": \"\",\n        \"description\": \"\"\n      }\n    },\n    {\n      \"column\": \"P7\",\n      \"properties\": {\n        \"dtype\": \"number\",\n        \"std\": 2924.789537325123,\n        \"min\": 2768.21,\n        \"max\": 362564.0,\n        \"num_unique_values\": 330,\n        \"samples\": [\n          4581.54,\n          4651.79,\n          4570.77\n        ],\n        \"semantic_type\": \"\",\n        \"description\": \"\"\n      }\n    },\n    {\n      \"column\": \"O1\",\n      \"properties\": {\n        \"dtype\": \"number\",\n        \"std\": 4600.926542533788,\n        \"min\": 2086.15,\n        \"max\": 567179.0,\n        \"num_unique_values\": 290,\n        \"samples\": [\n          4098.46,\n          4134.87,\n          4078.97\n        ],\n        \"semantic_type\": \"\",\n        \"description\": \"\"\n      }\n    },\n    {\n      \"column\": \"O2\",\n      \"properties\": {\n        \"dtype\": \"number\",\n        \"std\": 29.292603201776213,\n        \"min\": 4567.18,\n        \"max\": 7264.1,\n        \"num_unique_values\": 294,\n        \"samples\": [\n          4609.74,\n          4608.72,\n          4583.59\n        ],\n        \"semantic_type\": \"\",\n        \"description\": \"\"\n      }\n    },\n    {\n      \"column\": \"P8\",\n      \"properties\": {\n        \"dtype\": \"number\",\n        \"std\": 2136.408522887388,\n        \"min\": 1357.95,\n        \"max\": 265641.0,\n        \"num_unique_values\": 304,\n        \"samples\": [\n          4238.97,\n          4170.77,\n          4234.87\n        ],\n        \"semantic_type\": \"\",\n        \"description\": \"\"\n      }\n    },\n    {\n      \"column\": \"T8\",\n      \"properties\": {\n        \"dtype\": \"number\",\n        \"std\": 38.050902621216295,\n        \"min\": 1816.41,\n        \"max\": 6674.36,\n        \"num_unique_values\": 346,\n        \"samples\": [\n          4256.41,\n          4193.85,\n          4330.77\n        ],\n        \"semantic_type\": \"\",\n        \"description\": \"\"\n      }\n    },\n    {\n      \"column\": \"FC6\",\n      \"properties\": {\n        \"dtype\": \"number\",\n        \"std\": 37.78598137403711,\n        \"min\": 3273.33,\n        \"max\": 6823.08,\n        \"num_unique_values\": 419,\n        \"samples\": [\n          4173.85,\n          4148.72,\n          4231.28\n        ],\n        \"semantic_type\": \"\",\n        \"description\": \"\"\n      }\n    },\n    {\n      \"column\": \"F4\",\n      \"properties\": {\n        \"dtype\": \"number\",\n        \"std\": 41.544311516664244,\n        \"min\": 2257.95,\n        \"max\": 7002.56,\n        \"num_unique_values\": 343,\n        \"samples\": [\n          4238.46,\n          4323.08,\n          4328.72\n        ],\n        \"semantic_type\": \"\",\n        \"description\": \"\"\n      }\n    },\n    {\n      \"column\": \"F8\",\n      \"properties\": {\n        \"dtype\": \"number\",\n        \"std\": 1208.3699582560432,\n        \"min\": 86.6667,\n        \"max\": 152308.0,\n        \"num_unique_values\": 558,\n        \"samples\": [\n          4667.69,\n          4475.9,\n          4640.0\n        ],\n        \"semantic_type\": \"\",\n        \"description\": \"\"\n      }\n    },\n    {\n      \"column\": \"AF4\",\n      \"properties\": {\n        \"dtype\": \"number\",\n        \"std\": 5891.285042523523,\n        \"min\": 1366.15,\n        \"max\": 715897.0,\n        \"num_unique_values\": 592,\n        \"samples\": [\n          4456.92,\n          4539.49,\n          4402.56\n        ],\n        \"semantic_type\": \"\",\n        \"description\": \"\"\n      }\n    },\n    {\n      \"column\": \"eyeDetection\",\n      \"properties\": {\n        \"dtype\": \"category\",\n        \"num_unique_values\": 2,\n        \"samples\": [\n          \"1\",\n          \"0\"\n        ],\n        \"semantic_type\": \"\",\n        \"description\": \"\"\n      }\n    }\n  ]\n}"
            }
          },
          "metadata": {},
          "execution_count": 4
        }
      ],
      "source": [
        "df = train\n",
        "df"
      ]
    },
    {
      "cell_type": "markdown",
      "metadata": {
        "id": "S41pxHVJ5epZ"
      },
      "source": [
        "### Creating X and Y"
      ]
    },
    {
      "cell_type": "code",
      "execution_count": null,
      "metadata": {
        "id": "DjnxZvhpgqKy"
      },
      "outputs": [],
      "source": [
        "x = df.iloc[:, :-1]\n",
        "y = df.iloc[:,-1:]"
      ]
    },
    {
      "cell_type": "code",
      "execution_count": null,
      "metadata": {
        "colab": {
          "base_uri": "https://localhost:8080/"
        },
        "id": "BVr2ve7Ckp1U",
        "outputId": "9921119f-0fa3-4506-ee90-398ae54a4f50"
      },
      "outputs": [
        {
          "output_type": "execute_result",
          "data": {
            "text/plain": [
              "           AF3       F7       F3      FC5       T7       P7       O1       O2  \\\n",
              "0      4329.23  4009.23  4289.23  4148.21  4350.26  4586.15  4096.92  4641.03   \n",
              "1      4324.62  4004.62  4293.85  4148.72  4342.05  4586.67  4097.44  4638.97   \n",
              "2      4327.69  4006.67  4295.38  4156.41  4336.92  4583.59  4096.92  4630.26   \n",
              "3      4328.72  4011.79  4296.41  4155.90  4343.59  4582.56  4097.44  4630.77   \n",
              "4      4326.15  4011.79  4292.31  4151.28  4347.69  4586.67  4095.90  4627.69   \n",
              "...        ...      ...      ...      ...      ...      ...      ...      ...   \n",
              "14975  4281.03  3990.26  4245.64  4116.92  4333.85  4614.36  4074.87  4625.64   \n",
              "14976  4276.92  3991.79  4245.13  4110.77  4332.82  4615.38  4073.33  4621.54   \n",
              "14977  4277.44  3990.77  4246.67  4113.85  4333.33  4615.38  4072.82  4623.59   \n",
              "14978  4284.62  3991.79  4251.28  4122.05  4334.36  4616.41  4080.51  4628.72   \n",
              "14979  4287.69  3997.44  4260.00  4121.03  4333.33  4616.41  4088.72  4638.46   \n",
              "\n",
              "            P8       T8      FC6       F4       F8      AF4  \n",
              "0      4222.05  4238.46  4211.28  4280.51  4635.90  4393.85  \n",
              "1      4210.77  4226.67  4207.69  4279.49  4632.82  4384.10  \n",
              "2      4207.69  4222.05  4206.67  4282.05  4628.72  4389.23  \n",
              "3      4217.44  4235.38  4210.77  4287.69  4632.31  4396.41  \n",
              "4      4210.77  4244.10  4212.82  4288.21  4632.82  4398.46  \n",
              "...        ...      ...      ...      ...      ...      ...  \n",
              "14975  4203.08  4221.54  4171.28  4269.23  4593.33  4340.51  \n",
              "14976  4194.36  4217.44  4162.56  4259.49  4590.26  4333.33  \n",
              "14977  4193.33  4212.82  4160.51  4257.95  4591.79  4339.49  \n",
              "14978  4200.00  4220.00  4165.64  4267.18  4596.41  4350.77  \n",
              "14979  4212.31  4226.67  4167.69  4274.36  4597.95  4350.77  \n",
              "\n",
              "[14980 rows x 14 columns]"
            ],
            "text/html": [
              "\n",
              "  <div id=\"df-690db204-daf7-40c3-ba80-61d723bea7a6\" class=\"colab-df-container\">\n",
              "    <div>\n",
              "<style scoped>\n",
              "    .dataframe tbody tr th:only-of-type {\n",
              "        vertical-align: middle;\n",
              "    }\n",
              "\n",
              "    .dataframe tbody tr th {\n",
              "        vertical-align: top;\n",
              "    }\n",
              "\n",
              "    .dataframe thead th {\n",
              "        text-align: right;\n",
              "    }\n",
              "</style>\n",
              "<table border=\"1\" class=\"dataframe\">\n",
              "  <thead>\n",
              "    <tr style=\"text-align: right;\">\n",
              "      <th></th>\n",
              "      <th>AF3</th>\n",
              "      <th>F7</th>\n",
              "      <th>F3</th>\n",
              "      <th>FC5</th>\n",
              "      <th>T7</th>\n",
              "      <th>P7</th>\n",
              "      <th>O1</th>\n",
              "      <th>O2</th>\n",
              "      <th>P8</th>\n",
              "      <th>T8</th>\n",
              "      <th>FC6</th>\n",
              "      <th>F4</th>\n",
              "      <th>F8</th>\n",
              "      <th>AF4</th>\n",
              "    </tr>\n",
              "  </thead>\n",
              "  <tbody>\n",
              "    <tr>\n",
              "      <th>0</th>\n",
              "      <td>4329.23</td>\n",
              "      <td>4009.23</td>\n",
              "      <td>4289.23</td>\n",
              "      <td>4148.21</td>\n",
              "      <td>4350.26</td>\n",
              "      <td>4586.15</td>\n",
              "      <td>4096.92</td>\n",
              "      <td>4641.03</td>\n",
              "      <td>4222.05</td>\n",
              "      <td>4238.46</td>\n",
              "      <td>4211.28</td>\n",
              "      <td>4280.51</td>\n",
              "      <td>4635.90</td>\n",
              "      <td>4393.85</td>\n",
              "    </tr>\n",
              "    <tr>\n",
              "      <th>1</th>\n",
              "      <td>4324.62</td>\n",
              "      <td>4004.62</td>\n",
              "      <td>4293.85</td>\n",
              "      <td>4148.72</td>\n",
              "      <td>4342.05</td>\n",
              "      <td>4586.67</td>\n",
              "      <td>4097.44</td>\n",
              "      <td>4638.97</td>\n",
              "      <td>4210.77</td>\n",
              "      <td>4226.67</td>\n",
              "      <td>4207.69</td>\n",
              "      <td>4279.49</td>\n",
              "      <td>4632.82</td>\n",
              "      <td>4384.10</td>\n",
              "    </tr>\n",
              "    <tr>\n",
              "      <th>2</th>\n",
              "      <td>4327.69</td>\n",
              "      <td>4006.67</td>\n",
              "      <td>4295.38</td>\n",
              "      <td>4156.41</td>\n",
              "      <td>4336.92</td>\n",
              "      <td>4583.59</td>\n",
              "      <td>4096.92</td>\n",
              "      <td>4630.26</td>\n",
              "      <td>4207.69</td>\n",
              "      <td>4222.05</td>\n",
              "      <td>4206.67</td>\n",
              "      <td>4282.05</td>\n",
              "      <td>4628.72</td>\n",
              "      <td>4389.23</td>\n",
              "    </tr>\n",
              "    <tr>\n",
              "      <th>3</th>\n",
              "      <td>4328.72</td>\n",
              "      <td>4011.79</td>\n",
              "      <td>4296.41</td>\n",
              "      <td>4155.90</td>\n",
              "      <td>4343.59</td>\n",
              "      <td>4582.56</td>\n",
              "      <td>4097.44</td>\n",
              "      <td>4630.77</td>\n",
              "      <td>4217.44</td>\n",
              "      <td>4235.38</td>\n",
              "      <td>4210.77</td>\n",
              "      <td>4287.69</td>\n",
              "      <td>4632.31</td>\n",
              "      <td>4396.41</td>\n",
              "    </tr>\n",
              "    <tr>\n",
              "      <th>4</th>\n",
              "      <td>4326.15</td>\n",
              "      <td>4011.79</td>\n",
              "      <td>4292.31</td>\n",
              "      <td>4151.28</td>\n",
              "      <td>4347.69</td>\n",
              "      <td>4586.67</td>\n",
              "      <td>4095.90</td>\n",
              "      <td>4627.69</td>\n",
              "      <td>4210.77</td>\n",
              "      <td>4244.10</td>\n",
              "      <td>4212.82</td>\n",
              "      <td>4288.21</td>\n",
              "      <td>4632.82</td>\n",
              "      <td>4398.46</td>\n",
              "    </tr>\n",
              "    <tr>\n",
              "      <th>...</th>\n",
              "      <td>...</td>\n",
              "      <td>...</td>\n",
              "      <td>...</td>\n",
              "      <td>...</td>\n",
              "      <td>...</td>\n",
              "      <td>...</td>\n",
              "      <td>...</td>\n",
              "      <td>...</td>\n",
              "      <td>...</td>\n",
              "      <td>...</td>\n",
              "      <td>...</td>\n",
              "      <td>...</td>\n",
              "      <td>...</td>\n",
              "      <td>...</td>\n",
              "    </tr>\n",
              "    <tr>\n",
              "      <th>14975</th>\n",
              "      <td>4281.03</td>\n",
              "      <td>3990.26</td>\n",
              "      <td>4245.64</td>\n",
              "      <td>4116.92</td>\n",
              "      <td>4333.85</td>\n",
              "      <td>4614.36</td>\n",
              "      <td>4074.87</td>\n",
              "      <td>4625.64</td>\n",
              "      <td>4203.08</td>\n",
              "      <td>4221.54</td>\n",
              "      <td>4171.28</td>\n",
              "      <td>4269.23</td>\n",
              "      <td>4593.33</td>\n",
              "      <td>4340.51</td>\n",
              "    </tr>\n",
              "    <tr>\n",
              "      <th>14976</th>\n",
              "      <td>4276.92</td>\n",
              "      <td>3991.79</td>\n",
              "      <td>4245.13</td>\n",
              "      <td>4110.77</td>\n",
              "      <td>4332.82</td>\n",
              "      <td>4615.38</td>\n",
              "      <td>4073.33</td>\n",
              "      <td>4621.54</td>\n",
              "      <td>4194.36</td>\n",
              "      <td>4217.44</td>\n",
              "      <td>4162.56</td>\n",
              "      <td>4259.49</td>\n",
              "      <td>4590.26</td>\n",
              "      <td>4333.33</td>\n",
              "    </tr>\n",
              "    <tr>\n",
              "      <th>14977</th>\n",
              "      <td>4277.44</td>\n",
              "      <td>3990.77</td>\n",
              "      <td>4246.67</td>\n",
              "      <td>4113.85</td>\n",
              "      <td>4333.33</td>\n",
              "      <td>4615.38</td>\n",
              "      <td>4072.82</td>\n",
              "      <td>4623.59</td>\n",
              "      <td>4193.33</td>\n",
              "      <td>4212.82</td>\n",
              "      <td>4160.51</td>\n",
              "      <td>4257.95</td>\n",
              "      <td>4591.79</td>\n",
              "      <td>4339.49</td>\n",
              "    </tr>\n",
              "    <tr>\n",
              "      <th>14978</th>\n",
              "      <td>4284.62</td>\n",
              "      <td>3991.79</td>\n",
              "      <td>4251.28</td>\n",
              "      <td>4122.05</td>\n",
              "      <td>4334.36</td>\n",
              "      <td>4616.41</td>\n",
              "      <td>4080.51</td>\n",
              "      <td>4628.72</td>\n",
              "      <td>4200.00</td>\n",
              "      <td>4220.00</td>\n",
              "      <td>4165.64</td>\n",
              "      <td>4267.18</td>\n",
              "      <td>4596.41</td>\n",
              "      <td>4350.77</td>\n",
              "    </tr>\n",
              "    <tr>\n",
              "      <th>14979</th>\n",
              "      <td>4287.69</td>\n",
              "      <td>3997.44</td>\n",
              "      <td>4260.00</td>\n",
              "      <td>4121.03</td>\n",
              "      <td>4333.33</td>\n",
              "      <td>4616.41</td>\n",
              "      <td>4088.72</td>\n",
              "      <td>4638.46</td>\n",
              "      <td>4212.31</td>\n",
              "      <td>4226.67</td>\n",
              "      <td>4167.69</td>\n",
              "      <td>4274.36</td>\n",
              "      <td>4597.95</td>\n",
              "      <td>4350.77</td>\n",
              "    </tr>\n",
              "  </tbody>\n",
              "</table>\n",
              "<p>14980 rows × 14 columns</p>\n",
              "</div>\n",
              "    <div class=\"colab-df-buttons\">\n",
              "\n",
              "  <div class=\"colab-df-container\">\n",
              "    <button class=\"colab-df-convert\" onclick=\"convertToInteractive('df-690db204-daf7-40c3-ba80-61d723bea7a6')\"\n",
              "            title=\"Convert this dataframe to an interactive table.\"\n",
              "            style=\"display:none;\">\n",
              "\n",
              "  <svg xmlns=\"http://www.w3.org/2000/svg\" height=\"24px\" viewBox=\"0 -960 960 960\">\n",
              "    <path d=\"M120-120v-720h720v720H120Zm60-500h600v-160H180v160Zm220 220h160v-160H400v160Zm0 220h160v-160H400v160ZM180-400h160v-160H180v160Zm440 0h160v-160H620v160ZM180-180h160v-160H180v160Zm440 0h160v-160H620v160Z\"/>\n",
              "  </svg>\n",
              "    </button>\n",
              "\n",
              "  <style>\n",
              "    .colab-df-container {\n",
              "      display:flex;\n",
              "      gap: 12px;\n",
              "    }\n",
              "\n",
              "    .colab-df-convert {\n",
              "      background-color: #E8F0FE;\n",
              "      border: none;\n",
              "      border-radius: 50%;\n",
              "      cursor: pointer;\n",
              "      display: none;\n",
              "      fill: #1967D2;\n",
              "      height: 32px;\n",
              "      padding: 0 0 0 0;\n",
              "      width: 32px;\n",
              "    }\n",
              "\n",
              "    .colab-df-convert:hover {\n",
              "      background-color: #E2EBFA;\n",
              "      box-shadow: 0px 1px 2px rgba(60, 64, 67, 0.3), 0px 1px 3px 1px rgba(60, 64, 67, 0.15);\n",
              "      fill: #174EA6;\n",
              "    }\n",
              "\n",
              "    .colab-df-buttons div {\n",
              "      margin-bottom: 4px;\n",
              "    }\n",
              "\n",
              "    [theme=dark] .colab-df-convert {\n",
              "      background-color: #3B4455;\n",
              "      fill: #D2E3FC;\n",
              "    }\n",
              "\n",
              "    [theme=dark] .colab-df-convert:hover {\n",
              "      background-color: #434B5C;\n",
              "      box-shadow: 0px 1px 3px 1px rgba(0, 0, 0, 0.15);\n",
              "      filter: drop-shadow(0px 1px 2px rgba(0, 0, 0, 0.3));\n",
              "      fill: #FFFFFF;\n",
              "    }\n",
              "  </style>\n",
              "\n",
              "    <script>\n",
              "      const buttonEl =\n",
              "        document.querySelector('#df-690db204-daf7-40c3-ba80-61d723bea7a6 button.colab-df-convert');\n",
              "      buttonEl.style.display =\n",
              "        google.colab.kernel.accessAllowed ? 'block' : 'none';\n",
              "\n",
              "      async function convertToInteractive(key) {\n",
              "        const element = document.querySelector('#df-690db204-daf7-40c3-ba80-61d723bea7a6');\n",
              "        const dataTable =\n",
              "          await google.colab.kernel.invokeFunction('convertToInteractive',\n",
              "                                                    [key], {});\n",
              "        if (!dataTable) return;\n",
              "\n",
              "        const docLinkHtml = 'Like what you see? Visit the ' +\n",
              "          '<a target=\"_blank\" href=https://colab.research.google.com/notebooks/data_table.ipynb>data table notebook</a>'\n",
              "          + ' to learn more about interactive tables.';\n",
              "        element.innerHTML = '';\n",
              "        dataTable['output_type'] = 'display_data';\n",
              "        await google.colab.output.renderOutput(dataTable, element);\n",
              "        const docLink = document.createElement('div');\n",
              "        docLink.innerHTML = docLinkHtml;\n",
              "        element.appendChild(docLink);\n",
              "      }\n",
              "    </script>\n",
              "  </div>\n",
              "\n",
              "\n",
              "<div id=\"df-978d9b1e-b63e-4d70-b547-525e49e52d98\">\n",
              "  <button class=\"colab-df-quickchart\" onclick=\"quickchart('df-978d9b1e-b63e-4d70-b547-525e49e52d98')\"\n",
              "            title=\"Suggest charts\"\n",
              "            style=\"display:none;\">\n",
              "\n",
              "<svg xmlns=\"http://www.w3.org/2000/svg\" height=\"24px\"viewBox=\"0 0 24 24\"\n",
              "     width=\"24px\">\n",
              "    <g>\n",
              "        <path d=\"M19 3H5c-1.1 0-2 .9-2 2v14c0 1.1.9 2 2 2h14c1.1 0 2-.9 2-2V5c0-1.1-.9-2-2-2zM9 17H7v-7h2v7zm4 0h-2V7h2v10zm4 0h-2v-4h2v4z\"/>\n",
              "    </g>\n",
              "</svg>\n",
              "  </button>\n",
              "\n",
              "<style>\n",
              "  .colab-df-quickchart {\n",
              "      --bg-color: #E8F0FE;\n",
              "      --fill-color: #1967D2;\n",
              "      --hover-bg-color: #E2EBFA;\n",
              "      --hover-fill-color: #174EA6;\n",
              "      --disabled-fill-color: #AAA;\n",
              "      --disabled-bg-color: #DDD;\n",
              "  }\n",
              "\n",
              "  [theme=dark] .colab-df-quickchart {\n",
              "      --bg-color: #3B4455;\n",
              "      --fill-color: #D2E3FC;\n",
              "      --hover-bg-color: #434B5C;\n",
              "      --hover-fill-color: #FFFFFF;\n",
              "      --disabled-bg-color: #3B4455;\n",
              "      --disabled-fill-color: #666;\n",
              "  }\n",
              "\n",
              "  .colab-df-quickchart {\n",
              "    background-color: var(--bg-color);\n",
              "    border: none;\n",
              "    border-radius: 50%;\n",
              "    cursor: pointer;\n",
              "    display: none;\n",
              "    fill: var(--fill-color);\n",
              "    height: 32px;\n",
              "    padding: 0;\n",
              "    width: 32px;\n",
              "  }\n",
              "\n",
              "  .colab-df-quickchart:hover {\n",
              "    background-color: var(--hover-bg-color);\n",
              "    box-shadow: 0 1px 2px rgba(60, 64, 67, 0.3), 0 1px 3px 1px rgba(60, 64, 67, 0.15);\n",
              "    fill: var(--button-hover-fill-color);\n",
              "  }\n",
              "\n",
              "  .colab-df-quickchart-complete:disabled,\n",
              "  .colab-df-quickchart-complete:disabled:hover {\n",
              "    background-color: var(--disabled-bg-color);\n",
              "    fill: var(--disabled-fill-color);\n",
              "    box-shadow: none;\n",
              "  }\n",
              "\n",
              "  .colab-df-spinner {\n",
              "    border: 2px solid var(--fill-color);\n",
              "    border-color: transparent;\n",
              "    border-bottom-color: var(--fill-color);\n",
              "    animation:\n",
              "      spin 1s steps(1) infinite;\n",
              "  }\n",
              "\n",
              "  @keyframes spin {\n",
              "    0% {\n",
              "      border-color: transparent;\n",
              "      border-bottom-color: var(--fill-color);\n",
              "      border-left-color: var(--fill-color);\n",
              "    }\n",
              "    20% {\n",
              "      border-color: transparent;\n",
              "      border-left-color: var(--fill-color);\n",
              "      border-top-color: var(--fill-color);\n",
              "    }\n",
              "    30% {\n",
              "      border-color: transparent;\n",
              "      border-left-color: var(--fill-color);\n",
              "      border-top-color: var(--fill-color);\n",
              "      border-right-color: var(--fill-color);\n",
              "    }\n",
              "    40% {\n",
              "      border-color: transparent;\n",
              "      border-right-color: var(--fill-color);\n",
              "      border-top-color: var(--fill-color);\n",
              "    }\n",
              "    60% {\n",
              "      border-color: transparent;\n",
              "      border-right-color: var(--fill-color);\n",
              "    }\n",
              "    80% {\n",
              "      border-color: transparent;\n",
              "      border-right-color: var(--fill-color);\n",
              "      border-bottom-color: var(--fill-color);\n",
              "    }\n",
              "    90% {\n",
              "      border-color: transparent;\n",
              "      border-bottom-color: var(--fill-color);\n",
              "    }\n",
              "  }\n",
              "</style>\n",
              "\n",
              "  <script>\n",
              "    async function quickchart(key) {\n",
              "      const quickchartButtonEl =\n",
              "        document.querySelector('#' + key + ' button');\n",
              "      quickchartButtonEl.disabled = true;  // To prevent multiple clicks.\n",
              "      quickchartButtonEl.classList.add('colab-df-spinner');\n",
              "      try {\n",
              "        const charts = await google.colab.kernel.invokeFunction(\n",
              "            'suggestCharts', [key], {});\n",
              "      } catch (error) {\n",
              "        console.error('Error during call to suggestCharts:', error);\n",
              "      }\n",
              "      quickchartButtonEl.classList.remove('colab-df-spinner');\n",
              "      quickchartButtonEl.classList.add('colab-df-quickchart-complete');\n",
              "    }\n",
              "    (() => {\n",
              "      let quickchartButtonEl =\n",
              "        document.querySelector('#df-978d9b1e-b63e-4d70-b547-525e49e52d98 button');\n",
              "      quickchartButtonEl.style.display =\n",
              "        google.colab.kernel.accessAllowed ? 'block' : 'none';\n",
              "    })();\n",
              "  </script>\n",
              "</div>\n",
              "\n",
              "  <div id=\"id_caaa2952-dfdd-46d6-a2c3-1847aebf2563\">\n",
              "    <style>\n",
              "      .colab-df-generate {\n",
              "        background-color: #E8F0FE;\n",
              "        border: none;\n",
              "        border-radius: 50%;\n",
              "        cursor: pointer;\n",
              "        display: none;\n",
              "        fill: #1967D2;\n",
              "        height: 32px;\n",
              "        padding: 0 0 0 0;\n",
              "        width: 32px;\n",
              "      }\n",
              "\n",
              "      .colab-df-generate:hover {\n",
              "        background-color: #E2EBFA;\n",
              "        box-shadow: 0px 1px 2px rgba(60, 64, 67, 0.3), 0px 1px 3px 1px rgba(60, 64, 67, 0.15);\n",
              "        fill: #174EA6;\n",
              "      }\n",
              "\n",
              "      [theme=dark] .colab-df-generate {\n",
              "        background-color: #3B4455;\n",
              "        fill: #D2E3FC;\n",
              "      }\n",
              "\n",
              "      [theme=dark] .colab-df-generate:hover {\n",
              "        background-color: #434B5C;\n",
              "        box-shadow: 0px 1px 3px 1px rgba(0, 0, 0, 0.15);\n",
              "        filter: drop-shadow(0px 1px 2px rgba(0, 0, 0, 0.3));\n",
              "        fill: #FFFFFF;\n",
              "      }\n",
              "    </style>\n",
              "    <button class=\"colab-df-generate\" onclick=\"generateWithVariable('x')\"\n",
              "            title=\"Generate code using this dataframe.\"\n",
              "            style=\"display:none;\">\n",
              "\n",
              "  <svg xmlns=\"http://www.w3.org/2000/svg\" height=\"24px\"viewBox=\"0 0 24 24\"\n",
              "       width=\"24px\">\n",
              "    <path d=\"M7,19H8.4L18.45,9,17,7.55,7,17.6ZM5,21V16.75L18.45,3.32a2,2,0,0,1,2.83,0l1.4,1.43a1.91,1.91,0,0,1,.58,1.4,1.91,1.91,0,0,1-.58,1.4L9.25,21ZM18.45,9,17,7.55Zm-12,3A5.31,5.31,0,0,0,4.9,8.1,5.31,5.31,0,0,0,1,6.5,5.31,5.31,0,0,0,4.9,4.9,5.31,5.31,0,0,0,6.5,1,5.31,5.31,0,0,0,8.1,4.9,5.31,5.31,0,0,0,12,6.5,5.46,5.46,0,0,0,6.5,12Z\"/>\n",
              "  </svg>\n",
              "    </button>\n",
              "    <script>\n",
              "      (() => {\n",
              "      const buttonEl =\n",
              "        document.querySelector('#id_caaa2952-dfdd-46d6-a2c3-1847aebf2563 button.colab-df-generate');\n",
              "      buttonEl.style.display =\n",
              "        google.colab.kernel.accessAllowed ? 'block' : 'none';\n",
              "\n",
              "      buttonEl.onclick = () => {\n",
              "        google.colab.notebook.generateWithVariable('x');\n",
              "      }\n",
              "      })();\n",
              "    </script>\n",
              "  </div>\n",
              "\n",
              "    </div>\n",
              "  </div>\n"
            ],
            "application/vnd.google.colaboratory.intrinsic+json": {
              "type": "dataframe",
              "variable_name": "x",
              "summary": "{\n  \"name\": \"x\",\n  \"rows\": 14980,\n  \"fields\": [\n    {\n      \"column\": \"AF3\",\n      \"properties\": {\n        \"dtype\": \"number\",\n        \"std\": 2492.0721742650967,\n        \"min\": 1030.77,\n        \"max\": 309231.0,\n        \"num_unique_values\": 548,\n        \"samples\": [\n          4257.95,\n          4458.46,\n          4256.92\n        ],\n        \"semantic_type\": \"\",\n        \"description\": \"\"\n      }\n    },\n    {\n      \"column\": \"F7\",\n      \"properties\": {\n        \"dtype\": \"number\",\n        \"std\": 45.94167248479191,\n        \"min\": 2830.77,\n        \"max\": 7804.62,\n        \"num_unique_values\": 452,\n        \"samples\": [\n          4078.46,\n          4017.44,\n          4098.46\n        ],\n        \"semantic_type\": \"\",\n        \"description\": \"\"\n      }\n    },\n    {\n      \"column\": \"F3\",\n      \"properties\": {\n        \"dtype\": \"number\",\n        \"std\": 44.428051757419404,\n        \"min\": 1040.0,\n        \"max\": 6880.51,\n        \"num_unique_values\": 345,\n        \"samples\": [\n          4295.9,\n          4307.18,\n          4385.64\n        ],\n        \"semantic_type\": \"\",\n        \"description\": \"\"\n      }\n    },\n    {\n      \"column\": \"FC5\",\n      \"properties\": {\n        \"dtype\": \"number\",\n        \"std\": 5216.404632299904,\n        \"min\": 2453.33,\n        \"max\": 642564.0,\n        \"num_unique_values\": 312,\n        \"samples\": [\n          4162.05,\n          4142.05,\n          4114.36\n        ],\n        \"semantic_type\": \"\",\n        \"description\": \"\"\n      }\n    },\n    {\n      \"column\": \"T7\",\n      \"properties\": {\n        \"dtype\": \"number\",\n        \"std\": 34.73882081848662,\n        \"min\": 2089.74,\n        \"max\": 6474.36,\n        \"num_unique_values\": 285,\n        \"samples\": [\n          4339.49,\n          4427.69,\n          4447.18\n        ],\n        \"semantic_type\": \"\",\n        \"description\": \"\"\n      }\n    },\n    {\n      \"column\": \"P7\",\n      \"properties\": {\n        \"dtype\": \"number\",\n        \"std\": 2924.789537325123,\n        \"min\": 2768.21,\n        \"max\": 362564.0,\n        \"num_unique_values\": 330,\n        \"samples\": [\n          4581.54,\n          4651.79,\n          4570.77\n        ],\n        \"semantic_type\": \"\",\n        \"description\": \"\"\n      }\n    },\n    {\n      \"column\": \"O1\",\n      \"properties\": {\n        \"dtype\": \"number\",\n        \"std\": 4600.926542533788,\n        \"min\": 2086.15,\n        \"max\": 567179.0,\n        \"num_unique_values\": 290,\n        \"samples\": [\n          4098.46,\n          4134.87,\n          4078.97\n        ],\n        \"semantic_type\": \"\",\n        \"description\": \"\"\n      }\n    },\n    {\n      \"column\": \"O2\",\n      \"properties\": {\n        \"dtype\": \"number\",\n        \"std\": 29.292603201776213,\n        \"min\": 4567.18,\n        \"max\": 7264.1,\n        \"num_unique_values\": 294,\n        \"samples\": [\n          4609.74,\n          4608.72,\n          4583.59\n        ],\n        \"semantic_type\": \"\",\n        \"description\": \"\"\n      }\n    },\n    {\n      \"column\": \"P8\",\n      \"properties\": {\n        \"dtype\": \"number\",\n        \"std\": 2136.408522887388,\n        \"min\": 1357.95,\n        \"max\": 265641.0,\n        \"num_unique_values\": 304,\n        \"samples\": [\n          4238.97,\n          4170.77,\n          4234.87\n        ],\n        \"semantic_type\": \"\",\n        \"description\": \"\"\n      }\n    },\n    {\n      \"column\": \"T8\",\n      \"properties\": {\n        \"dtype\": \"number\",\n        \"std\": 38.050902621216295,\n        \"min\": 1816.41,\n        \"max\": 6674.36,\n        \"num_unique_values\": 346,\n        \"samples\": [\n          4256.41,\n          4193.85,\n          4330.77\n        ],\n        \"semantic_type\": \"\",\n        \"description\": \"\"\n      }\n    },\n    {\n      \"column\": \"FC6\",\n      \"properties\": {\n        \"dtype\": \"number\",\n        \"std\": 37.78598137403711,\n        \"min\": 3273.33,\n        \"max\": 6823.08,\n        \"num_unique_values\": 419,\n        \"samples\": [\n          4173.85,\n          4148.72,\n          4231.28\n        ],\n        \"semantic_type\": \"\",\n        \"description\": \"\"\n      }\n    },\n    {\n      \"column\": \"F4\",\n      \"properties\": {\n        \"dtype\": \"number\",\n        \"std\": 41.544311516664244,\n        \"min\": 2257.95,\n        \"max\": 7002.56,\n        \"num_unique_values\": 343,\n        \"samples\": [\n          4238.46,\n          4323.08,\n          4328.72\n        ],\n        \"semantic_type\": \"\",\n        \"description\": \"\"\n      }\n    },\n    {\n      \"column\": \"F8\",\n      \"properties\": {\n        \"dtype\": \"number\",\n        \"std\": 1208.3699582560432,\n        \"min\": 86.6667,\n        \"max\": 152308.0,\n        \"num_unique_values\": 558,\n        \"samples\": [\n          4667.69,\n          4475.9,\n          4640.0\n        ],\n        \"semantic_type\": \"\",\n        \"description\": \"\"\n      }\n    },\n    {\n      \"column\": \"AF4\",\n      \"properties\": {\n        \"dtype\": \"number\",\n        \"std\": 5891.285042523523,\n        \"min\": 1366.15,\n        \"max\": 715897.0,\n        \"num_unique_values\": 592,\n        \"samples\": [\n          4456.92,\n          4539.49,\n          4402.56\n        ],\n        \"semantic_type\": \"\",\n        \"description\": \"\"\n      }\n    }\n  ]\n}"
            }
          },
          "metadata": {},
          "execution_count": 6
        }
      ],
      "source": [
        "x"
      ]
    },
    {
      "cell_type": "code",
      "execution_count": null,
      "metadata": {
        "colab": {
          "base_uri": "https://localhost:8080/"
        },
        "id": "JTySF2jYUyrO",
        "outputId": "a73e5ed6-d263-4494-a153-c50fa792c204"
      },
      "outputs": [
        {
          "output_type": "execute_result",
          "data": {
            "text/plain": [
              "      eyeDetection\n",
              "0                0\n",
              "1                0\n",
              "2                0\n",
              "3                0\n",
              "4                0\n",
              "...            ...\n",
              "14975            1\n",
              "14976            1\n",
              "14977            1\n",
              "14978            1\n",
              "14979            1\n",
              "\n",
              "[14980 rows x 1 columns]"
            ],
            "text/html": [
              "\n",
              "  <div id=\"df-d8b12c05-0753-4ebe-9076-acee4ee904db\" class=\"colab-df-container\">\n",
              "    <div>\n",
              "<style scoped>\n",
              "    .dataframe tbody tr th:only-of-type {\n",
              "        vertical-align: middle;\n",
              "    }\n",
              "\n",
              "    .dataframe tbody tr th {\n",
              "        vertical-align: top;\n",
              "    }\n",
              "\n",
              "    .dataframe thead th {\n",
              "        text-align: right;\n",
              "    }\n",
              "</style>\n",
              "<table border=\"1\" class=\"dataframe\">\n",
              "  <thead>\n",
              "    <tr style=\"text-align: right;\">\n",
              "      <th></th>\n",
              "      <th>eyeDetection</th>\n",
              "    </tr>\n",
              "  </thead>\n",
              "  <tbody>\n",
              "    <tr>\n",
              "      <th>0</th>\n",
              "      <td>0</td>\n",
              "    </tr>\n",
              "    <tr>\n",
              "      <th>1</th>\n",
              "      <td>0</td>\n",
              "    </tr>\n",
              "    <tr>\n",
              "      <th>2</th>\n",
              "      <td>0</td>\n",
              "    </tr>\n",
              "    <tr>\n",
              "      <th>3</th>\n",
              "      <td>0</td>\n",
              "    </tr>\n",
              "    <tr>\n",
              "      <th>4</th>\n",
              "      <td>0</td>\n",
              "    </tr>\n",
              "    <tr>\n",
              "      <th>...</th>\n",
              "      <td>...</td>\n",
              "    </tr>\n",
              "    <tr>\n",
              "      <th>14975</th>\n",
              "      <td>1</td>\n",
              "    </tr>\n",
              "    <tr>\n",
              "      <th>14976</th>\n",
              "      <td>1</td>\n",
              "    </tr>\n",
              "    <tr>\n",
              "      <th>14977</th>\n",
              "      <td>1</td>\n",
              "    </tr>\n",
              "    <tr>\n",
              "      <th>14978</th>\n",
              "      <td>1</td>\n",
              "    </tr>\n",
              "    <tr>\n",
              "      <th>14979</th>\n",
              "      <td>1</td>\n",
              "    </tr>\n",
              "  </tbody>\n",
              "</table>\n",
              "<p>14980 rows × 1 columns</p>\n",
              "</div>\n",
              "    <div class=\"colab-df-buttons\">\n",
              "\n",
              "  <div class=\"colab-df-container\">\n",
              "    <button class=\"colab-df-convert\" onclick=\"convertToInteractive('df-d8b12c05-0753-4ebe-9076-acee4ee904db')\"\n",
              "            title=\"Convert this dataframe to an interactive table.\"\n",
              "            style=\"display:none;\">\n",
              "\n",
              "  <svg xmlns=\"http://www.w3.org/2000/svg\" height=\"24px\" viewBox=\"0 -960 960 960\">\n",
              "    <path d=\"M120-120v-720h720v720H120Zm60-500h600v-160H180v160Zm220 220h160v-160H400v160Zm0 220h160v-160H400v160ZM180-400h160v-160H180v160Zm440 0h160v-160H620v160ZM180-180h160v-160H180v160Zm440 0h160v-160H620v160Z\"/>\n",
              "  </svg>\n",
              "    </button>\n",
              "\n",
              "  <style>\n",
              "    .colab-df-container {\n",
              "      display:flex;\n",
              "      gap: 12px;\n",
              "    }\n",
              "\n",
              "    .colab-df-convert {\n",
              "      background-color: #E8F0FE;\n",
              "      border: none;\n",
              "      border-radius: 50%;\n",
              "      cursor: pointer;\n",
              "      display: none;\n",
              "      fill: #1967D2;\n",
              "      height: 32px;\n",
              "      padding: 0 0 0 0;\n",
              "      width: 32px;\n",
              "    }\n",
              "\n",
              "    .colab-df-convert:hover {\n",
              "      background-color: #E2EBFA;\n",
              "      box-shadow: 0px 1px 2px rgba(60, 64, 67, 0.3), 0px 1px 3px 1px rgba(60, 64, 67, 0.15);\n",
              "      fill: #174EA6;\n",
              "    }\n",
              "\n",
              "    .colab-df-buttons div {\n",
              "      margin-bottom: 4px;\n",
              "    }\n",
              "\n",
              "    [theme=dark] .colab-df-convert {\n",
              "      background-color: #3B4455;\n",
              "      fill: #D2E3FC;\n",
              "    }\n",
              "\n",
              "    [theme=dark] .colab-df-convert:hover {\n",
              "      background-color: #434B5C;\n",
              "      box-shadow: 0px 1px 3px 1px rgba(0, 0, 0, 0.15);\n",
              "      filter: drop-shadow(0px 1px 2px rgba(0, 0, 0, 0.3));\n",
              "      fill: #FFFFFF;\n",
              "    }\n",
              "  </style>\n",
              "\n",
              "    <script>\n",
              "      const buttonEl =\n",
              "        document.querySelector('#df-d8b12c05-0753-4ebe-9076-acee4ee904db button.colab-df-convert');\n",
              "      buttonEl.style.display =\n",
              "        google.colab.kernel.accessAllowed ? 'block' : 'none';\n",
              "\n",
              "      async function convertToInteractive(key) {\n",
              "        const element = document.querySelector('#df-d8b12c05-0753-4ebe-9076-acee4ee904db');\n",
              "        const dataTable =\n",
              "          await google.colab.kernel.invokeFunction('convertToInteractive',\n",
              "                                                    [key], {});\n",
              "        if (!dataTable) return;\n",
              "\n",
              "        const docLinkHtml = 'Like what you see? Visit the ' +\n",
              "          '<a target=\"_blank\" href=https://colab.research.google.com/notebooks/data_table.ipynb>data table notebook</a>'\n",
              "          + ' to learn more about interactive tables.';\n",
              "        element.innerHTML = '';\n",
              "        dataTable['output_type'] = 'display_data';\n",
              "        await google.colab.output.renderOutput(dataTable, element);\n",
              "        const docLink = document.createElement('div');\n",
              "        docLink.innerHTML = docLinkHtml;\n",
              "        element.appendChild(docLink);\n",
              "      }\n",
              "    </script>\n",
              "  </div>\n",
              "\n",
              "\n",
              "<div id=\"df-1cf7fad3-71bb-476e-9c4d-7ae973243c75\">\n",
              "  <button class=\"colab-df-quickchart\" onclick=\"quickchart('df-1cf7fad3-71bb-476e-9c4d-7ae973243c75')\"\n",
              "            title=\"Suggest charts\"\n",
              "            style=\"display:none;\">\n",
              "\n",
              "<svg xmlns=\"http://www.w3.org/2000/svg\" height=\"24px\"viewBox=\"0 0 24 24\"\n",
              "     width=\"24px\">\n",
              "    <g>\n",
              "        <path d=\"M19 3H5c-1.1 0-2 .9-2 2v14c0 1.1.9 2 2 2h14c1.1 0 2-.9 2-2V5c0-1.1-.9-2-2-2zM9 17H7v-7h2v7zm4 0h-2V7h2v10zm4 0h-2v-4h2v4z\"/>\n",
              "    </g>\n",
              "</svg>\n",
              "  </button>\n",
              "\n",
              "<style>\n",
              "  .colab-df-quickchart {\n",
              "      --bg-color: #E8F0FE;\n",
              "      --fill-color: #1967D2;\n",
              "      --hover-bg-color: #E2EBFA;\n",
              "      --hover-fill-color: #174EA6;\n",
              "      --disabled-fill-color: #AAA;\n",
              "      --disabled-bg-color: #DDD;\n",
              "  }\n",
              "\n",
              "  [theme=dark] .colab-df-quickchart {\n",
              "      --bg-color: #3B4455;\n",
              "      --fill-color: #D2E3FC;\n",
              "      --hover-bg-color: #434B5C;\n",
              "      --hover-fill-color: #FFFFFF;\n",
              "      --disabled-bg-color: #3B4455;\n",
              "      --disabled-fill-color: #666;\n",
              "  }\n",
              "\n",
              "  .colab-df-quickchart {\n",
              "    background-color: var(--bg-color);\n",
              "    border: none;\n",
              "    border-radius: 50%;\n",
              "    cursor: pointer;\n",
              "    display: none;\n",
              "    fill: var(--fill-color);\n",
              "    height: 32px;\n",
              "    padding: 0;\n",
              "    width: 32px;\n",
              "  }\n",
              "\n",
              "  .colab-df-quickchart:hover {\n",
              "    background-color: var(--hover-bg-color);\n",
              "    box-shadow: 0 1px 2px rgba(60, 64, 67, 0.3), 0 1px 3px 1px rgba(60, 64, 67, 0.15);\n",
              "    fill: var(--button-hover-fill-color);\n",
              "  }\n",
              "\n",
              "  .colab-df-quickchart-complete:disabled,\n",
              "  .colab-df-quickchart-complete:disabled:hover {\n",
              "    background-color: var(--disabled-bg-color);\n",
              "    fill: var(--disabled-fill-color);\n",
              "    box-shadow: none;\n",
              "  }\n",
              "\n",
              "  .colab-df-spinner {\n",
              "    border: 2px solid var(--fill-color);\n",
              "    border-color: transparent;\n",
              "    border-bottom-color: var(--fill-color);\n",
              "    animation:\n",
              "      spin 1s steps(1) infinite;\n",
              "  }\n",
              "\n",
              "  @keyframes spin {\n",
              "    0% {\n",
              "      border-color: transparent;\n",
              "      border-bottom-color: var(--fill-color);\n",
              "      border-left-color: var(--fill-color);\n",
              "    }\n",
              "    20% {\n",
              "      border-color: transparent;\n",
              "      border-left-color: var(--fill-color);\n",
              "      border-top-color: var(--fill-color);\n",
              "    }\n",
              "    30% {\n",
              "      border-color: transparent;\n",
              "      border-left-color: var(--fill-color);\n",
              "      border-top-color: var(--fill-color);\n",
              "      border-right-color: var(--fill-color);\n",
              "    }\n",
              "    40% {\n",
              "      border-color: transparent;\n",
              "      border-right-color: var(--fill-color);\n",
              "      border-top-color: var(--fill-color);\n",
              "    }\n",
              "    60% {\n",
              "      border-color: transparent;\n",
              "      border-right-color: var(--fill-color);\n",
              "    }\n",
              "    80% {\n",
              "      border-color: transparent;\n",
              "      border-right-color: var(--fill-color);\n",
              "      border-bottom-color: var(--fill-color);\n",
              "    }\n",
              "    90% {\n",
              "      border-color: transparent;\n",
              "      border-bottom-color: var(--fill-color);\n",
              "    }\n",
              "  }\n",
              "</style>\n",
              "\n",
              "  <script>\n",
              "    async function quickchart(key) {\n",
              "      const quickchartButtonEl =\n",
              "        document.querySelector('#' + key + ' button');\n",
              "      quickchartButtonEl.disabled = true;  // To prevent multiple clicks.\n",
              "      quickchartButtonEl.classList.add('colab-df-spinner');\n",
              "      try {\n",
              "        const charts = await google.colab.kernel.invokeFunction(\n",
              "            'suggestCharts', [key], {});\n",
              "      } catch (error) {\n",
              "        console.error('Error during call to suggestCharts:', error);\n",
              "      }\n",
              "      quickchartButtonEl.classList.remove('colab-df-spinner');\n",
              "      quickchartButtonEl.classList.add('colab-df-quickchart-complete');\n",
              "    }\n",
              "    (() => {\n",
              "      let quickchartButtonEl =\n",
              "        document.querySelector('#df-1cf7fad3-71bb-476e-9c4d-7ae973243c75 button');\n",
              "      quickchartButtonEl.style.display =\n",
              "        google.colab.kernel.accessAllowed ? 'block' : 'none';\n",
              "    })();\n",
              "  </script>\n",
              "</div>\n",
              "\n",
              "  <div id=\"id_01bf177a-9195-49cf-a43d-bd56618ce466\">\n",
              "    <style>\n",
              "      .colab-df-generate {\n",
              "        background-color: #E8F0FE;\n",
              "        border: none;\n",
              "        border-radius: 50%;\n",
              "        cursor: pointer;\n",
              "        display: none;\n",
              "        fill: #1967D2;\n",
              "        height: 32px;\n",
              "        padding: 0 0 0 0;\n",
              "        width: 32px;\n",
              "      }\n",
              "\n",
              "      .colab-df-generate:hover {\n",
              "        background-color: #E2EBFA;\n",
              "        box-shadow: 0px 1px 2px rgba(60, 64, 67, 0.3), 0px 1px 3px 1px rgba(60, 64, 67, 0.15);\n",
              "        fill: #174EA6;\n",
              "      }\n",
              "\n",
              "      [theme=dark] .colab-df-generate {\n",
              "        background-color: #3B4455;\n",
              "        fill: #D2E3FC;\n",
              "      }\n",
              "\n",
              "      [theme=dark] .colab-df-generate:hover {\n",
              "        background-color: #434B5C;\n",
              "        box-shadow: 0px 1px 3px 1px rgba(0, 0, 0, 0.15);\n",
              "        filter: drop-shadow(0px 1px 2px rgba(0, 0, 0, 0.3));\n",
              "        fill: #FFFFFF;\n",
              "      }\n",
              "    </style>\n",
              "    <button class=\"colab-df-generate\" onclick=\"generateWithVariable('y')\"\n",
              "            title=\"Generate code using this dataframe.\"\n",
              "            style=\"display:none;\">\n",
              "\n",
              "  <svg xmlns=\"http://www.w3.org/2000/svg\" height=\"24px\"viewBox=\"0 0 24 24\"\n",
              "       width=\"24px\">\n",
              "    <path d=\"M7,19H8.4L18.45,9,17,7.55,7,17.6ZM5,21V16.75L18.45,3.32a2,2,0,0,1,2.83,0l1.4,1.43a1.91,1.91,0,0,1,.58,1.4,1.91,1.91,0,0,1-.58,1.4L9.25,21ZM18.45,9,17,7.55Zm-12,3A5.31,5.31,0,0,0,4.9,8.1,5.31,5.31,0,0,0,1,6.5,5.31,5.31,0,0,0,4.9,4.9,5.31,5.31,0,0,0,6.5,1,5.31,5.31,0,0,0,8.1,4.9,5.31,5.31,0,0,0,12,6.5,5.46,5.46,0,0,0,6.5,12Z\"/>\n",
              "  </svg>\n",
              "    </button>\n",
              "    <script>\n",
              "      (() => {\n",
              "      const buttonEl =\n",
              "        document.querySelector('#id_01bf177a-9195-49cf-a43d-bd56618ce466 button.colab-df-generate');\n",
              "      buttonEl.style.display =\n",
              "        google.colab.kernel.accessAllowed ? 'block' : 'none';\n",
              "\n",
              "      buttonEl.onclick = () => {\n",
              "        google.colab.notebook.generateWithVariable('y');\n",
              "      }\n",
              "      })();\n",
              "    </script>\n",
              "  </div>\n",
              "\n",
              "    </div>\n",
              "  </div>\n"
            ],
            "application/vnd.google.colaboratory.intrinsic+json": {
              "type": "dataframe",
              "variable_name": "y",
              "summary": "{\n  \"name\": \"y\",\n  \"rows\": 14980,\n  \"fields\": [\n    {\n      \"column\": \"eyeDetection\",\n      \"properties\": {\n        \"dtype\": \"category\",\n        \"num_unique_values\": 2,\n        \"samples\": [\n          \"1\",\n          \"0\"\n        ],\n        \"semantic_type\": \"\",\n        \"description\": \"\"\n      }\n    }\n  ]\n}"
            }
          },
          "metadata": {},
          "execution_count": 7
        }
      ],
      "source": [
        "y"
      ]
    },
    {
      "cell_type": "code",
      "execution_count": null,
      "metadata": {
        "id": "HuYOxAvhfvSX"
      },
      "outputs": [],
      "source": [
        "model_scores = []"
      ]
    },
    {
      "cell_type": "markdown",
      "metadata": {
        "id": "X1tcVoh6kq9p"
      },
      "source": [
        "# Statistical Features Extraction using PCA"
      ]
    },
    {
      "cell_type": "markdown",
      "metadata": {
        "id": "bNI0h04-LUn7"
      },
      "source": [
        "## Data Preparation"
      ]
    },
    {
      "cell_type": "code",
      "execution_count": null,
      "metadata": {
        "id": "VFoGecSLLg8q"
      },
      "outputs": [],
      "source": [
        "from sklearn.model_selection import train_test_split\n",
        "X_train, X_test, y_train, y_test = train_test_split(x,y,test_size = 0.2, random_state=42)"
      ]
    },
    {
      "cell_type": "code",
      "execution_count": null,
      "metadata": {
        "colab": {
          "base_uri": "https://localhost:8080/"
        },
        "id": "0cFGnDh8LxPy",
        "outputId": "8c13de7a-4a30-4c11-fb68-16315635436f"
      },
      "outputs": [
        {
          "output_type": "execute_result",
          "data": {
            "text/plain": [
              "(11984, 14)"
            ]
          },
          "metadata": {},
          "execution_count": 10
        }
      ],
      "source": [
        "X_train.shape"
      ]
    },
    {
      "cell_type": "code",
      "execution_count": null,
      "metadata": {
        "colab": {
          "base_uri": "https://localhost:8080/"
        },
        "id": "f99zfArdMBpL",
        "outputId": "dd13e838-2a22-4f8a-906d-4dd40d4c9e66"
      },
      "outputs": [
        {
          "output_type": "execute_result",
          "data": {
            "text/plain": [
              "(2996, 14)"
            ]
          },
          "metadata": {},
          "execution_count": 11
        }
      ],
      "source": [
        "X_test.shape"
      ]
    },
    {
      "cell_type": "markdown",
      "metadata": {
        "id": "if3hoFhXMMAr"
      },
      "source": [
        "## Data Preprocessing"
      ]
    },
    {
      "cell_type": "code",
      "execution_count": null,
      "metadata": {
        "id": "H8L5Ipm9MKsy"
      },
      "outputs": [],
      "source": [
        "from sklearn.preprocessing import StandardScaler\n",
        "scaler = StandardScaler()\n",
        "\n",
        "X_train_trf = scaler.fit_transform(X_train)\n",
        "X_test_trf = scaler.transform(X_test)"
      ]
    },
    {
      "cell_type": "markdown",
      "metadata": {
        "id": "Dw2JT5xfNNj3"
      },
      "source": [
        "## PCA"
      ]
    },
    {
      "cell_type": "code",
      "execution_count": null,
      "metadata": {
        "id": "FY5HD0mVNK_T"
      },
      "outputs": [],
      "source": [
        "from sklearn.decomposition import PCA\n",
        "pca = PCA(n_components=None)"
      ]
    },
    {
      "cell_type": "code",
      "execution_count": null,
      "metadata": {
        "id": "Yv7dws_eOWPk"
      },
      "outputs": [],
      "source": [
        "X_train_pca = pca.fit_transform(X_train_trf)\n",
        "X_test_pca = pca.transform(X_test_trf)"
      ]
    },
    {
      "cell_type": "code",
      "execution_count": null,
      "metadata": {
        "colab": {
          "base_uri": "https://localhost:8080/"
        },
        "id": "LngCETdnO1hX",
        "outputId": "c9f7f5a4-01bc-4f09-896d-339a6bca246f"
      },
      "outputs": [
        {
          "output_type": "execute_result",
          "data": {
            "text/plain": [
              "array([3.11188572e-01, 2.75351877e-01, 2.22343922e-01, 1.10886839e-01,\n",
              "       4.79263203e-02, 1.78342192e-02, 6.22034047e-03, 4.58090354e-03,\n",
              "       2.51189412e-03, 1.14732230e-03, 5.28239139e-06, 1.83989894e-06,\n",
              "       3.74172898e-07, 2.94074849e-07])"
            ]
          },
          "metadata": {},
          "execution_count": 20
        }
      ],
      "source": [
        "pca.explained_variance_ratio_"
      ]
    },
    {
      "cell_type": "code",
      "execution_count": null,
      "metadata": {
        "colab": {
          "base_uri": "https://localhost:8080/"
        },
        "id": "v3hTfZ1yPEvM",
        "outputId": "6beb5abe-d1ae-412a-ca88-c87af0c8cfec"
      },
      "outputs": [
        {
          "output_type": "execute_result",
          "data": {
            "text/plain": [
              "array([0.31118857, 0.58654045, 0.80888437, 0.91977121, 0.96769753,\n",
              "       0.98553175, 0.99175209, 0.99633299, 0.99884489, 0.99999221,\n",
              "       0.99999749, 0.99999933, 0.99999971, 1.        ])"
            ]
          },
          "metadata": {},
          "execution_count": 21
        }
      ],
      "source": [
        "import numpy as np\n",
        "np.cumsum(pca.explained_variance_ratio_)"
      ]
    },
    {
      "cell_type": "code",
      "execution_count": null,
      "metadata": {
        "colab": {
          "base_uri": "https://localhost:8080/",
          "height": 447
        },
        "id": "LKG7RJm-Pdzb",
        "outputId": "39bd62c1-7537-4eae-e1d2-8b41f0fe33cd"
      },
      "outputs": [
        {
          "output_type": "execute_result",
          "data": {
            "text/plain": [
              "[<matplotlib.lines.Line2D at 0x7f01a49c8610>]"
            ]
          },
          "metadata": {},
          "execution_count": 22
        },
        {
          "output_type": "display_data",
          "data": {
            "text/plain": [
              "<Figure size 640x480 with 1 Axes>"
            ],
            "image/png": "[encoded data removed]"
          },
          "metadata": {}
        }
      ],
      "source": [
        "import matplotlib.pyplot as plt\n",
        "plt.plot(np.cumsum(pca.explained_variance_ratio_))"
      ]
    },
    {
      "cell_type": "code",
      "execution_count": null,
      "metadata": {
        "id": "YJmZlKK9QWak"
      },
      "outputs": [],
      "source": [
        "pca = PCA(n_components=9)"
      ]
    },
    {
      "cell_type": "code",
      "execution_count": null,
      "metadata": {
        "id": "Nz1T06B_QOuT"
      },
      "outputs": [],
      "source": [
        "X_train_new = pca.fit_transform(X_train_trf)\n",
        "X_test_new = pca.transform(X_test_trf)"
      ]
    },
    {
      "cell_type": "code",
      "execution_count": null,
      "metadata": {
        "colab": {
          "base_uri": "https://localhost:8080/"
        },
        "id": "7BvVQsXBT2sJ",
        "outputId": "3eafd3df-d110-4841-9e7d-704382be32d9"
      },
      "outputs": [
        {
          "output_type": "execute_result",
          "data": {
            "text/plain": [
              "(11984, 9)"
            ]
          },
          "metadata": {},
          "execution_count": 25
        }
      ],
      "source": [
        "X_train_new.shape"
      ]
    },
    {
      "cell_type": "code",
      "execution_count": null,
      "metadata": {
        "colab": {
          "base_uri": "https://localhost:8080/"
        },
        "id": "cEoxJqmKT6xK",
        "outputId": "63c7c8a5-4802-4a5b-a87f-8b5d76056cb0"
      },
      "outputs": [
        {
          "output_type": "execute_result",
          "data": {
            "text/plain": [
              "(11984, 1)"
            ]
          },
          "metadata": {},
          "execution_count": 26
        }
      ],
      "source": [
        "y_train.shape"
      ]
    },
    {
      "cell_type": "code",
      "execution_count": null,
      "metadata": {
        "colab": {
          "base_uri": "https://localhost:8080/"
        },
        "id": "SJXL0FdlYBrQ",
        "outputId": "ce5ee7e4-2398-40ff-f3c6-07123c73d381"
      },
      "outputs": [
        {
          "output_type": "execute_result",
          "data": {
            "text/plain": [
              "(2996, 9)"
            ]
          },
          "metadata": {},
          "execution_count": 27
        }
      ],
      "source": [
        "X_test_new.shape"
      ]
    },
    {
      "cell_type": "code",
      "execution_count": null,
      "metadata": {
        "colab": {
          "base_uri": "https://localhost:8080/"
        },
        "id": "zRbS_yKoYHhv",
        "outputId": "af3b9602-9ac8-4ab9-a119-e153394aab1d"
      },
      "outputs": [
        {
          "output_type": "execute_result",
          "data": {
            "text/plain": [
              "(2996, 1)"
            ]
          },
          "metadata": {},
          "execution_count": 28
        }
      ],
      "source": [
        "y_test.shape"
      ]
    },
    {
      "cell_type": "code",
      "execution_count": null,
      "metadata": {
        "colab": {
          "base_uri": "https://localhost:8080/"
        },
        "id": "JQM-cbige9Z5",
        "outputId": "116a8e37-57c1-4e90-986e-6bdf55ea7340"
      },
      "outputs": [
        {
          "output_type": "execute_result",
          "data": {
            "text/plain": [
              "array([1, 0, 0, ..., 1, 1, 1])"
            ]
          },
          "metadata": {},
          "execution_count": 29
        }
      ],
      "source": [
        "y_train_new = np.array([int(x) for x in y_train.values.ravel()])\n",
        "y_train_new"
      ]
    },
    {
      "cell_type": "code",
      "source": [
        "y_train_new.shape"
      ],
      "metadata": {
        "colab": {
          "base_uri": "https://localhost:8080/"
        },
        "id": "622TGb5atOS6",
        "outputId": "0928b019-b76c-456c-b8e3-0ce4a6c42f18"
      },
      "execution_count": null,
      "outputs": [
        {
          "output_type": "execute_result",
          "data": {
            "text/plain": [
              "(11984,)"
            ]
          },
          "metadata": {},
          "execution_count": 30
        }
      ]
    },
    {
      "cell_type": "code",
      "execution_count": null,
      "metadata": {
        "colab": {
          "base_uri": "https://localhost:8080/"
        },
        "id": "jwhPdfMQfDUY",
        "outputId": "c2cdf3cb-9df8-4af4-8a6d-932bba66764a"
      },
      "outputs": [
        {
          "output_type": "execute_result",
          "data": {
            "text/plain": [
              "array([1, 0, 0, ..., 0, 1, 0])"
            ]
          },
          "metadata": {},
          "execution_count": 31
        }
      ],
      "source": [
        "y_test_new = np.array([int(x) for x in y_test.values.ravel()])\n",
        "y_test_new"
      ]
    },
    {
      "cell_type": "code",
      "execution_count": null,
      "metadata": {
        "colab": {
          "base_uri": "https://localhost:8080/"
        },
        "id": "_EIsPWP7hrG4",
        "outputId": "2f9cb0f8-bdcf-4921-ae17-123d74a8c222"
      },
      "outputs": [
        {
          "output_type": "execute_result",
          "data": {
            "text/plain": [
              "0"
            ]
          },
          "metadata": {},
          "execution_count": 32
        }
      ],
      "source": [
        "len(model_scores)"
      ]
    },
    {
      "cell_type": "markdown",
      "metadata": {
        "id": "tOVKmTlm975G"
      },
      "source": [
        "## Training on SVM"
      ]
    },
    {
      "cell_type": "code",
      "execution_count": null,
      "metadata": {
        "colab": {
          "base_uri": "https://localhost:8080/",
          "height": 74
        },
        "id": "paKVcOIqpe6R",
        "outputId": "60310f81-af28-4c76-aa54-68b1d7d80349"
      },
      "outputs": [
        {
          "output_type": "execute_result",
          "data": {
            "text/plain": [
              "SVC(random_state=0)"
            ],
            "text/html": [
              "<style>#sk-container-id-1 {color: black;background-color: white;}#sk-container-id-1 pre{padding: 0;}#sk-container-id-1 div.sk-toggleable {background-color: white;}#sk-container-id-1 label.sk-toggleable__label {cursor: pointer;display: block;width: 100%;margin-bottom: 0;padding: 0.3em;box-sizing: border-box;text-align: center;}#sk-container-id-1 label.sk-toggleable__label-arrow:before {content: \"▸\";float: left;margin-right: 0.25em;color: #696969;}#sk-container-id-1 label.sk-toggleable__label-arrow:hover:before {color: black;}#sk-container-id-1 div.sk-estimator:hover label.sk-toggleable__label-arrow:before {color: black;}#sk-container-id-1 div.sk-toggleable__content {max-height: 0;max-width: 0;overflow: hidden;text-align: left;background-color: #f0f8ff;}#sk-container-id-1 div.sk-toggleable__content pre {margin: 0.2em;color: black;border-radius: 0.25em;background-color: #f0f8ff;}#sk-container-id-1 input.sk-toggleable__control:checked~div.sk-toggleable__content {max-height: 200px;max-width: 100%;overflow: auto;}#sk-container-id-1 input.sk-toggleable__control:checked~label.sk-toggleable__label-arrow:before {content: \"▾\";}#sk-container-id-1 div.sk-estimator input.sk-toggleable__control:checked~label.sk-toggleable__label {background-color: #d4ebff;}#sk-container-id-1 div.sk-label input.sk-toggleable__control:checked~label.sk-toggleable__label {background-color: #d4ebff;}#sk-container-id-1 input.sk-hidden--visually {border: 0;clip: rect(1px 1px 1px 1px);clip: rect(1px, 1px, 1px, 1px);height: 1px;margin: -1px;overflow: hidden;padding: 0;position: absolute;width: 1px;}#sk-container-id-1 div.sk-estimator {font-family: monospace;background-color: #f0f8ff;border: 1px dotted black;border-radius: 0.25em;box-sizing: border-box;margin-bottom: 0.5em;}#sk-container-id-1 div.sk-estimator:hover {background-color: #d4ebff;}#sk-container-id-1 div.sk-parallel-item::after {content: \"\";width: 100%;border-bottom: 1px solid gray;flex-grow: 1;}#sk-container-id-1 div.sk-label:hover label.sk-toggleable__label {background-color: #d4ebff;}#sk-container-id-1 div.sk-serial::before {content: \"\";position: absolute;border-left: 1px solid gray;box-sizing: border-box;top: 0;bottom: 0;left: 50%;z-index: 0;}#sk-container-id-1 div.sk-serial {display: flex;flex-direction: column;align-items: center;background-color: white;padding-right: 0.2em;padding-left: 0.2em;position: relative;}#sk-container-id-1 div.sk-item {position: relative;z-index: 1;}#sk-container-id-1 div.sk-parallel {display: flex;align-items: stretch;justify-content: center;background-color: white;position: relative;}#sk-container-id-1 div.sk-item::before, #sk-container-id-1 div.sk-parallel-item::before {content: \"\";position: absolute;border-left: 1px solid gray;box-sizing: border-box;top: 0;bottom: 0;left: 50%;z-index: -1;}#sk-container-id-1 div.sk-parallel-item {display: flex;flex-direction: column;z-index: 1;position: relative;background-color: white;}#sk-container-id-1 div.sk-parallel-item:first-child::after {align-self: flex-end;width: 50%;}#sk-container-id-1 div.sk-parallel-item:last-child::after {align-self: flex-start;width: 50%;}#sk-container-id-1 div.sk-parallel-item:only-child::after {width: 0;}#sk-container-id-1 div.sk-dashed-wrapped {border: 1px dashed gray;margin: 0 0.4em 0.5em 0.4em;box-sizing: border-box;padding-bottom: 0.4em;background-color: white;}#sk-container-id-1 div.sk-label label {font-family: monospace;font-weight: bold;display: inline-block;line-height: 1.2em;}#sk-container-id-1 div.sk-label-container {text-align: center;}#sk-container-id-1 div.sk-container {/* jupyter's `normalize.less` sets `[hidden] { display: none; }` but bootstrap.min.css set `[hidden] { display: none !important; }` so we also need the `!important` here to be able to override the default hidden behavior on the sphinx rendered scikit-learn.org. See: https://github.com/scikit-learn/scikit-learn/issues/21755 */display: inline-block !important;position: relative;}#sk-container-id-1 div.sk-text-repr-fallback {display: none;}</style><div id=\"sk-container-id-1\" class=\"sk-top-container\"><div class=\"sk-text-repr-fallback\"><pre>SVC(random_state=0)</pre><b>In a Jupyter environment, please rerun this cell to show the HTML representation or trust the notebook. <br />On GitHub, the HTML representation is unable to render, please try loading this page with nbviewer.org.</b></div><div class=\"sk-container\" hidden><div class=\"sk-item\"><div class=\"sk-estimator sk-toggleable\"><input class=\"sk-toggleable__control sk-hidden--visually\" id=\"sk-estimator-id-1\" type=\"checkbox\" checked><label for=\"sk-estimator-id-1\" class=\"sk-toggleable__label sk-toggleable__label-arrow\">SVC</label><div class=\"sk-toggleable__content\"><pre>SVC(random_state=0)</pre></div></div></div></div></div>"
            ]
          },
          "metadata": {},
          "execution_count": 34
        }
      ],
      "source": [
        "from sklearn.svm import SVC\n",
        "clf = SVC(kernel = 'rbf', random_state = 0)\n",
        "clf.fit(X_train_new, y_train_new)"
      ]
    },
    {
      "cell_type": "code",
      "source": [],
      "metadata": {
        "id": "e4VRB1eIr-2D"
      },
      "execution_count": null,
      "outputs": []
    },
    {
      "cell_type": "code",
      "execution_count": null,
      "metadata": {
        "id": "cFTjEv8wpezm"
      },
      "outputs": [],
      "source": [
        "predicted = clf.predict(X_test_new)"
      ]
    },
    {
      "cell_type": "code",
      "execution_count": null,
      "metadata": {
        "colab": {
          "base_uri": "https://localhost:8080/"
        },
        "id": "Dy8lWUV5BmPK",
        "outputId": "38984cae-dcd2-45a3-f20f-05f325f09545"
      },
      "outputs": [
        {
          "output_type": "execute_result",
          "data": {
            "text/plain": [
              "array([1, 0, 0, ..., 0, 0, 0])"
            ]
          },
          "metadata": {},
          "execution_count": 36
        }
      ],
      "source": [
        "predicted"
      ]
    },
    {
      "cell_type": "markdown",
      "metadata": {
        "id": "fA32BmL1VHdS"
      },
      "source": [
        "### Performance"
      ]
    },
    {
      "cell_type": "code",
      "execution_count": null,
      "metadata": {
        "id": "Q35Ct1lxwvbB"
      },
      "outputs": [],
      "source": [
        "from sklearn import metrics\n",
        "cnf_matrix = metrics.confusion_matrix(y_test_new, predicted)"
      ]
    },
    {
      "cell_type": "code",
      "execution_count": null,
      "metadata": {
        "colab": {
          "base_uri": "https://localhost:8080/",
          "height": 550
        },
        "id": "aIMTK_Aqwt7A",
        "outputId": "36660e9b-b885-49f1-8b73-0fdc1a582dfd"
      },
      "outputs": [
        {
          "output_type": "display_data",
          "data": {
            "text/plain": [
              "<Figure size 640x480 with 2 Axes>"
            ],
            "image/png": "[encoded data removed]"
          },
          "metadata": {}
        }
      ],
      "source": [
        "import seaborn as sns\n",
        "\n",
        "class_names=[0,1] # name  of classes\n",
        "fig, ax = plt.subplots()\n",
        "tick_marks = np.arange(len(class_names))\n",
        "plt.xticks(tick_marks, class_names)\n",
        "plt.yticks(tick_marks, class_names)\n",
        "# create heatmap\n",
        "sns.heatmap(pd.DataFrame(cnf_matrix), annot=True, cmap=\"YlGnBu\" ,fmt='g')\n",
        "ax.xaxis.set_label_position(\"top\")\n",
        "plt.tight_layout()\n",
        "plt.title('Confusion matrix', y=1.1)\n",
        "plt.ylabel('Actual label')\n",
        "plt.xlabel('Predicted label')"
      ]
    },
    {
      "cell_type": "code",
      "execution_count": null,
      "metadata": {
        "colab": {
          "base_uri": "https://localhost:8080/"
        },
        "id": "gaISrM048y2n",
        "outputId": "b973e89c-f3c9-49b2-fccb-8c03ce2cd680"
      },
      "outputs": [
        {
          "output_type": "stream",
          "name": "stdout",
          "text": [
            "Accuracy = 0.6151535380507344\n",
            "Precision = 0.7131011608623549\n",
            "Recall = 0.3049645390070922\n",
            "F1 Score = 0.42722305017386986\n"
          ]
        }
      ],
      "source": [
        "print(\"Accuracy = {}\\nPrecision = {}\\nRecall = {}\\nF1 Score = {}\".format(metrics.accuracy_score(y_test_new, predicted), metrics.precision_score(y_test_new, predicted),metrics.recall_score(y_test_new, predicted),metrics.f1_score(y_test_new, predicted)))\n",
        "\n",
        "model_scores.append([metrics.accuracy_score(y_test_new, predicted), metrics.precision_score(y_test_new, predicted),metrics.recall_score(y_test_new, predicted),metrics.f1_score(y_test_new, predicted)])\n"
      ]
    },
    {
      "cell_type": "markdown",
      "metadata": {
        "id": "aDvHS8kU-JUh"
      },
      "source": [
        "## Training on Logistic Regression"
      ]
    },
    {
      "cell_type": "code",
      "execution_count": null,
      "metadata": {
        "id": "pc4_RzElmvdZ"
      },
      "outputs": [],
      "source": [
        "from sklearn.linear_model import LogisticRegression"
      ]
    },
    {
      "cell_type": "code",
      "execution_count": null,
      "metadata": {
        "colab": {
          "base_uri": "https://localhost:8080/",
          "height": 74
        },
        "id": "ckjIJXyF-ccn",
        "outputId": "a6db5819-dbd5-4c36-8626-6750b4799b87"
      },
      "outputs": [
        {
          "output_type": "execute_result",
          "data": {
            "text/plain": [
              "LogisticRegression()"
            ],
            "text/html": [
              "<style>#sk-container-id-2 {color: black;background-color: white;}#sk-container-id-2 pre{padding: 0;}#sk-container-id-2 div.sk-toggleable {background-color: white;}#sk-container-id-2 label.sk-toggleable__label {cursor: pointer;display: block;width: 100%;margin-bottom: 0;padding: 0.3em;box-sizing: border-box;text-align: center;}#sk-container-id-2 label.sk-toggleable__label-arrow:before {content: \"▸\";float: left;margin-right: 0.25em;color: #696969;}#sk-container-id-2 label.sk-toggleable__label-arrow:hover:before {color: black;}#sk-container-id-2 div.sk-estimator:hover label.sk-toggleable__label-arrow:before {color: black;}#sk-container-id-2 div.sk-toggleable__content {max-height: 0;max-width: 0;overflow: hidden;text-align: left;background-color: #f0f8ff;}#sk-container-id-2 div.sk-toggleable__content pre {margin: 0.2em;color: black;border-radius: 0.25em;background-color: #f0f8ff;}#sk-container-id-2 input.sk-toggleable__control:checked~div.sk-toggleable__content {max-height: 200px;max-width: 100%;overflow: auto;}#sk-container-id-2 input.sk-toggleable__control:checked~label.sk-toggleable__label-arrow:before {content: \"▾\";}#sk-container-id-2 div.sk-estimator input.sk-toggleable__control:checked~label.sk-toggleable__label {background-color: #d4ebff;}#sk-container-id-2 div.sk-label input.sk-toggleable__control:checked~label.sk-toggleable__label {background-color: #d4ebff;}#sk-container-id-2 input.sk-hidden--visually {border: 0;clip: rect(1px 1px 1px 1px);clip: rect(1px, 1px, 1px, 1px);height: 1px;margin: -1px;overflow: hidden;padding: 0;position: absolute;width: 1px;}#sk-container-id-2 div.sk-estimator {font-family: monospace;background-color: #f0f8ff;border: 1px dotted black;border-radius: 0.25em;box-sizing: border-box;margin-bottom: 0.5em;}#sk-container-id-2 div.sk-estimator:hover {background-color: #d4ebff;}#sk-container-id-2 div.sk-parallel-item::after {content: \"\";width: 100%;border-bottom: 1px solid gray;flex-grow: 1;}#sk-container-id-2 div.sk-label:hover label.sk-toggleable__label {background-color: #d4ebff;}#sk-container-id-2 div.sk-serial::before {content: \"\";position: absolute;border-left: 1px solid gray;box-sizing: border-box;top: 0;bottom: 0;left: 50%;z-index: 0;}#sk-container-id-2 div.sk-serial {display: flex;flex-direction: column;align-items: center;background-color: white;padding-right: 0.2em;padding-left: 0.2em;position: relative;}#sk-container-id-2 div.sk-item {position: relative;z-index: 1;}#sk-container-id-2 div.sk-parallel {display: flex;align-items: stretch;justify-content: center;background-color: white;position: relative;}#sk-container-id-2 div.sk-item::before, #sk-container-id-2 div.sk-parallel-item::before {content: \"\";position: absolute;border-left: 1px solid gray;box-sizing: border-box;top: 0;bottom: 0;left: 50%;z-index: -1;}#sk-container-id-2 div.sk-parallel-item {display: flex;flex-direction: column;z-index: 1;position: relative;background-color: white;}#sk-container-id-2 div.sk-parallel-item:first-child::after {align-self: flex-end;width: 50%;}#sk-container-id-2 div.sk-parallel-item:last-child::after {align-self: flex-start;width: 50%;}#sk-container-id-2 div.sk-parallel-item:only-child::after {width: 0;}#sk-container-id-2 div.sk-dashed-wrapped {border: 1px dashed gray;margin: 0 0.4em 0.5em 0.4em;box-sizing: border-box;padding-bottom: 0.4em;background-color: white;}#sk-container-id-2 div.sk-label label {font-family: monospace;font-weight: bold;display: inline-block;line-height: 1.2em;}#sk-container-id-2 div.sk-label-container {text-align: center;}#sk-container-id-2 div.sk-container {/* jupyter's `normalize.less` sets `[hidden] { display: none; }` but bootstrap.min.css set `[hidden] { display: none !important; }` so we also need the `!important` here to be able to override the default hidden behavior on the sphinx rendered scikit-learn.org. See: https://github.com/scikit-learn/scikit-learn/issues/21755 */display: inline-block !important;position: relative;}#sk-container-id-2 div.sk-text-repr-fallback {display: none;}</style><div id=\"sk-container-id-2\" class=\"sk-top-container\"><div class=\"sk-text-repr-fallback\"><pre>LogisticRegression()</pre><b>In a Jupyter environment, please rerun this cell to show the HTML representation or trust the notebook. <br />On GitHub, the HTML representation is unable to render, please try loading this page with nbviewer.org.</b></div><div class=\"sk-container\" hidden><div class=\"sk-item\"><div class=\"sk-estimator sk-toggleable\"><input class=\"sk-toggleable__control sk-hidden--visually\" id=\"sk-estimator-id-2\" type=\"checkbox\" checked><label for=\"sk-estimator-id-2\" class=\"sk-toggleable__label sk-toggleable__label-arrow\">LogisticRegression</label><div class=\"sk-toggleable__content\"><pre>LogisticRegression()</pre></div></div></div></div></div>"
            ]
          },
          "metadata": {},
          "execution_count": 42
        }
      ],
      "source": [
        "clf_logis = LogisticRegression()\n",
        "clf_logis.fit(X_train_new, y_train_new)"
      ]
    },
    {
      "cell_type": "code",
      "execution_count": null,
      "metadata": {
        "id": "PGT09n8G_U0e"
      },
      "outputs": [],
      "source": [
        "predict = clf_logis.predict(X_test_new)"
      ]
    },
    {
      "cell_type": "markdown",
      "metadata": {
        "id": "1cch7p1zVPCO"
      },
      "source": [
        "### Performance"
      ]
    },
    {
      "cell_type": "code",
      "execution_count": null,
      "metadata": {
        "colab": {
          "base_uri": "https://localhost:8080/",
          "height": 565
        },
        "id": "G6E5KniS3n7Q",
        "outputId": "88fd6317-bbbf-498c-9054-0ecaaa02cf12"
      },
      "outputs": [
        {
          "output_type": "execute_result",
          "data": {
            "text/plain": [
              "Text(0.5, 427.9555555555555, 'Predicted label')"
            ]
          },
          "metadata": {},
          "execution_count": 44
        },
        {
          "output_type": "display_data",
          "data": {
            "text/plain": [
              "<Figure size 640x480 with 2 Axes>"
            ],
            "image/png": "[encoded data removed]"
          },
          "metadata": {}
        }
      ],
      "source": [
        "cnf_matrix = metrics.confusion_matrix(y_test_new, predict)\n",
        "\n",
        "class_names=[0,1] # name  of classes\n",
        "fig, ax = plt.subplots()\n",
        "tick_marks = np.arange(len(class_names))\n",
        "plt.xticks(tick_marks, class_names)\n",
        "plt.yticks(tick_marks, class_names)\n",
        "# create heatmap\n",
        "sns.heatmap(pd.DataFrame(cnf_matrix), annot=True, cmap=\"YlGnBu\" ,fmt='g')\n",
        "ax.xaxis.set_label_position(\"top\")\n",
        "plt.tight_layout()\n",
        "plt.title('Confusion matrix', y=1.1)\n",
        "plt.ylabel('Actual label')\n",
        "plt.xlabel('Predicted label')"
      ]
    },
    {
      "cell_type": "code",
      "execution_count": null,
      "metadata": {
        "colab": {
          "base_uri": "https://localhost:8080/"
        },
        "id": "Phhv-p2p_VAk",
        "outputId": "94634552-f1ad-4c0d-8ccc-101817b2ac48"
      },
      "outputs": [
        {
          "output_type": "stream",
          "name": "stdout",
          "text": [
            "Accuracy = 0.5607476635514018\n",
            "Precision = 0.5549065420560748\n",
            "Recall = 0.33687943262411346\n",
            "F1 Score = 0.41924095322153576\n"
          ]
        }
      ],
      "source": [
        "print(\"Accuracy = {}\\nPrecision = {}\\nRecall = {}\\nF1 Score = {}\".format(metrics.accuracy_score(y_test_new, predict), metrics.precision_score(y_test_new, predict),metrics.recall_score(y_test_new, predict),metrics.f1_score(y_test_new, predict)))\n",
        "model_scores.append([metrics.accuracy_score(y_test_new, predict), metrics.precision_score(y_test_new, predict),metrics.recall_score(y_test_new, predict),metrics.f1_score(y_test_new, predict)])"
      ]
    },
    {
      "cell_type": "code",
      "execution_count": null,
      "metadata": {
        "colab": {
          "base_uri": "https://localhost:8080/"
        },
        "id": "q-n-W-Lfhp2o",
        "outputId": "e94578ed-ca69-429f-c58b-129237732447"
      },
      "outputs": [
        {
          "output_type": "execute_result",
          "data": {
            "text/plain": [
              "2"
            ]
          },
          "metadata": {},
          "execution_count": 46
        }
      ],
      "source": [
        "len(model_scores)"
      ]
    },
    {
      "cell_type": "code",
      "source": [
        "print(model_scores)"
      ],
      "metadata": {
        "colab": {
          "base_uri": "https://localhost:8080/"
        },
        "id": "dd1qjlhoRZ6w",
        "outputId": "72d05b82-c89f-4ce0-dea9-594bff7d97e2"
      },
      "execution_count": null,
      "outputs": [
        {
          "output_type": "stream",
          "name": "stdout",
          "text": [
            "[[0.6151535380507344, 0.7131011608623549, 0.3049645390070922, 0.42722305017386986], [0.5607476635514018, 0.5549065420560748, 0.33687943262411346, 0.41924095322153576]]\n"
          ]
        }
      ]
    },
    {
      "cell_type": "markdown",
      "metadata": {
        "id": "GnFFg0vtVeCH"
      },
      "source": [
        "## Second Approach Directly use 14 values of EEG data and use it for prediction"
      ]
    },
    {
      "cell_type": "markdown",
      "metadata": {
        "id": "hCJlgBEy58II"
      },
      "source": [
        "## Training on Neural Networks"
      ]
    },
    {
      "cell_type": "markdown",
      "metadata": {
        "id": "MN_--9h56Mi9"
      },
      "source": [
        "### Creating Model"
      ]
    },
    {
      "cell_type": "code",
      "execution_count": null,
      "metadata": {
        "id": "G8tW2xROi6lz"
      },
      "outputs": [],
      "source": [
        "from keras.models import Sequential\n",
        "from keras.layers import Dense, Dropout, BatchNormalization"
      ]
    },
    {
      "cell_type": "code",
      "execution_count": null,
      "metadata": {
        "colab": {
          "base_uri": "https://localhost:8080/"
        },
        "id": "AyF90BQuRXi_",
        "outputId": "c7f603e5-0101-4295-ade8-42283038f8ee"
      },
      "outputs": [
        {
          "output_type": "execute_result",
          "data": {
            "text/plain": [
              "(14980, 14)"
            ]
          },
          "metadata": {},
          "execution_count": 40
        }
      ],
      "source": [
        "x.shape"
      ]
    },
    {
      "cell_type": "code",
      "execution_count": null,
      "metadata": {
        "colab": {
          "base_uri": "https://localhost:8080/"
        },
        "id": "4AxUgQBli8xN",
        "outputId": "401ea609-34c8-40ec-8ac2-59cb7c281b3f"
      },
      "outputs": [
        {
          "output_type": "stream",
          "name": "stdout",
          "text": [
            "Model: \"sequential\"\n",
            "_________________________________________________________________\n",
            " Layer (type)                Output Shape              Param #   \n",
            "=================================================================\n",
            " dense (Dense)               (None, 512)               5120      \n",
            "                                                                 \n",
            " dense_1 (Dense)             (None, 1)                 513       \n",
            "                                                                 \n",
            "=================================================================\n",
            "Total params: 5633 (22.00 KB)\n",
            "Trainable params: 5633 (22.00 KB)\n",
            "Non-trainable params: 0 (0.00 Byte)\n",
            "_________________________________________________________________\n"
          ]
        }
      ],
      "source": [
        "model = Sequential()\n",
        "model.add(Dense(512, activation = 'relu', input_shape = (X_train_new.shape[1], )))\n",
        "model.add(Dense(1, activation = 'sigmoid'))\n",
        "model.summary()"
      ]
    },
    {
      "cell_type": "code",
      "execution_count": null,
      "metadata": {
        "colab": {
          "base_uri": "https://localhost:8080/"
        },
        "id": "Lpwu-Tg3jZr2",
        "outputId": "d9207093-b76d-438a-af6b-9d43b407f413"
      },
      "outputs": [
        {
          "output_type": "stream",
          "name": "stdout",
          "text": [
            "Model: \"sequential\"\n",
            "_________________________________________________________________\n",
            " Layer (type)                Output Shape              Param #   \n",
            "=================================================================\n",
            " dense (Dense)               (None, 512)               5120      \n",
            "                                                                 \n",
            " dense_1 (Dense)             (None, 1)                 513       \n",
            "                                                                 \n",
            "=================================================================\n",
            "Total params: 5633 (22.00 KB)\n",
            "Trainable params: 5633 (22.00 KB)\n",
            "Non-trainable params: 0 (0.00 Byte)\n",
            "_________________________________________________________________\n"
          ]
        }
      ],
      "source": [
        "model.compile(loss = 'binary_crossentropy', optimizer='adam', metrics=['accuracy'])\n",
        "model.summary()"
      ]
    },
    {
      "cell_type": "markdown",
      "metadata": {
        "id": "N9hvDrSn4y4N"
      },
      "source": [
        "### Training"
      ]
    },
    {
      "cell_type": "code",
      "execution_count": null,
      "metadata": {
        "colab": {
          "base_uri": "https://localhost:8080/"
        },
        "id": "i5f8eOroS2XQ",
        "outputId": "07e50f28-1baa-4ee5-dffd-424541a51634"
      },
      "outputs": [
        {
          "output_type": "execute_result",
          "data": {
            "text/plain": [
              "array([[-0.9839272 , -0.15408588,  0.10933962, ..., -0.23558059,\n",
              "        -0.15185134,  0.00552594],\n",
              "       [ 0.02701063,  0.25355098,  0.09169315, ...,  0.07937715,\n",
              "        -0.15818455, -0.11991045],\n",
              "       [-0.09257934, -0.12565428,  0.04498988, ...,  0.01800095,\n",
              "        -0.06470526,  0.06358824],\n",
              "       ...,\n",
              "       [ 0.0189917 ,  0.0635686 , -0.21385088, ..., -0.23506001,\n",
              "         0.41703537,  0.09387348],\n",
              "       [-0.18188258, -0.28500596, -0.08897007, ..., -0.08171022,\n",
              "         0.09719866,  0.02051246],\n",
              "       [-0.3074709 , -0.14590545, -0.11793179, ...,  0.13099581,\n",
              "        -0.30538912, -0.17958112]])"
            ]
          },
          "metadata": {},
          "execution_count": 43
        }
      ],
      "source": [
        "X_train_new"
      ]
    },
    {
      "cell_type": "code",
      "execution_count": null,
      "metadata": {
        "colab": {
          "base_uri": "https://localhost:8080/"
        },
        "id": "F3A_SZQYS5z2",
        "outputId": "dbaa753c-3ab6-4f00-f84c-d7bb784959cf"
      },
      "outputs": [
        {
          "output_type": "execute_result",
          "data": {
            "text/plain": [
              "array(['1', '0', '0', ..., '1', '1', '1'], dtype=object)"
            ]
          },
          "metadata": {},
          "execution_count": 44
        }
      ],
      "source": [
        "y_train.values.ravel()"
      ]
    },
    {
      "cell_type": "code",
      "execution_count": null,
      "metadata": {
        "id": "VMM_asu8Vz8f"
      },
      "outputs": [],
      "source": [
        "# y_train_new = np.array([int(x) for x in y_train.values.ravel()])\n",
        "# y_train_new"
      ]
    },
    {
      "cell_type": "code",
      "execution_count": null,
      "metadata": {
        "colab": {
          "base_uri": "https://localhost:8080/"
        },
        "id": "vKh20CJrmYV7",
        "outputId": "179df333-704e-4592-e5e2-958cae7d022a"
      },
      "outputs": [
        {
          "output_type": "stream",
          "name": "stdout",
          "text": [
            "Epoch 1/100\n",
            "338/338 - 2s - loss: 0.6496 - accuracy: 0.6082 - val_loss: 0.6368 - val_accuracy: 0.6063 - 2s/epoch - 5ms/step\n",
            "Epoch 2/100\n",
            "338/338 - 1s - loss: 0.6181 - accuracy: 0.6347 - val_loss: 0.6170 - val_accuracy: 0.6347 - 585ms/epoch - 2ms/step\n",
            "Epoch 3/100\n",
            "338/338 - 1s - loss: 0.6059 - accuracy: 0.6516 - val_loss: 0.6050 - val_accuracy: 0.6530 - 570ms/epoch - 2ms/step\n",
            "Epoch 4/100\n",
            "338/338 - 1s - loss: 0.5956 - accuracy: 0.6653 - val_loss: 0.5981 - val_accuracy: 0.6647 - 590ms/epoch - 2ms/step\n",
            "Epoch 5/100\n",
            "338/338 - 1s - loss: 0.5839 - accuracy: 0.6789 - val_loss: 0.5895 - val_accuracy: 0.6731 - 561ms/epoch - 2ms/step\n",
            "Epoch 6/100\n",
            "338/338 - 1s - loss: 0.5744 - accuracy: 0.6847 - val_loss: 0.5844 - val_accuracy: 0.6789 - 590ms/epoch - 2ms/step\n",
            "Epoch 7/100\n",
            "338/338 - 1s - loss: 0.5649 - accuracy: 0.6951 - val_loss: 0.5760 - val_accuracy: 0.6864 - 567ms/epoch - 2ms/step\n",
            "Epoch 8/100\n",
            "338/338 - 1s - loss: 0.5568 - accuracy: 0.7034 - val_loss: 0.5688 - val_accuracy: 0.6981 - 575ms/epoch - 2ms/step\n",
            "Epoch 9/100\n",
            "338/338 - 1s - loss: 0.5507 - accuracy: 0.7142 - val_loss: 0.5624 - val_accuracy: 0.7023 - 572ms/epoch - 2ms/step\n",
            "Epoch 10/100\n",
            "338/338 - 1s - loss: 0.5422 - accuracy: 0.7199 - val_loss: 0.5610 - val_accuracy: 0.7031 - 573ms/epoch - 2ms/step\n",
            "Epoch 11/100\n",
            "338/338 - 1s - loss: 0.5345 - accuracy: 0.7242 - val_loss: 0.5524 - val_accuracy: 0.7031 - 564ms/epoch - 2ms/step\n",
            "Epoch 12/100\n",
            "338/338 - 1s - loss: 0.5279 - accuracy: 0.7333 - val_loss: 0.5434 - val_accuracy: 0.7189 - 736ms/epoch - 2ms/step\n",
            "Epoch 13/100\n",
            "338/338 - 1s - loss: 0.5201 - accuracy: 0.7349 - val_loss: 0.5344 - val_accuracy: 0.7389 - 751ms/epoch - 2ms/step\n",
            "Epoch 14/100\n",
            "338/338 - 1s - loss: 0.5132 - accuracy: 0.7429 - val_loss: 0.5345 - val_accuracy: 0.7348 - 786ms/epoch - 2ms/step\n",
            "Epoch 15/100\n",
            "338/338 - 1s - loss: 0.5064 - accuracy: 0.7462 - val_loss: 0.5273 - val_accuracy: 0.7314 - 797ms/epoch - 2ms/step\n",
            "Epoch 16/100\n",
            "338/338 - 1s - loss: 0.5012 - accuracy: 0.7508 - val_loss: 0.5249 - val_accuracy: 0.7298 - 563ms/epoch - 2ms/step\n",
            "Epoch 17/100\n",
            "338/338 - 1s - loss: 0.4924 - accuracy: 0.7605 - val_loss: 0.5152 - val_accuracy: 0.7181 - 594ms/epoch - 2ms/step\n",
            "Epoch 18/100\n",
            "338/338 - 1s - loss: 0.4880 - accuracy: 0.7595 - val_loss: 0.5073 - val_accuracy: 0.7314 - 836ms/epoch - 2ms/step\n",
            "Epoch 19/100\n",
            "338/338 - 1s - loss: 0.4816 - accuracy: 0.7658 - val_loss: 0.5051 - val_accuracy: 0.7565 - 842ms/epoch - 2ms/step\n",
            "Epoch 20/100\n",
            "338/338 - 1s - loss: 0.4772 - accuracy: 0.7692 - val_loss: 0.5105 - val_accuracy: 0.7490 - 876ms/epoch - 3ms/step\n",
            "Epoch 21/100\n",
            "338/338 - 1s - loss: 0.4743 - accuracy: 0.7688 - val_loss: 0.5016 - val_accuracy: 0.7515 - 619ms/epoch - 2ms/step\n",
            "Epoch 22/100\n",
            "338/338 - 1s - loss: 0.4673 - accuracy: 0.7732 - val_loss: 0.4950 - val_accuracy: 0.7465 - 572ms/epoch - 2ms/step\n",
            "Epoch 23/100\n",
            "338/338 - 1s - loss: 0.4640 - accuracy: 0.7750 - val_loss: 0.4890 - val_accuracy: 0.7523 - 554ms/epoch - 2ms/step\n",
            "Epoch 24/100\n",
            "338/338 - 1s - loss: 0.4621 - accuracy: 0.7776 - val_loss: 0.4880 - val_accuracy: 0.7606 - 552ms/epoch - 2ms/step\n",
            "Epoch 25/100\n",
            "338/338 - 1s - loss: 0.4547 - accuracy: 0.7820 - val_loss: 0.4791 - val_accuracy: 0.7681 - 554ms/epoch - 2ms/step\n",
            "Epoch 26/100\n",
            "338/338 - 1s - loss: 0.4537 - accuracy: 0.7812 - val_loss: 0.4818 - val_accuracy: 0.7623 - 573ms/epoch - 2ms/step\n",
            "Epoch 27/100\n",
            "338/338 - 1s - loss: 0.4526 - accuracy: 0.7844 - val_loss: 0.4875 - val_accuracy: 0.7681 - 579ms/epoch - 2ms/step\n",
            "Epoch 28/100\n",
            "338/338 - 1s - loss: 0.4490 - accuracy: 0.7841 - val_loss: 0.4749 - val_accuracy: 0.7590 - 566ms/epoch - 2ms/step\n",
            "Epoch 29/100\n",
            "338/338 - 1s - loss: 0.4454 - accuracy: 0.7848 - val_loss: 0.4684 - val_accuracy: 0.7648 - 583ms/epoch - 2ms/step\n",
            "Epoch 30/100\n",
            "338/338 - 1s - loss: 0.4423 - accuracy: 0.7891 - val_loss: 0.4742 - val_accuracy: 0.7598 - 556ms/epoch - 2ms/step\n",
            "Epoch 31/100\n",
            "338/338 - 1s - loss: 0.4397 - accuracy: 0.7899 - val_loss: 0.4679 - val_accuracy: 0.7740 - 597ms/epoch - 2ms/step\n",
            "Epoch 32/100\n",
            "338/338 - 1s - loss: 0.4394 - accuracy: 0.7894 - val_loss: 0.4728 - val_accuracy: 0.7581 - 787ms/epoch - 2ms/step\n",
            "Epoch 33/100\n",
            "338/338 - 1s - loss: 0.4356 - accuracy: 0.7925 - val_loss: 0.4673 - val_accuracy: 0.7615 - 760ms/epoch - 2ms/step\n",
            "Epoch 34/100\n",
            "338/338 - 1s - loss: 0.4348 - accuracy: 0.7913 - val_loss: 0.4645 - val_accuracy: 0.7773 - 822ms/epoch - 2ms/step\n",
            "Epoch 35/100\n",
            "338/338 - 1s - loss: 0.4341 - accuracy: 0.7931 - val_loss: 0.4633 - val_accuracy: 0.7756 - 655ms/epoch - 2ms/step\n",
            "Epoch 36/100\n",
            "338/338 - 1s - loss: 0.4309 - accuracy: 0.7970 - val_loss: 0.4692 - val_accuracy: 0.7706 - 571ms/epoch - 2ms/step\n",
            "Epoch 37/100\n",
            "338/338 - 1s - loss: 0.4286 - accuracy: 0.7983 - val_loss: 0.4669 - val_accuracy: 0.7648 - 748ms/epoch - 2ms/step\n",
            "Epoch 38/100\n",
            "338/338 - 1s - loss: 0.4255 - accuracy: 0.7968 - val_loss: 0.4557 - val_accuracy: 0.7656 - 891ms/epoch - 3ms/step\n",
            "Epoch 39/100\n",
            "338/338 - 1s - loss: 0.4240 - accuracy: 0.8005 - val_loss: 0.4496 - val_accuracy: 0.7823 - 1s/epoch - 3ms/step\n",
            "Epoch 40/100\n",
            "338/338 - 1s - loss: 0.4236 - accuracy: 0.8010 - val_loss: 0.4516 - val_accuracy: 0.7865 - 928ms/epoch - 3ms/step\n",
            "Epoch 41/100\n",
            "338/338 - 1s - loss: 0.4196 - accuracy: 0.8045 - val_loss: 0.4466 - val_accuracy: 0.7715 - 1s/epoch - 3ms/step\n",
            "Epoch 42/100\n",
            "338/338 - 1s - loss: 0.4161 - accuracy: 0.8042 - val_loss: 0.4547 - val_accuracy: 0.7748 - 1s/epoch - 4ms/step\n",
            "Epoch 43/100\n",
            "338/338 - 1s - loss: 0.4153 - accuracy: 0.8050 - val_loss: 0.4474 - val_accuracy: 0.7815 - 1s/epoch - 4ms/step\n",
            "Epoch 44/100\n",
            "338/338 - 1s - loss: 0.4143 - accuracy: 0.8045 - val_loss: 0.4478 - val_accuracy: 0.7807 - 1s/epoch - 4ms/step\n",
            "Epoch 45/100\n",
            "338/338 - 2s - loss: 0.4167 - accuracy: 0.8013 - val_loss: 0.4521 - val_accuracy: 0.7781 - 2s/epoch - 5ms/step\n",
            "Epoch 46/100\n",
            "338/338 - 2s - loss: 0.4088 - accuracy: 0.8084 - val_loss: 0.4435 - val_accuracy: 0.7890 - 2s/epoch - 7ms/step\n",
            "Epoch 47/100\n",
            "338/338 - 1s - loss: 0.4078 - accuracy: 0.8063 - val_loss: 0.4419 - val_accuracy: 0.7848 - 1s/epoch - 3ms/step\n",
            "Epoch 48/100\n",
            "338/338 - 1s - loss: 0.4042 - accuracy: 0.8097 - val_loss: 0.4461 - val_accuracy: 0.7781 - 963ms/epoch - 3ms/step\n",
            "Epoch 49/100\n",
            "338/338 - 1s - loss: 0.4028 - accuracy: 0.8087 - val_loss: 0.4454 - val_accuracy: 0.7832 - 1s/epoch - 3ms/step\n",
            "Epoch 50/100\n",
            "338/338 - 1s - loss: 0.4006 - accuracy: 0.8117 - val_loss: 0.4406 - val_accuracy: 0.7807 - 1s/epoch - 3ms/step\n",
            "Epoch 51/100\n",
            "338/338 - 1s - loss: 0.4081 - accuracy: 0.8102 - val_loss: 0.4317 - val_accuracy: 0.7865 - 1s/epoch - 4ms/step\n",
            "Epoch 52/100\n",
            "338/338 - 1s - loss: 0.3966 - accuracy: 0.8133 - val_loss: 0.4286 - val_accuracy: 0.7915 - 1s/epoch - 4ms/step\n",
            "Epoch 53/100\n",
            "338/338 - 1s - loss: 0.3939 - accuracy: 0.8146 - val_loss: 0.4392 - val_accuracy: 0.7898 - 1s/epoch - 3ms/step\n",
            "Epoch 54/100\n",
            "338/338 - 1s - loss: 0.3959 - accuracy: 0.8151 - val_loss: 0.4346 - val_accuracy: 0.7923 - 918ms/epoch - 3ms/step\n",
            "Epoch 55/100\n",
            "338/338 - 1s - loss: 0.3921 - accuracy: 0.8188 - val_loss: 0.4385 - val_accuracy: 0.7840 - 891ms/epoch - 3ms/step\n",
            "Epoch 56/100\n",
            "338/338 - 2s - loss: 0.3967 - accuracy: 0.8121 - val_loss: 0.4270 - val_accuracy: 0.7973 - 2s/epoch - 5ms/step\n",
            "Epoch 57/100\n",
            "338/338 - 2s - loss: 0.3881 - accuracy: 0.8209 - val_loss: 0.4364 - val_accuracy: 0.7865 - 2s/epoch - 6ms/step\n",
            "Epoch 58/100\n",
            "338/338 - 1s - loss: 0.3890 - accuracy: 0.8184 - val_loss: 0.4349 - val_accuracy: 0.7907 - 1s/epoch - 4ms/step\n",
            "Epoch 59/100\n",
            "338/338 - 1s - loss: 0.3866 - accuracy: 0.8214 - val_loss: 0.4317 - val_accuracy: 0.7890 - 1s/epoch - 4ms/step\n",
            "Epoch 60/100\n",
            "338/338 - 1s - loss: 0.3840 - accuracy: 0.8214 - val_loss: 0.4268 - val_accuracy: 0.7948 - 1s/epoch - 3ms/step\n",
            "Epoch 61/100\n",
            "338/338 - 1s - loss: 0.3854 - accuracy: 0.8208 - val_loss: 0.4285 - val_accuracy: 0.7957 - 1s/epoch - 3ms/step\n",
            "Epoch 62/100\n",
            "338/338 - 1s - loss: 0.3837 - accuracy: 0.8215 - val_loss: 0.4260 - val_accuracy: 0.7990 - 578ms/epoch - 2ms/step\n",
            "Epoch 63/100\n",
            "338/338 - 1s - loss: 0.3833 - accuracy: 0.8205 - val_loss: 0.4208 - val_accuracy: 0.7982 - 580ms/epoch - 2ms/step\n",
            "Epoch 64/100\n",
            "338/338 - 1s - loss: 0.3806 - accuracy: 0.8227 - val_loss: 0.4178 - val_accuracy: 0.7990 - 579ms/epoch - 2ms/step\n",
            "Epoch 65/100\n",
            "338/338 - 1s - loss: 0.3775 - accuracy: 0.8269 - val_loss: 0.4199 - val_accuracy: 0.8007 - 596ms/epoch - 2ms/step\n",
            "Epoch 66/100\n",
            "338/338 - 1s - loss: 0.3785 - accuracy: 0.8272 - val_loss: 0.4221 - val_accuracy: 0.8007 - 588ms/epoch - 2ms/step\n",
            "Epoch 67/100\n",
            "338/338 - 1s - loss: 0.3746 - accuracy: 0.8317 - val_loss: 0.4174 - val_accuracy: 0.8032 - 596ms/epoch - 2ms/step\n",
            "Epoch 68/100\n",
            "338/338 - 1s - loss: 0.3743 - accuracy: 0.8264 - val_loss: 0.4117 - val_accuracy: 0.8073 - 582ms/epoch - 2ms/step\n",
            "Epoch 69/100\n",
            "338/338 - 1s - loss: 0.3748 - accuracy: 0.8256 - val_loss: 0.4278 - val_accuracy: 0.7907 - 600ms/epoch - 2ms/step\n",
            "Epoch 70/100\n",
            "338/338 - 1s - loss: 0.3698 - accuracy: 0.8287 - val_loss: 0.4259 - val_accuracy: 0.7998 - 884ms/epoch - 3ms/step\n",
            "Epoch 71/100\n",
            "338/338 - 1s - loss: 0.3702 - accuracy: 0.8282 - val_loss: 0.4173 - val_accuracy: 0.8057 - 918ms/epoch - 3ms/step\n",
            "Epoch 72/100\n",
            "338/338 - 1s - loss: 0.3702 - accuracy: 0.8306 - val_loss: 0.4200 - val_accuracy: 0.7957 - 849ms/epoch - 3ms/step\n",
            "Epoch 73/100\n",
            "338/338 - 1s - loss: 0.3682 - accuracy: 0.8300 - val_loss: 0.4214 - val_accuracy: 0.7940 - 584ms/epoch - 2ms/step\n",
            "Epoch 74/100\n",
            "338/338 - 1s - loss: 0.3663 - accuracy: 0.8325 - val_loss: 0.4160 - val_accuracy: 0.8048 - 577ms/epoch - 2ms/step\n",
            "Epoch 75/100\n",
            "338/338 - 1s - loss: 0.3651 - accuracy: 0.8343 - val_loss: 0.4215 - val_accuracy: 0.8032 - 600ms/epoch - 2ms/step\n",
            "Epoch 76/100\n",
            "338/338 - 1s - loss: 0.3637 - accuracy: 0.8302 - val_loss: 0.4277 - val_accuracy: 0.7973 - 612ms/epoch - 2ms/step\n",
            "Epoch 77/100\n",
            "338/338 - 1s - loss: 0.3624 - accuracy: 0.8336 - val_loss: 0.4101 - val_accuracy: 0.8073 - 607ms/epoch - 2ms/step\n",
            "Epoch 78/100\n",
            "338/338 - 1s - loss: 0.3642 - accuracy: 0.8321 - val_loss: 0.4105 - val_accuracy: 0.8048 - 594ms/epoch - 2ms/step\n",
            "Epoch 79/100\n",
            "338/338 - 1s - loss: 0.3612 - accuracy: 0.8343 - val_loss: 0.4087 - val_accuracy: 0.8007 - 601ms/epoch - 2ms/step\n",
            "Epoch 80/100\n",
            "338/338 - 1s - loss: 0.3616 - accuracy: 0.8312 - val_loss: 0.4148 - val_accuracy: 0.8057 - 572ms/epoch - 2ms/step\n",
            "Epoch 81/100\n",
            "338/338 - 1s - loss: 0.3607 - accuracy: 0.8321 - val_loss: 0.4190 - val_accuracy: 0.8032 - 572ms/epoch - 2ms/step\n",
            "Epoch 82/100\n",
            "338/338 - 1s - loss: 0.3576 - accuracy: 0.8348 - val_loss: 0.4053 - val_accuracy: 0.8132 - 589ms/epoch - 2ms/step\n",
            "Epoch 83/100\n",
            "338/338 - 1s - loss: 0.3551 - accuracy: 0.8395 - val_loss: 0.4210 - val_accuracy: 0.7948 - 588ms/epoch - 2ms/step\n",
            "Epoch 84/100\n",
            "338/338 - 1s - loss: 0.3553 - accuracy: 0.8342 - val_loss: 0.4135 - val_accuracy: 0.7973 - 568ms/epoch - 2ms/step\n",
            "Epoch 85/100\n",
            "338/338 - 1s - loss: 0.3525 - accuracy: 0.8411 - val_loss: 0.4165 - val_accuracy: 0.8073 - 594ms/epoch - 2ms/step\n",
            "Epoch 86/100\n",
            "338/338 - 1s - loss: 0.3535 - accuracy: 0.8393 - val_loss: 0.4121 - val_accuracy: 0.8082 - 573ms/epoch - 2ms/step\n",
            "Epoch 87/100\n",
            "338/338 - 1s - loss: 0.3506 - accuracy: 0.8375 - val_loss: 0.4149 - val_accuracy: 0.8007 - 582ms/epoch - 2ms/step\n",
            "Epoch 88/100\n",
            "338/338 - 1s - loss: 0.3510 - accuracy: 0.8410 - val_loss: 0.4037 - val_accuracy: 0.8073 - 600ms/epoch - 2ms/step\n",
            "Epoch 89/100\n",
            "338/338 - 1s - loss: 0.3492 - accuracy: 0.8396 - val_loss: 0.4100 - val_accuracy: 0.8082 - 665ms/epoch - 2ms/step\n",
            "Epoch 90/100\n",
            "338/338 - 1s - loss: 0.3486 - accuracy: 0.8403 - val_loss: 0.4193 - val_accuracy: 0.8040 - 770ms/epoch - 2ms/step\n",
            "Epoch 91/100\n",
            "338/338 - 1s - loss: 0.3471 - accuracy: 0.8427 - val_loss: 0.4056 - val_accuracy: 0.8048 - 851ms/epoch - 3ms/step\n",
            "Epoch 92/100\n",
            "338/338 - 1s - loss: 0.3516 - accuracy: 0.8386 - val_loss: 0.4114 - val_accuracy: 0.8123 - 877ms/epoch - 3ms/step\n",
            "Epoch 93/100\n",
            "338/338 - 1s - loss: 0.3451 - accuracy: 0.8416 - val_loss: 0.4094 - val_accuracy: 0.8065 - 555ms/epoch - 2ms/step\n",
            "Epoch 94/100\n",
            "338/338 - 1s - loss: 0.3465 - accuracy: 0.8414 - val_loss: 0.4004 - val_accuracy: 0.8123 - 576ms/epoch - 2ms/step\n",
            "Epoch 95/100\n",
            "338/338 - 1s - loss: 0.3450 - accuracy: 0.8410 - val_loss: 0.4119 - val_accuracy: 0.8032 - 569ms/epoch - 2ms/step\n",
            "Epoch 96/100\n",
            "338/338 - 1s - loss: 0.3453 - accuracy: 0.8450 - val_loss: 0.3989 - val_accuracy: 0.8123 - 584ms/epoch - 2ms/step\n",
            "Epoch 97/100\n",
            "338/338 - 1s - loss: 0.3430 - accuracy: 0.8441 - val_loss: 0.4066 - val_accuracy: 0.8073 - 576ms/epoch - 2ms/step\n",
            "Epoch 98/100\n",
            "338/338 - 1s - loss: 0.3432 - accuracy: 0.8431 - val_loss: 0.4033 - val_accuracy: 0.8123 - 573ms/epoch - 2ms/step\n",
            "Epoch 99/100\n",
            "338/338 - 1s - loss: 0.3430 - accuracy: 0.8441 - val_loss: 0.3920 - val_accuracy: 0.8148 - 963ms/epoch - 3ms/step\n",
            "Epoch 100/100\n",
            "338/338 - 1s - loss: 0.3434 - accuracy: 0.8457 - val_loss: 0.4089 - val_accuracy: 0.8065 - 866ms/epoch - 3ms/step\n"
          ]
        }
      ],
      "source": [
        "hist = model.fit(X_train_new, y_train_new, epochs = 100, validation_split = 0.1, verbose = 2)"
      ]
    },
    {
      "cell_type": "code",
      "execution_count": null,
      "metadata": {
        "id": "dP1QEO45YSwv"
      },
      "outputs": [],
      "source": [
        "# y_test_new = np.array([int(x) for x in y_test.values.ravel()])\n",
        "# y_test_new"
      ]
    },
    {
      "cell_type": "code",
      "execution_count": null,
      "metadata": {
        "colab": {
          "base_uri": "https://localhost:8080/"
        },
        "id": "zpdk9x9xngJG",
        "outputId": "f829bcd1-1c76-4649-88a5-2ec3e6a7201b"
      },
      "outputs": [
        {
          "output_type": "stream",
          "name": "stdout",
          "text": [
            "94/94 - 0s - loss: 0.3990 - accuracy: 0.8077 - 456ms/epoch - 5ms/step\n",
            "Accuracy:  0.8077436685562134\n"
          ]
        }
      ],
      "source": [
        "score = model.evaluate(X_test_new, y_test_new, verbose=2)\n",
        "print(\"Accuracy: \", score[1])"
      ]
    },
    {
      "cell_type": "code",
      "execution_count": null,
      "metadata": {
        "colab": {
          "base_uri": "https://localhost:8080/"
        },
        "id": "zL_el0fmwOPF",
        "outputId": "89ad17e9-b164-46a5-8a20-085036f9c089"
      },
      "outputs": [
        {
          "output_type": "stream",
          "name": "stdout",
          "text": [
            "94/94 [==============================] - 0s 1ms/step\n"
          ]
        }
      ],
      "source": [
        "predict2 = [1 if a>0.5 else 0 for a in model.predict(X_test_new)]"
      ]
    },
    {
      "cell_type": "markdown",
      "metadata": {
        "id": "OINWUOwYV5A0"
      },
      "source": [
        "### Performance"
      ]
    },
    {
      "cell_type": "code",
      "execution_count": null,
      "metadata": {
        "colab": {
          "base_uri": "https://localhost:8080/",
          "height": 568
        },
        "id": "wg1OIRd55GNh",
        "outputId": "d9a68ae7-4f96-445e-e2b3-d0bd1257b2ab"
      },
      "outputs": [
        {
          "output_type": "execute_result",
          "data": {
            "text/plain": [
              "Text(0.5, 427.9555555555555, 'Predicted label')"
            ]
          },
          "metadata": {},
          "execution_count": 50
        },
        {
          "output_type": "display_data",
          "data": {
            "text/plain": [
              "<Figure size 640x480 with 2 Axes>"
            ],
            "image/png": "[encoded data removed]"
          },
          "metadata": {}
        }
      ],
      "source": [
        "cnf_matrix = metrics.confusion_matrix(y_test_new, predict2)\n",
        "\n",
        "class_names=[0,1] # name  of classes\n",
        "fig, ax = plt.subplots()\n",
        "tick_marks = np.arange(len(class_names))\n",
        "plt.xticks(tick_marks, class_names)\n",
        "plt.yticks(tick_marks, class_names)\n",
        "# create heatmap\n",
        "sns.heatmap(pd.DataFrame(cnf_matrix), annot=True, cmap=\"YlGnBu\" ,fmt='g')\n",
        "ax.xaxis.set_label_position(\"top\")\n",
        "plt.tight_layout()\n",
        "plt.title('Confusion matrix', y=1.1)\n",
        "plt.ylabel('Actual label')\n",
        "plt.xlabel('Predicted label')"
      ]
    },
    {
      "cell_type": "code",
      "execution_count": null,
      "metadata": {
        "colab": {
          "base_uri": "https://localhost:8080/"
        },
        "id": "ScN-ERsEwXjw",
        "outputId": "9d14f742-7d7b-4b5a-ed21-16e5b87cbf44"
      },
      "outputs": [
        {
          "output_type": "stream",
          "name": "stdout",
          "text": [
            "Accuracy = 0.807743658210948\n",
            "Precision = 0.8107302533532041\n",
            "Recall = 0.7716312056737589\n",
            "F1 Score = 0.7906976744186046\n"
          ]
        }
      ],
      "source": [
        "print(\"Accuracy = {}\\nPrecision = {}\\nRecall = {}\\nF1 Score = {}\".format(metrics.accuracy_score(y_test_new, predict2), metrics.precision_score(y_test_new, predict2),metrics.recall_score(y_test_new, predict2),metrics.f1_score(y_test_new, predict2)))\n",
        "model_scores.append([metrics.accuracy_score(y_test_new, predict2), metrics.precision_score(y_test_new, predict2),metrics.recall_score(y_test_new, predict2),metrics.f1_score(y_test_new, predict2)])"
      ]
    },
    {
      "cell_type": "code",
      "execution_count": null,
      "metadata": {
        "colab": {
          "base_uri": "https://localhost:8080/"
        },
        "id": "gVi_pUGghmXX",
        "outputId": "d72dce47-68d8-4995-e46d-ef7c894bf406"
      },
      "outputs": [
        {
          "output_type": "execute_result",
          "data": {
            "text/plain": [
              "3"
            ]
          },
          "metadata": {},
          "execution_count": 52
        }
      ],
      "source": [
        "len(model_scores)"
      ]
    },
    {
      "cell_type": "markdown",
      "metadata": {
        "id": "L9mkRjYIa1iz"
      },
      "source": [
        "# Improved Neural Network (Tuning Parameters)"
      ]
    },
    {
      "cell_type": "code",
      "execution_count": null,
      "metadata": {
        "colab": {
          "base_uri": "https://localhost:8080/"
        },
        "id": "tzNim7esa0g7",
        "outputId": "64411e97-6d1d-4188-a696-f847e03aff93"
      },
      "outputs": [
        {
          "output_type": "stream",
          "name": "stdout",
          "text": [
            "Model: \"sequential_1\"\n",
            "_________________________________________________________________\n",
            " Layer (type)                Output Shape              Param #   \n",
            "=================================================================\n",
            " dense_2 (Dense)             (None, 1000)              10000     \n",
            "                                                                 \n",
            " dropout (Dropout)           (None, 1000)              0         \n",
            "                                                                 \n",
            " dense_3 (Dense)             (None, 1000)              1001000   \n",
            "                                                                 \n",
            " dropout_1 (Dropout)         (None, 1000)              0         \n",
            "                                                                 \n",
            " dense_4 (Dense)             (None, 1000)              1001000   \n",
            "                                                                 \n",
            " dropout_2 (Dropout)         (None, 1000)              0         \n",
            "                                                                 \n",
            " dense_5 (Dense)             (None, 1)                 1001      \n",
            "                                                                 \n",
            "=================================================================\n",
            "Total params: 2013001 (7.68 MB)\n",
            "Trainable params: 2013001 (7.68 MB)\n",
            "Non-trainable params: 0 (0.00 Byte)\n",
            "_________________________________________________________________\n"
          ]
        }
      ],
      "source": [
        "model2 = Sequential()\n",
        "model2.add(Dense(1000, activation = 'relu', input_shape = (X_train_new.shape[1], )))\n",
        "model2.add(Dropout(0.2))\n",
        "model2.add(Dense(1000, activation = 'relu'))\n",
        "model2.add(Dropout(0.2))\n",
        "model2.add(Dense(1000, activation = 'relu'))\n",
        "model2.add(Dropout(0.2))\n",
        "model2.add(Dense(1, activation = 'sigmoid'))\n",
        "model2.summary()"
      ]
    },
    {
      "cell_type": "code",
      "execution_count": null,
      "metadata": {
        "colab": {
          "base_uri": "https://localhost:8080/"
        },
        "id": "3DCvBvfKbzpn",
        "outputId": "34c43b5a-d74d-4038-e247-1da8f8c852d1"
      },
      "outputs": [
        {
          "output_type": "stream",
          "name": "stdout",
          "text": [
            "Model: \"sequential_1\"\n",
            "_________________________________________________________________\n",
            " Layer (type)                Output Shape              Param #   \n",
            "=================================================================\n",
            " dense_2 (Dense)             (None, 1000)              10000     \n",
            "                                                                 \n",
            " dropout (Dropout)           (None, 1000)              0         \n",
            "                                                                 \n",
            " dense_3 (Dense)             (None, 1000)              1001000   \n",
            "                                                                 \n",
            " dropout_1 (Dropout)         (None, 1000)              0         \n",
            "                                                                 \n",
            " dense_4 (Dense)             (None, 1000)              1001000   \n",
            "                                                                 \n",
            " dropout_2 (Dropout)         (None, 1000)              0         \n",
            "                                                                 \n",
            " dense_5 (Dense)             (None, 1)                 1001      \n",
            "                                                                 \n",
            "=================================================================\n",
            "Total params: 2013001 (7.68 MB)\n",
            "Trainable params: 2013001 (7.68 MB)\n",
            "Non-trainable params: 0 (0.00 Byte)\n",
            "_________________________________________________________________\n"
          ]
        }
      ],
      "source": [
        "model2.compile(loss = 'binary_crossentropy', optimizer='adam', metrics=['accuracy'])\n",
        "model2.summary()"
      ]
    },
    {
      "cell_type": "code",
      "execution_count": null,
      "metadata": {
        "colab": {
          "base_uri": "https://localhost:8080/"
        },
        "id": "qepgTEuYb206",
        "outputId": "13554648-55f6-4e91-cc30-6cdaba373bdf"
      },
      "outputs": [
        {
          "output_type": "stream",
          "name": "stdout",
          "text": [
            "Epoch 1/100\n",
            "338/338 - 12s - loss: 0.6327 - accuracy: 0.6439 - val_loss: 0.5531 - val_accuracy: 0.7114 - 12s/epoch - 37ms/step\n",
            "Epoch 2/100\n",
            "338/338 - 11s - loss: 0.5526 - accuracy: 0.7291 - val_loss: 0.4785 - val_accuracy: 0.7548 - 11s/epoch - 33ms/step\n",
            "Epoch 3/100\n",
            "338/338 - 12s - loss: 0.4686 - accuracy: 0.7675 - val_loss: 0.4555 - val_accuracy: 0.7715 - 12s/epoch - 34ms/step\n",
            "Epoch 4/100\n",
            "338/338 - 12s - loss: 0.4434 - accuracy: 0.7815 - val_loss: 0.4415 - val_accuracy: 0.7915 - 12s/epoch - 35ms/step\n",
            "Epoch 5/100\n",
            "338/338 - 11s - loss: 0.4380 - accuracy: 0.7943 - val_loss: 0.4271 - val_accuracy: 0.7932 - 11s/epoch - 34ms/step\n",
            "Epoch 6/100\n",
            "338/338 - 13s - loss: 0.4028 - accuracy: 0.8076 - val_loss: 0.4040 - val_accuracy: 0.7982 - 13s/epoch - 38ms/step\n",
            "Epoch 7/100\n",
            "338/338 - 11s - loss: 0.3892 - accuracy: 0.8161 - val_loss: 0.3906 - val_accuracy: 0.8123 - 11s/epoch - 34ms/step\n",
            "Epoch 8/100\n",
            "338/338 - 12s - loss: 0.3800 - accuracy: 0.8240 - val_loss: 0.3929 - val_accuracy: 0.8090 - 12s/epoch - 35ms/step\n",
            "Epoch 9/100\n",
            "338/338 - 11s - loss: 0.3574 - accuracy: 0.8337 - val_loss: 0.3997 - val_accuracy: 0.8015 - 11s/epoch - 32ms/step\n",
            "Epoch 10/100\n",
            "338/338 - 12s - loss: 0.3689 - accuracy: 0.8328 - val_loss: 0.3972 - val_accuracy: 0.8140 - 12s/epoch - 37ms/step\n",
            "Epoch 11/100\n",
            "338/338 - 12s - loss: 0.3428 - accuracy: 0.8378 - val_loss: 0.3623 - val_accuracy: 0.8249 - 12s/epoch - 35ms/step\n",
            "Epoch 12/100\n",
            "338/338 - 13s - loss: 0.3312 - accuracy: 0.8477 - val_loss: 0.3824 - val_accuracy: 0.8265 - 13s/epoch - 39ms/step\n",
            "Epoch 13/100\n",
            "338/338 - 12s - loss: 0.3246 - accuracy: 0.8512 - val_loss: 0.3905 - val_accuracy: 0.8098 - 12s/epoch - 34ms/step\n",
            "Epoch 14/100\n",
            "338/338 - 12s - loss: 0.3159 - accuracy: 0.8545 - val_loss: 0.3724 - val_accuracy: 0.8274 - 12s/epoch - 35ms/step\n",
            "Epoch 15/100\n",
            "338/338 - 12s - loss: 0.3171 - accuracy: 0.8521 - val_loss: 0.3554 - val_accuracy: 0.8349 - 12s/epoch - 34ms/step\n",
            "Epoch 16/100\n",
            "338/338 - 12s - loss: 0.3084 - accuracy: 0.8589 - val_loss: 0.3697 - val_accuracy: 0.8299 - 12s/epoch - 35ms/step\n",
            "Epoch 17/100\n",
            "338/338 - 11s - loss: 0.3361 - accuracy: 0.8567 - val_loss: 0.3565 - val_accuracy: 0.8340 - 11s/epoch - 33ms/step\n",
            "Epoch 18/100\n",
            "338/338 - 11s - loss: 0.2996 - accuracy: 0.8637 - val_loss: 0.3566 - val_accuracy: 0.8424 - 11s/epoch - 31ms/step\n",
            "Epoch 19/100\n",
            "338/338 - 11s - loss: 0.2910 - accuracy: 0.8676 - val_loss: 0.3860 - val_accuracy: 0.8365 - 11s/epoch - 34ms/step\n",
            "Epoch 20/100\n",
            "338/338 - 12s - loss: 0.2866 - accuracy: 0.8678 - val_loss: 0.3749 - val_accuracy: 0.8340 - 12s/epoch - 35ms/step\n",
            "Epoch 21/100\n",
            "338/338 - 11s - loss: 0.2799 - accuracy: 0.8732 - val_loss: 0.3693 - val_accuracy: 0.8324 - 11s/epoch - 33ms/step\n",
            "Epoch 22/100\n",
            "338/338 - 11s - loss: 0.2793 - accuracy: 0.8743 - val_loss: 0.3542 - val_accuracy: 0.8407 - 11s/epoch - 32ms/step\n",
            "Epoch 23/100\n",
            "338/338 - 11s - loss: 0.2683 - accuracy: 0.8757 - val_loss: 0.3574 - val_accuracy: 0.8449 - 11s/epoch - 34ms/step\n",
            "Epoch 24/100\n",
            "338/338 - 12s - loss: 0.2624 - accuracy: 0.8808 - val_loss: 0.3881 - val_accuracy: 0.8265 - 12s/epoch - 35ms/step\n",
            "Epoch 25/100\n",
            "338/338 - 11s - loss: 0.2580 - accuracy: 0.8862 - val_loss: 0.3614 - val_accuracy: 0.8457 - 11s/epoch - 34ms/step\n",
            "Epoch 26/100\n",
            "338/338 - 11s - loss: 0.2647 - accuracy: 0.8790 - val_loss: 0.3644 - val_accuracy: 0.8432 - 11s/epoch - 33ms/step\n",
            "Epoch 27/100\n",
            "338/338 - 11s - loss: 0.2520 - accuracy: 0.8860 - val_loss: 0.3649 - val_accuracy: 0.8507 - 11s/epoch - 32ms/step\n",
            "Epoch 28/100\n",
            "338/338 - 12s - loss: 0.2534 - accuracy: 0.8830 - val_loss: 0.3659 - val_accuracy: 0.8357 - 12s/epoch - 35ms/step\n",
            "Epoch 29/100\n",
            "338/338 - 12s - loss: 0.2480 - accuracy: 0.8901 - val_loss: 0.3715 - val_accuracy: 0.8415 - 12s/epoch - 36ms/step\n",
            "Epoch 30/100\n",
            "338/338 - 11s - loss: 0.2372 - accuracy: 0.8915 - val_loss: 0.3742 - val_accuracy: 0.8415 - 11s/epoch - 34ms/step\n",
            "Epoch 31/100\n",
            "338/338 - 11s - loss: 0.2370 - accuracy: 0.8946 - val_loss: 0.3828 - val_accuracy: 0.8415 - 11s/epoch - 34ms/step\n",
            "Epoch 32/100\n",
            "338/338 - 11s - loss: 0.2423 - accuracy: 0.8924 - val_loss: 0.3879 - val_accuracy: 0.8290 - 11s/epoch - 33ms/step\n",
            "Epoch 33/100\n",
            "338/338 - 11s - loss: 0.2331 - accuracy: 0.8994 - val_loss: 0.3717 - val_accuracy: 0.8440 - 11s/epoch - 34ms/step\n",
            "Epoch 34/100\n",
            "338/338 - 12s - loss: 0.2263 - accuracy: 0.8974 - val_loss: 0.3963 - val_accuracy: 0.8440 - 12s/epoch - 35ms/step\n",
            "Epoch 35/100\n",
            "338/338 - 11s - loss: 0.2241 - accuracy: 0.9038 - val_loss: 0.3841 - val_accuracy: 0.8349 - 11s/epoch - 33ms/step\n",
            "Epoch 36/100\n",
            "338/338 - 11s - loss: 0.2197 - accuracy: 0.9033 - val_loss: 0.3828 - val_accuracy: 0.8357 - 11s/epoch - 32ms/step\n",
            "Epoch 37/100\n",
            "338/338 - 11s - loss: 0.2187 - accuracy: 0.9037 - val_loss: 0.3924 - val_accuracy: 0.8307 - 11s/epoch - 33ms/step\n",
            "Epoch 38/100\n",
            "338/338 - 11s - loss: 0.2254 - accuracy: 0.8996 - val_loss: 0.3590 - val_accuracy: 0.8374 - 11s/epoch - 33ms/step\n",
            "Epoch 39/100\n",
            "338/338 - 11s - loss: 0.2125 - accuracy: 0.9041 - val_loss: 0.3635 - val_accuracy: 0.8382 - 11s/epoch - 33ms/step\n",
            "Epoch 40/100\n",
            "338/338 - 11s - loss: 0.2058 - accuracy: 0.9092 - val_loss: 0.3766 - val_accuracy: 0.8424 - 11s/epoch - 33ms/step\n",
            "Epoch 41/100\n",
            "338/338 - 11s - loss: 0.2009 - accuracy: 0.9121 - val_loss: 0.3940 - val_accuracy: 0.8357 - 11s/epoch - 34ms/step\n",
            "Epoch 42/100\n",
            "338/338 - 12s - loss: 0.2076 - accuracy: 0.9082 - val_loss: 0.3880 - val_accuracy: 0.8324 - 12s/epoch - 35ms/step\n",
            "Epoch 43/100\n",
            "338/338 - 11s - loss: 0.1969 - accuracy: 0.9097 - val_loss: 0.4307 - val_accuracy: 0.8482 - 11s/epoch - 32ms/step\n",
            "Epoch 44/100\n",
            "338/338 - 11s - loss: 0.2145 - accuracy: 0.9133 - val_loss: 0.3946 - val_accuracy: 0.8457 - 11s/epoch - 31ms/step\n",
            "Epoch 45/100\n",
            "338/338 - 11s - loss: 0.1958 - accuracy: 0.9139 - val_loss: 0.3867 - val_accuracy: 0.8399 - 11s/epoch - 32ms/step\n",
            "Epoch 46/100\n",
            "338/338 - 11s - loss: 0.1916 - accuracy: 0.9169 - val_loss: 0.4002 - val_accuracy: 0.8440 - 11s/epoch - 32ms/step\n",
            "Epoch 47/100\n",
            "338/338 - 12s - loss: 0.1913 - accuracy: 0.9155 - val_loss: 0.3971 - val_accuracy: 0.8432 - 12s/epoch - 36ms/step\n",
            "Epoch 48/100\n",
            "338/338 - 11s - loss: 0.1795 - accuracy: 0.9217 - val_loss: 0.4112 - val_accuracy: 0.8465 - 11s/epoch - 32ms/step\n",
            "Epoch 49/100\n",
            "338/338 - 11s - loss: 0.1808 - accuracy: 0.9217 - val_loss: 0.3988 - val_accuracy: 0.8474 - 11s/epoch - 33ms/step\n",
            "Epoch 50/100\n",
            "338/338 - 10s - loss: 0.1767 - accuracy: 0.9241 - val_loss: 0.4008 - val_accuracy: 0.8449 - 10s/epoch - 31ms/step\n",
            "Epoch 51/100\n",
            "338/338 - 12s - loss: 0.1776 - accuracy: 0.9217 - val_loss: 0.4135 - val_accuracy: 0.8449 - 12s/epoch - 34ms/step\n",
            "Epoch 52/100\n",
            "338/338 - 12s - loss: 0.1730 - accuracy: 0.9249 - val_loss: 0.4096 - val_accuracy: 0.8390 - 12s/epoch - 35ms/step\n",
            "Epoch 53/100\n",
            "338/338 - 11s - loss: 0.1756 - accuracy: 0.9232 - val_loss: 0.4455 - val_accuracy: 0.8349 - 11s/epoch - 32ms/step\n",
            "Epoch 54/100\n",
            "338/338 - 11s - loss: 0.1701 - accuracy: 0.9282 - val_loss: 0.3765 - val_accuracy: 0.8557 - 11s/epoch - 33ms/step\n",
            "Epoch 55/100\n",
            "338/338 - 11s - loss: 0.1651 - accuracy: 0.9299 - val_loss: 0.4197 - val_accuracy: 0.8440 - 11s/epoch - 33ms/step\n",
            "Epoch 56/100\n",
            "338/338 - 12s - loss: 0.1694 - accuracy: 0.9274 - val_loss: 0.4068 - val_accuracy: 0.8474 - 12s/epoch - 35ms/step\n",
            "Epoch 57/100\n",
            "338/338 - 12s - loss: 0.1660 - accuracy: 0.9262 - val_loss: 0.4066 - val_accuracy: 0.8474 - 12s/epoch - 35ms/step\n",
            "Epoch 58/100\n",
            "338/338 - 12s - loss: 0.1543 - accuracy: 0.9299 - val_loss: 0.4888 - val_accuracy: 0.8340 - 12s/epoch - 34ms/step\n",
            "Epoch 59/100\n",
            "338/338 - 10s - loss: 0.1666 - accuracy: 0.9281 - val_loss: 0.4010 - val_accuracy: 0.8532 - 10s/epoch - 30ms/step\n",
            "Epoch 60/100\n",
            "338/338 - 11s - loss: 0.1618 - accuracy: 0.9294 - val_loss: 0.4373 - val_accuracy: 0.8507 - 11s/epoch - 34ms/step\n",
            "Epoch 61/100\n",
            "338/338 - 12s - loss: 0.1513 - accuracy: 0.9342 - val_loss: 0.4483 - val_accuracy: 0.8449 - 12s/epoch - 34ms/step\n",
            "Epoch 62/100\n",
            "338/338 - 11s - loss: 0.1489 - accuracy: 0.9358 - val_loss: 0.4626 - val_accuracy: 0.8482 - 11s/epoch - 33ms/step\n",
            "Epoch 63/100\n",
            "338/338 - 12s - loss: 0.1600 - accuracy: 0.9306 - val_loss: 0.4333 - val_accuracy: 0.8457 - 12s/epoch - 37ms/step\n",
            "Epoch 64/100\n",
            "338/338 - 13s - loss: 0.1476 - accuracy: 0.9379 - val_loss: 0.4160 - val_accuracy: 0.8507 - 13s/epoch - 39ms/step\n",
            "Epoch 65/100\n",
            "338/338 - 12s - loss: 0.1519 - accuracy: 0.9337 - val_loss: 0.4564 - val_accuracy: 0.8440 - 12s/epoch - 35ms/step\n",
            "Epoch 66/100\n",
            "338/338 - 12s - loss: 0.1502 - accuracy: 0.9356 - val_loss: 0.4280 - val_accuracy: 0.8599 - 12s/epoch - 35ms/step\n",
            "Epoch 67/100\n",
            "338/338 - 12s - loss: 0.1415 - accuracy: 0.9404 - val_loss: 0.4541 - val_accuracy: 0.8499 - 12s/epoch - 36ms/step\n",
            "Epoch 68/100\n",
            "338/338 - 12s - loss: 0.1460 - accuracy: 0.9386 - val_loss: 0.4283 - val_accuracy: 0.8382 - 12s/epoch - 35ms/step\n",
            "Epoch 69/100\n",
            "338/338 - 11s - loss: 0.1454 - accuracy: 0.9371 - val_loss: 0.4354 - val_accuracy: 0.8499 - 11s/epoch - 33ms/step\n",
            "Epoch 70/100\n",
            "338/338 - 11s - loss: 0.1360 - accuracy: 0.9414 - val_loss: 0.4731 - val_accuracy: 0.8524 - 11s/epoch - 34ms/step\n",
            "Epoch 71/100\n",
            "338/338 - 12s - loss: 0.1336 - accuracy: 0.9429 - val_loss: 0.5411 - val_accuracy: 0.8382 - 12s/epoch - 35ms/step\n",
            "Epoch 72/100\n",
            "338/338 - 13s - loss: 0.1403 - accuracy: 0.9413 - val_loss: 0.4737 - val_accuracy: 0.8507 - 13s/epoch - 38ms/step\n",
            "Epoch 73/100\n",
            "338/338 - 12s - loss: 0.1390 - accuracy: 0.9415 - val_loss: 0.4676 - val_accuracy: 0.8457 - 12s/epoch - 34ms/step\n",
            "Epoch 74/100\n",
            "338/338 - 12s - loss: 0.1381 - accuracy: 0.9458 - val_loss: 0.4720 - val_accuracy: 0.8382 - 12s/epoch - 35ms/step\n",
            "Epoch 75/100\n",
            "338/338 - 12s - loss: 0.1295 - accuracy: 0.9473 - val_loss: 0.4396 - val_accuracy: 0.8582 - 12s/epoch - 34ms/step\n",
            "Epoch 76/100\n",
            "338/338 - 12s - loss: 0.1351 - accuracy: 0.9440 - val_loss: 0.5182 - val_accuracy: 0.8315 - 12s/epoch - 36ms/step\n",
            "Epoch 77/100\n",
            "338/338 - 12s - loss: 0.1267 - accuracy: 0.9479 - val_loss: 0.4595 - val_accuracy: 0.8465 - 12s/epoch - 36ms/step\n",
            "Epoch 78/100\n",
            "338/338 - 12s - loss: 0.1312 - accuracy: 0.9442 - val_loss: 0.5039 - val_accuracy: 0.8340 - 12s/epoch - 35ms/step\n",
            "Epoch 79/100\n",
            "338/338 - 12s - loss: 0.1369 - accuracy: 0.9453 - val_loss: 0.4732 - val_accuracy: 0.8390 - 12s/epoch - 35ms/step\n",
            "Epoch 80/100\n",
            "338/338 - 13s - loss: 0.1326 - accuracy: 0.9430 - val_loss: 0.5002 - val_accuracy: 0.8340 - 13s/epoch - 38ms/step\n",
            "Epoch 81/100\n",
            "338/338 - 15s - loss: 0.1227 - accuracy: 0.9471 - val_loss: 0.5250 - val_accuracy: 0.8415 - 15s/epoch - 44ms/step\n",
            "Epoch 82/100\n",
            "338/338 - 16s - loss: 0.1316 - accuracy: 0.9458 - val_loss: 0.4983 - val_accuracy: 0.8474 - 16s/epoch - 46ms/step\n",
            "Epoch 83/100\n",
            "338/338 - 14s - loss: 0.1281 - accuracy: 0.9473 - val_loss: 0.4981 - val_accuracy: 0.8474 - 14s/epoch - 42ms/step\n",
            "Epoch 84/100\n",
            "338/338 - 15s - loss: 0.1239 - accuracy: 0.9509 - val_loss: 0.4821 - val_accuracy: 0.8507 - 15s/epoch - 44ms/step\n",
            "Epoch 85/100\n",
            "338/338 - 15s - loss: 0.1138 - accuracy: 0.9511 - val_loss: 0.5319 - val_accuracy: 0.8474 - 15s/epoch - 44ms/step\n",
            "Epoch 86/100\n",
            "338/338 - 16s - loss: 0.1180 - accuracy: 0.9524 - val_loss: 0.5347 - val_accuracy: 0.8365 - 16s/epoch - 47ms/step\n",
            "Epoch 87/100\n",
            "338/338 - 16s - loss: 0.1160 - accuracy: 0.9518 - val_loss: 0.4669 - val_accuracy: 0.8507 - 16s/epoch - 47ms/step\n",
            "Epoch 88/100\n",
            "338/338 - 15s - loss: 0.1160 - accuracy: 0.9535 - val_loss: 0.5422 - val_accuracy: 0.8399 - 15s/epoch - 44ms/step\n",
            "Epoch 89/100\n",
            "338/338 - 15s - loss: 0.1172 - accuracy: 0.9512 - val_loss: 0.4857 - val_accuracy: 0.8440 - 15s/epoch - 45ms/step\n",
            "Epoch 90/100\n",
            "338/338 - 16s - loss: 0.1120 - accuracy: 0.9548 - val_loss: 0.5454 - val_accuracy: 0.8349 - 16s/epoch - 46ms/step\n",
            "Epoch 91/100\n",
            "338/338 - 15s - loss: 0.1099 - accuracy: 0.9561 - val_loss: 0.5242 - val_accuracy: 0.8482 - 15s/epoch - 43ms/step\n",
            "Epoch 92/100\n",
            "338/338 - 15s - loss: 0.1096 - accuracy: 0.9573 - val_loss: 0.5675 - val_accuracy: 0.8424 - 15s/epoch - 45ms/step\n",
            "Epoch 93/100\n",
            "338/338 - 15s - loss: 0.1118 - accuracy: 0.9527 - val_loss: 0.5462 - val_accuracy: 0.8440 - 15s/epoch - 46ms/step\n",
            "Epoch 94/100\n",
            "338/338 - 15s - loss: 0.1026 - accuracy: 0.9586 - val_loss: 0.5695 - val_accuracy: 0.8407 - 15s/epoch - 45ms/step\n",
            "Epoch 95/100\n",
            "338/338 - 14s - loss: 0.1224 - accuracy: 0.9515 - val_loss: 0.5157 - val_accuracy: 0.8532 - 14s/epoch - 43ms/step\n",
            "Epoch 96/100\n",
            "338/338 - 12s - loss: 0.1113 - accuracy: 0.9531 - val_loss: 0.5753 - val_accuracy: 0.8357 - 12s/epoch - 36ms/step\n",
            "Epoch 97/100\n",
            "338/338 - 12s - loss: 0.1127 - accuracy: 0.9535 - val_loss: 0.5663 - val_accuracy: 0.8499 - 12s/epoch - 35ms/step\n",
            "Epoch 98/100\n",
            "338/338 - 11s - loss: 0.1041 - accuracy: 0.9580 - val_loss: 0.5946 - val_accuracy: 0.8382 - 11s/epoch - 34ms/step\n",
            "Epoch 99/100\n",
            "338/338 - 12s - loss: 0.1096 - accuracy: 0.9558 - val_loss: 0.5583 - val_accuracy: 0.8465 - 12s/epoch - 34ms/step\n",
            "Epoch 100/100\n",
            "338/338 - 11s - loss: 0.1015 - accuracy: 0.9619 - val_loss: 0.5737 - val_accuracy: 0.8315 - 11s/epoch - 32ms/step\n"
          ]
        }
      ],
      "source": [
        "hist1 = model2.fit(X_train_new, y_train_new, epochs = 100, validation_split = 0.1, verbose = 2)"
      ]
    },
    {
      "cell_type": "code",
      "execution_count": null,
      "metadata": {
        "colab": {
          "base_uri": "https://localhost:8080/"
        },
        "id": "aNKmoGdQchbo",
        "outputId": "a4f941ab-3854-4af5-ff71-e7833b470e2f"
      },
      "outputs": [
        {
          "output_type": "stream",
          "name": "stdout",
          "text": [
            "94/94 - 1s - loss: 0.5385 - accuracy: 0.8411 - 616ms/epoch - 7ms/step\n",
            "Accuracy:  0.84112149477005\n"
          ]
        }
      ],
      "source": [
        "score = model2.evaluate(X_test_new, y_test_new, verbose=2)\n",
        "print(\"Accuracy: \", score[1])"
      ]
    },
    {
      "cell_type": "code",
      "execution_count": null,
      "metadata": {
        "colab": {
          "base_uri": "https://localhost:8080/"
        },
        "id": "elVEGDtW3JfM",
        "outputId": "cafd4201-c872-4c1f-8823-f764c1b84ee4"
      },
      "outputs": [
        {
          "output_type": "stream",
          "name": "stdout",
          "text": [
            "94/94 [==============================] - 1s 9ms/step\n"
          ]
        }
      ],
      "source": [
        "predict3 = [1 if a>=0.5 else 0 for a in model2.predict(X_test_new)]"
      ]
    },
    {
      "cell_type": "code",
      "execution_count": null,
      "metadata": {
        "colab": {
          "base_uri": "https://localhost:8080/",
          "height": 568
        },
        "id": "2re72NNC64NJ",
        "outputId": "8f6ec1a9-c256-42d5-94a8-58954aefaa97"
      },
      "outputs": [
        {
          "output_type": "execute_result",
          "data": {
            "text/plain": [
              "Text(0.5, 427.9555555555555, 'Predicted label')"
            ]
          },
          "metadata": {},
          "execution_count": 58
        },
        {
          "output_type": "display_data",
          "data": {
            "text/plain": [
              "<Figure size 640x480 with 2 Axes>"
            ],
            "image/png": "[encoded data removed]"
          },
          "metadata": {}
        }
      ],
      "source": [
        "cnf_matrix = metrics.confusion_matrix(y_test_new, predict3)\n",
        "\n",
        "class_names=[0,1] # name  of classes\n",
        "fig, ax = plt.subplots()\n",
        "tick_marks = np.arange(len(class_names))\n",
        "plt.xticks(tick_marks, class_names)\n",
        "plt.yticks(tick_marks, class_names)\n",
        "# create heatmap\n",
        "sns.heatmap(pd.DataFrame(cnf_matrix), annot=True, cmap=\"YlGnBu\" ,fmt='g')\n",
        "ax.xaxis.set_label_position(\"top\")\n",
        "plt.tight_layout()\n",
        "plt.title('Confusion matrix', y=1.1)\n",
        "plt.ylabel('Actual label')\n",
        "plt.xlabel('Predicted label')"
      ]
    },
    {
      "cell_type": "code",
      "execution_count": null,
      "metadata": {
        "colab": {
          "base_uri": "https://localhost:8080/"
        },
        "id": "bww5JR0i3PGh",
        "outputId": "54c94f94-9411-495a-d44a-56e1b23b93d7"
      },
      "outputs": [
        {
          "output_type": "stream",
          "name": "stdout",
          "text": [
            "Accuracy = 0.8411214953271028\n",
            "Precision = 0.8364553314121037\n",
            "Recall = 0.823404255319149\n",
            "F1 Score = 0.82987848463188\n"
          ]
        }
      ],
      "source": [
        "print(\"Accuracy = {}\\nPrecision = {}\\nRecall = {}\\nF1 Score = {}\".format(metrics.accuracy_score(y_test_new, predict3), metrics.precision_score(y_test_new, predict3),metrics.recall_score(y_test_new, predict3),metrics.f1_score(y_test_new, predict3)))\n",
        "model_scores.append([metrics.accuracy_score(y_test_new, predict3), metrics.precision_score(y_test_new, predict3),metrics.recall_score(y_test_new, predict3),metrics.f1_score(y_test_new, predict3)])"
      ]
    },
    {
      "cell_type": "code",
      "execution_count": null,
      "metadata": {
        "colab": {
          "base_uri": "https://localhost:8080/"
        },
        "id": "9HoUcqO9hCZP",
        "outputId": "43246cca-c13a-4add-a706-44a48849009a"
      },
      "outputs": [
        {
          "output_type": "execute_result",
          "data": {
            "text/plain": [
              "4"
            ]
          },
          "metadata": {},
          "execution_count": 60
        }
      ],
      "source": [
        "len(model_scores)"
      ]
    },
    {
      "cell_type": "markdown",
      "metadata": {
        "id": "jmSfz9FCnN8o"
      },
      "source": [
        "# Improved ANN (Batch Normalisation)"
      ]
    },
    {
      "cell_type": "code",
      "execution_count": null,
      "metadata": {
        "id": "UmOU8KRxpzFY"
      },
      "outputs": [],
      "source": [
        "from tensorflow.keras.optimizers import RMSprop, Adam\n",
        "from tensorflow.keras.callbacks import EarlyStopping, LearningRateScheduler"
      ]
    },
    {
      "cell_type": "code",
      "execution_count": null,
      "metadata": {
        "id": "4UvaljfUvwSr"
      },
      "outputs": [],
      "source": [
        "early_stopping = EarlyStopping(monitor='val_loss', patience=10, restore_best_weights=True)"
      ]
    },
    {
      "cell_type": "code",
      "execution_count": null,
      "metadata": {
        "id": "2e58_KP-n58o"
      },
      "outputs": [],
      "source": [
        "model3 = Sequential()\n",
        "model3.add(Dense(1500, activation='relu', input_shape=(X_train_new.shape[1], )))\n",
        "model3.add(Dropout(0.5))\n",
        "model3.add(Dense(1500, activation='relu'))\n",
        "model3.add(Dropout(0.5))\n",
        "model3.add(Dense(1500, activation='relu'))\n",
        "model3.add(Dropout(0.5))\n",
        "model.add(Dense(1500, activation='relu'))\n",
        "model.add(Dropout(0.5))\n",
        "model3.add(Dense(1, activation='sigmoid'))"
      ]
    },
    {
      "cell_type": "code",
      "execution_count": null,
      "metadata": {
        "id": "NTT9731MoB5W"
      },
      "outputs": [],
      "source": [
        "# Add batch normalization\n",
        "model3.add(BatchNormalization())"
      ]
    },
    {
      "cell_type": "code",
      "execution_count": null,
      "metadata": {
        "colab": {
          "base_uri": "https://localhost:8080/"
        },
        "id": "kI6W0tMgoEV3",
        "outputId": "e7f4d6aa-aa3b-429c-eff8-a51a311095ca"
      },
      "outputs": [
        {
          "output_type": "stream",
          "name": "stdout",
          "text": [
            "Model: \"sequential_2\"\n",
            "_________________________________________________________________\n",
            " Layer (type)                Output Shape              Param #   \n",
            "=================================================================\n",
            " dense_6 (Dense)             (None, 1500)              15000     \n",
            "                                                                 \n",
            " dropout_3 (Dropout)         (None, 1500)              0         \n",
            "                                                                 \n",
            " dense_7 (Dense)             (None, 1500)              2251500   \n",
            "                                                                 \n",
            " dropout_4 (Dropout)         (None, 1500)              0         \n",
            "                                                                 \n",
            " dense_8 (Dense)             (None, 1500)              2251500   \n",
            "                                                                 \n",
            " dropout_5 (Dropout)         (None, 1500)              0         \n",
            "                                                                 \n",
            " dense_10 (Dense)            (None, 1)                 1501      \n",
            "                                                                 \n",
            " batch_normalization (Batch  (None, 1)                 4         \n",
            " Normalization)                                                  \n",
            "                                                                 \n",
            "=================================================================\n",
            "Total params: 4519505 (17.24 MB)\n",
            "Trainable params: 4519503 (17.24 MB)\n",
            "Non-trainable params: 2 (8.00 Byte)\n",
            "_________________________________________________________________\n"
          ]
        }
      ],
      "source": [
        "model3.compile(loss='binary_crossentropy', optimizer=RMSprop(), metrics=['accuracy'])\n",
        "model3.summary()"
      ]
    },
    {
      "cell_type": "code",
      "execution_count": null,
      "metadata": {
        "colab": {
          "base_uri": "https://localhost:8080/"
        },
        "id": "a4pmi3Kooe2y",
        "outputId": "33c691ae-15a9-43a2-d9da-dad8ce8a5744"
      },
      "outputs": [
        {
          "output_type": "stream",
          "name": "stdout",
          "text": [
            "Epoch 1/100\n",
            "338/338 - 22s - loss: 1.7034 - accuracy: 0.5543 - val_loss: 0.7825 - val_accuracy: 0.5438 - 22s/epoch - 65ms/step\n",
            "Epoch 2/100\n",
            "338/338 - 22s - loss: 0.7241 - accuracy: 0.5730 - val_loss: 0.6852 - val_accuracy: 0.5621 - 22s/epoch - 65ms/step\n",
            "Epoch 3/100\n",
            "338/338 - 23s - loss: 0.7106 - accuracy: 0.6022 - val_loss: 0.6858 - val_accuracy: 0.6314 - 23s/epoch - 68ms/step\n",
            "Epoch 4/100\n",
            "338/338 - 21s - loss: 0.7512 - accuracy: 0.6155 - val_loss: 0.6914 - val_accuracy: 0.6297 - 21s/epoch - 62ms/step\n",
            "Epoch 5/100\n",
            "338/338 - 29s - loss: 0.7210 - accuracy: 0.6212 - val_loss: 0.7010 - val_accuracy: 0.6205 - 29s/epoch - 85ms/step\n",
            "Epoch 6/100\n",
            "338/338 - 28s - loss: 0.7088 - accuracy: 0.6308 - val_loss: 0.6607 - val_accuracy: 0.6230 - 28s/epoch - 83ms/step\n",
            "Epoch 7/100\n",
            "338/338 - 27s - loss: 0.6691 - accuracy: 0.6390 - val_loss: 0.6484 - val_accuracy: 0.6405 - 27s/epoch - 79ms/step\n",
            "Epoch 8/100\n",
            "338/338 - 27s - loss: 0.6791 - accuracy: 0.6398 - val_loss: 0.6502 - val_accuracy: 0.6380 - 27s/epoch - 81ms/step\n",
            "Epoch 9/100\n",
            "338/338 - 26s - loss: 0.7042 - accuracy: 0.6451 - val_loss: 0.6367 - val_accuracy: 0.6464 - 26s/epoch - 78ms/step\n",
            "Epoch 10/100\n",
            "338/338 - 27s - loss: 0.7083 - accuracy: 0.6520 - val_loss: 0.7420 - val_accuracy: 0.6622 - 27s/epoch - 79ms/step\n",
            "Epoch 11/100\n",
            "338/338 - 28s - loss: 0.7297 - accuracy: 0.6623 - val_loss: 0.6930 - val_accuracy: 0.6897 - 28s/epoch - 82ms/step\n",
            "Epoch 12/100\n",
            "338/338 - 27s - loss: 0.9103 - accuracy: 0.6827 - val_loss: 0.5881 - val_accuracy: 0.6872 - 27s/epoch - 81ms/step\n",
            "Epoch 13/100\n",
            "338/338 - 27s - loss: 0.8558 - accuracy: 0.6964 - val_loss: 0.8723 - val_accuracy: 0.7173 - 27s/epoch - 80ms/step\n",
            "Epoch 14/100\n",
            "338/338 - 27s - loss: 0.6593 - accuracy: 0.7134 - val_loss: 0.5534 - val_accuracy: 0.7389 - 27s/epoch - 79ms/step\n",
            "Epoch 15/100\n",
            "338/338 - 27s - loss: 0.5650 - accuracy: 0.7278 - val_loss: 0.5225 - val_accuracy: 0.7590 - 27s/epoch - 79ms/step\n",
            "Epoch 16/100\n",
            "338/338 - 27s - loss: 0.5457 - accuracy: 0.7396 - val_loss: 0.5115 - val_accuracy: 0.7673 - 27s/epoch - 79ms/step\n",
            "Epoch 17/100\n",
            "338/338 - 29s - loss: 0.5383 - accuracy: 0.7522 - val_loss: 0.5146 - val_accuracy: 0.7473 - 29s/epoch - 85ms/step\n",
            "Epoch 18/100\n",
            "338/338 - 28s - loss: 0.5258 - accuracy: 0.7598 - val_loss: 0.5065 - val_accuracy: 0.7640 - 28s/epoch - 82ms/step\n",
            "Epoch 19/100\n",
            "338/338 - 28s - loss: 0.5233 - accuracy: 0.7620 - val_loss: 0.5158 - val_accuracy: 0.7715 - 28s/epoch - 82ms/step\n",
            "Epoch 20/100\n",
            "338/338 - 28s - loss: 0.5188 - accuracy: 0.7687 - val_loss: 0.5020 - val_accuracy: 0.7773 - 28s/epoch - 82ms/step\n",
            "Epoch 21/100\n",
            "338/338 - 28s - loss: 0.5156 - accuracy: 0.7675 - val_loss: 0.4794 - val_accuracy: 0.7773 - 28s/epoch - 82ms/step\n",
            "Epoch 22/100\n",
            "338/338 - 29s - loss: 0.5046 - accuracy: 0.7712 - val_loss: 0.4752 - val_accuracy: 0.7807 - 29s/epoch - 85ms/step\n",
            "Epoch 23/100\n",
            "338/338 - 27s - loss: 0.4999 - accuracy: 0.7732 - val_loss: 0.4763 - val_accuracy: 0.7807 - 27s/epoch - 81ms/step\n",
            "Epoch 24/100\n",
            "338/338 - 28s - loss: 0.4947 - accuracy: 0.7813 - val_loss: 0.4676 - val_accuracy: 0.7848 - 28s/epoch - 83ms/step\n",
            "Epoch 25/100\n",
            "338/338 - 27s - loss: 0.4995 - accuracy: 0.7796 - val_loss: 0.4614 - val_accuracy: 0.7890 - 27s/epoch - 79ms/step\n",
            "Epoch 26/100\n",
            "338/338 - 27s - loss: 0.4849 - accuracy: 0.7867 - val_loss: 0.4363 - val_accuracy: 0.7982 - 27s/epoch - 80ms/step\n",
            "Epoch 27/100\n",
            "338/338 - 28s - loss: 0.4877 - accuracy: 0.7898 - val_loss: 0.4437 - val_accuracy: 0.7948 - 28s/epoch - 82ms/step\n",
            "Epoch 28/100\n",
            "338/338 - 28s - loss: 0.4848 - accuracy: 0.7914 - val_loss: 0.4585 - val_accuracy: 0.7807 - 28s/epoch - 84ms/step\n",
            "Epoch 29/100\n",
            "338/338 - 27s - loss: 0.4874 - accuracy: 0.7896 - val_loss: 0.4255 - val_accuracy: 0.8182 - 27s/epoch - 80ms/step\n",
            "Epoch 30/100\n",
            "338/338 - 27s - loss: 0.4802 - accuracy: 0.7922 - val_loss: 0.4314 - val_accuracy: 0.8065 - 27s/epoch - 81ms/step\n",
            "Epoch 31/100\n",
            "338/338 - 29s - loss: 0.4856 - accuracy: 0.7954 - val_loss: 0.4229 - val_accuracy: 0.8032 - 29s/epoch - 85ms/step\n",
            "Epoch 32/100\n",
            "338/338 - 27s - loss: 0.4771 - accuracy: 0.8014 - val_loss: 0.4311 - val_accuracy: 0.8157 - 27s/epoch - 79ms/step\n",
            "Epoch 33/100\n",
            "338/338 - 26s - loss: 0.4962 - accuracy: 0.7968 - val_loss: 0.4178 - val_accuracy: 0.8090 - 26s/epoch - 78ms/step\n",
            "Epoch 34/100\n",
            "338/338 - 27s - loss: 0.4764 - accuracy: 0.7987 - val_loss: 0.4254 - val_accuracy: 0.8190 - 27s/epoch - 79ms/step\n",
            "Epoch 35/100\n",
            "338/338 - 28s - loss: 0.4663 - accuracy: 0.8030 - val_loss: 0.4259 - val_accuracy: 0.7998 - 28s/epoch - 84ms/step\n",
            "Epoch 36/100\n",
            "338/338 - 27s - loss: 0.4758 - accuracy: 0.8083 - val_loss: 0.4241 - val_accuracy: 0.8115 - 27s/epoch - 80ms/step\n",
            "Epoch 37/100\n",
            "338/338 - 28s - loss: 0.4671 - accuracy: 0.8030 - val_loss: 0.4112 - val_accuracy: 0.8082 - 28s/epoch - 82ms/step\n",
            "Epoch 38/100\n",
            "338/338 - 29s - loss: 0.4578 - accuracy: 0.8074 - val_loss: 0.4088 - val_accuracy: 0.8140 - 29s/epoch - 86ms/step\n",
            "Epoch 39/100\n",
            "338/338 - 27s - loss: 0.4727 - accuracy: 0.8044 - val_loss: 0.4192 - val_accuracy: 0.8148 - 27s/epoch - 80ms/step\n",
            "Epoch 40/100\n",
            "338/338 - 27s - loss: 0.4768 - accuracy: 0.8105 - val_loss: 0.4105 - val_accuracy: 0.8123 - 27s/epoch - 79ms/step\n",
            "Epoch 41/100\n",
            "338/338 - 27s - loss: 0.4788 - accuracy: 0.8108 - val_loss: 0.4469 - val_accuracy: 0.7915 - 27s/epoch - 80ms/step\n",
            "Epoch 42/100\n",
            "338/338 - 29s - loss: 0.4672 - accuracy: 0.8110 - val_loss: 0.4102 - val_accuracy: 0.8190 - 29s/epoch - 87ms/step\n",
            "Epoch 43/100\n",
            "338/338 - 27s - loss: 0.4614 - accuracy: 0.8119 - val_loss: 0.4052 - val_accuracy: 0.8190 - 27s/epoch - 81ms/step\n",
            "Epoch 44/100\n",
            "338/338 - 28s - loss: 0.4464 - accuracy: 0.8162 - val_loss: 0.4273 - val_accuracy: 0.7990 - 28s/epoch - 82ms/step\n",
            "Epoch 45/100\n",
            "338/338 - 29s - loss: 0.4432 - accuracy: 0.8181 - val_loss: 0.3953 - val_accuracy: 0.8148 - 29s/epoch - 85ms/step\n",
            "Epoch 46/100\n",
            "338/338 - 27s - loss: 0.4525 - accuracy: 0.8198 - val_loss: 0.3906 - val_accuracy: 0.8249 - 27s/epoch - 80ms/step\n",
            "Epoch 47/100\n",
            "338/338 - 27s - loss: 0.4689 - accuracy: 0.8191 - val_loss: 0.3967 - val_accuracy: 0.8148 - 27s/epoch - 81ms/step\n",
            "Epoch 48/100\n",
            "338/338 - 28s - loss: 0.4498 - accuracy: 0.8205 - val_loss: 0.4090 - val_accuracy: 0.8190 - 28s/epoch - 83ms/step\n",
            "Epoch 49/100\n",
            "338/338 - 28s - loss: 0.4469 - accuracy: 0.8201 - val_loss: 0.4035 - val_accuracy: 0.8224 - 28s/epoch - 82ms/step\n",
            "Epoch 50/100\n",
            "338/338 - 28s - loss: 0.4467 - accuracy: 0.8250 - val_loss: 0.3892 - val_accuracy: 0.8224 - 28s/epoch - 82ms/step\n",
            "Epoch 51/100\n",
            "338/338 - 27s - loss: 0.4608 - accuracy: 0.8248 - val_loss: 0.3983 - val_accuracy: 0.8190 - 27s/epoch - 80ms/step\n",
            "Epoch 52/100\n",
            "338/338 - 30s - loss: 0.4364 - accuracy: 0.8247 - val_loss: 0.3926 - val_accuracy: 0.8232 - 30s/epoch - 88ms/step\n",
            "Epoch 53/100\n",
            "338/338 - 27s - loss: 0.4449 - accuracy: 0.8236 - val_loss: 0.4027 - val_accuracy: 0.8148 - 27s/epoch - 81ms/step\n",
            "Epoch 54/100\n",
            "338/338 - 27s - loss: 0.4393 - accuracy: 0.8286 - val_loss: 0.4166 - val_accuracy: 0.8157 - 27s/epoch - 81ms/step\n",
            "Epoch 55/100\n",
            "338/338 - 28s - loss: 0.4385 - accuracy: 0.8237 - val_loss: 0.3714 - val_accuracy: 0.8390 - 28s/epoch - 83ms/step\n",
            "Epoch 56/100\n",
            "338/338 - 28s - loss: 0.4465 - accuracy: 0.8303 - val_loss: 0.4027 - val_accuracy: 0.8232 - 28s/epoch - 82ms/step\n",
            "Epoch 57/100\n",
            "338/338 - 28s - loss: 0.4319 - accuracy: 0.8234 - val_loss: 0.3861 - val_accuracy: 0.8365 - 28s/epoch - 82ms/step\n",
            "Epoch 58/100\n",
            "338/338 - 29s - loss: 0.4386 - accuracy: 0.8324 - val_loss: 0.3789 - val_accuracy: 0.8315 - 29s/epoch - 86ms/step\n",
            "Epoch 59/100\n",
            "338/338 - 28s - loss: 0.4365 - accuracy: 0.8300 - val_loss: 0.3986 - val_accuracy: 0.8315 - 28s/epoch - 82ms/step\n",
            "Epoch 60/100\n",
            "338/338 - 28s - loss: 0.4377 - accuracy: 0.8289 - val_loss: 0.3791 - val_accuracy: 0.8274 - 28s/epoch - 83ms/step\n",
            "Epoch 61/100\n",
            "338/338 - 28s - loss: 0.4411 - accuracy: 0.8325 - val_loss: 0.3737 - val_accuracy: 0.8399 - 28s/epoch - 82ms/step\n",
            "Epoch 62/100\n",
            "338/338 - 28s - loss: 0.4350 - accuracy: 0.8353 - val_loss: 0.4074 - val_accuracy: 0.8315 - 28s/epoch - 82ms/step\n",
            "Epoch 63/100\n",
            "338/338 - 29s - loss: 0.4304 - accuracy: 0.8312 - val_loss: 0.3980 - val_accuracy: 0.8265 - 29s/epoch - 85ms/step\n",
            "Epoch 64/100\n",
            "338/338 - 29s - loss: 0.4173 - accuracy: 0.8351 - val_loss: 0.3900 - val_accuracy: 0.8324 - 29s/epoch - 86ms/step\n",
            "Epoch 65/100\n",
            "338/338 - 29s - loss: 0.4246 - accuracy: 0.8370 - val_loss: 0.3739 - val_accuracy: 0.8340 - 29s/epoch - 87ms/step\n"
          ]
        }
      ],
      "source": [
        "hist2 = model3.fit(X_train_new, y_train_new, epochs=100, validation_split=0.1, verbose=2, callbacks=[early_stopping])"
      ]
    },
    {
      "cell_type": "code",
      "execution_count": null,
      "metadata": {
        "colab": {
          "base_uri": "https://localhost:8080/"
        },
        "id": "Y97QZnqvu8Tq",
        "outputId": "56308011-f7aa-4e1c-c2bd-2100b112f28f"
      },
      "outputs": [
        {
          "output_type": "display_data",
          "data": {
            "text/plain": [
              "<Figure size 640x480 with 1 Axes>"
            ],
            "image/png": "[encoded data removed]"
          },
          "metadata": {}
        }
      ],
      "source": [
        "plt.plot(hist2.history['accuracy'])\n",
        "plt.plot(hist2.history['val_accuracy'])\n",
        "plt.title('Model Accuracy')\n",
        "plt.xlabel('Epoch')\n",
        "plt.ylabel('Accuracy')\n",
        "plt.legend(['Train', 'Validation'], loc='upper left')\n",
        "plt.show()"
      ]
    },
    {
      "cell_type": "code",
      "execution_count": null,
      "metadata": {
        "colab": {
          "base_uri": "https://localhost:8080/"
        },
        "id": "QiDoe4RoojJY",
        "outputId": "6ba7eecd-0cab-44d6-b144-6b67f20d1252"
      },
      "outputs": [
        {
          "output_type": "stream",
          "name": "stdout",
          "text": [
            "94/94 - 1s - loss: 0.4002 - accuracy: 0.8254 - 1s/epoch - 13ms/step\n",
            "Accuracy:  0.8254339098930359\n"
          ]
        }
      ],
      "source": [
        "score2 = model3.evaluate(X_test_new, y_test_new, verbose=2)\n",
        "print(\"Accuracy: \", score2[1])"
      ]
    },
    {
      "cell_type": "code",
      "execution_count": null,
      "metadata": {
        "colab": {
          "base_uri": "https://localhost:8080/"
        },
        "id": "bjwCZlNSpWow",
        "outputId": "70cbf832-1609-4393-b2a2-19630e49022b"
      },
      "outputs": [
        {
          "output_type": "stream",
          "name": "stdout",
          "text": [
            "94/94 [==============================] - 1s 14ms/step\n",
            "Accuracy = 0.82543391188251\n",
            "Precision = 0.8225454545454546\n",
            "Recall = 0.8021276595744681\n",
            "F1 Score = 0.8122082585278276\n"
          ]
        }
      ],
      "source": [
        "predict4 = [1 if a>=0.5 else 0 for a in model3.predict(X_test_new)]\n",
        "print(\"Accuracy = {}\\nPrecision = {}\\nRecall = {}\\nF1 Score = {}\".format(metrics.accuracy_score(y_test_new, predict4), metrics.precision_score(y_test_new, predict4),metrics.recall_score(y_test_new, predict4),metrics.f1_score(y_test_new, predict4)))\n",
        "model_scores.append([metrics.accuracy_score(y_test_new, predict4), metrics.precision_score(y_test_new, predict4),metrics.recall_score(y_test_new, predict4),metrics.f1_score(y_test_new, predict4)])"
      ]
    },
    {
      "cell_type": "code",
      "execution_count": null,
      "metadata": {
        "colab": {
          "base_uri": "https://localhost:8080/"
        },
        "id": "5OGpS4L-pgGT",
        "outputId": "5e5b871f-2b41-45d9-cfe2-359e27b460cd"
      },
      "outputs": [
        {
          "output_type": "execute_result",
          "data": {
            "text/plain": [
              "Text(0.5, 427.9555555555555, 'Predicted label')"
            ]
          },
          "metadata": {},
          "execution_count": 70
        },
        {
          "output_type": "display_data",
          "data": {
            "text/plain": [
              "<Figure size 640x480 with 2 Axes>"
            ],
            "image/png": "[encoded data removed]"
          },
          "metadata": {}
        }
      ],
      "source": [
        "cnf_matrix = metrics.confusion_matrix(y_test_new, predict4)\n",
        "\n",
        "class_names=[0,1] # name  of classes\n",
        "fig, ax = plt.subplots()\n",
        "tick_marks = np.arange(len(class_names))\n",
        "plt.xticks(tick_marks, class_names)\n",
        "plt.yticks(tick_marks, class_names)\n",
        "# create heatmap\n",
        "sns.heatmap(pd.DataFrame(cnf_matrix), annot=True, cmap=\"YlGnBu\" ,fmt='g')\n",
        "ax.xaxis.set_label_position(\"top\")\n",
        "plt.tight_layout()\n",
        "plt.title('Confusion matrix', y=1.1)\n",
        "plt.ylabel('Actual label')\n",
        "plt.xlabel('Predicted label')"
      ]
    },
    {
      "cell_type": "markdown",
      "metadata": {
        "id": "jlOHDzWSrtBy"
      },
      "source": [
        "# LSTM Model"
      ]
    },
    {
      "cell_type": "code",
      "execution_count": null,
      "metadata": {
        "id": "7IstAPFdr0TZ"
      },
      "outputs": [],
      "source": [
        "X_train = np.asarray(np.reshape(X_train_new, (X_train_new.shape[0], 9, 1)))\n",
        "X_test = np.asarray(np.reshape(X_test_new, (X_test_new.shape[0], 9, 1)))"
      ]
    },
    {
      "cell_type": "code",
      "execution_count": null,
      "metadata": {
        "id": "isuuFyvl-DCT"
      },
      "outputs": [],
      "source": [
        "from keras.layers import Dense, Dropout, Embedding, LSTM\n",
        "from keras.models import Sequential"
      ]
    },
    {
      "cell_type": "code",
      "execution_count": null,
      "metadata": {
        "id": "TEbCdgG1r9Hj"
      },
      "outputs": [],
      "source": [
        "model4 = Sequential()\n",
        "model4.add(LSTM(256,input_shape=(9, 1), return_sequences=True))\n",
        "model4.add(LSTM(256))\n",
        "model4.add(Dense(1, activation='sigmoid'))"
      ]
    },
    {
      "cell_type": "code",
      "execution_count": null,
      "metadata": {
        "colab": {
          "base_uri": "https://localhost:8080/"
        },
        "id": "zWoZcUtGsEpq",
        "outputId": "85459eb4-f283-4612-f091-06dbe7f8c21e"
      },
      "outputs": [
        {
          "output_type": "stream",
          "name": "stdout",
          "text": [
            "Model: \"sequential_3\"\n",
            "_________________________________________________________________\n",
            " Layer (type)                Output Shape              Param #   \n",
            "=================================================================\n",
            " lstm (LSTM)                 (None, 9, 256)            264192    \n",
            "                                                                 \n",
            " lstm_1 (LSTM)               (None, 256)               525312    \n",
            "                                                                 \n",
            " dense_11 (Dense)            (None, 1)                 257       \n",
            "                                                                 \n",
            "=================================================================\n",
            "Total params: 789761 (3.01 MB)\n",
            "Trainable params: 789761 (3.01 MB)\n",
            "Non-trainable params: 0 (0.00 Byte)\n",
            "_________________________________________________________________\n"
          ]
        }
      ],
      "source": [
        "model4.compile(loss='binary_crossentropy', optimizer='adam', metrics=['accuracy'])\n",
        "model4.summary()"
      ]
    },
    {
      "cell_type": "code",
      "execution_count": null,
      "metadata": {
        "colab": {
          "base_uri": "https://localhost:8080/"
        },
        "id": "gK2US5JB_Cvl",
        "outputId": "8c1c974a-209a-4215-9763-cf4a317e4028"
      },
      "outputs": [
        {
          "output_type": "stream",
          "name": "stdout",
          "text": [
            "Epoch 1/100\n",
            "43/43 - 21s - loss: 0.6814 - accuracy: 0.5689 - val_loss: 0.6817 - val_accuracy: 0.5538 - 21s/epoch - 486ms/step\n",
            "Epoch 2/100\n",
            "43/43 - 14s - loss: 0.6754 - accuracy: 0.5764 - val_loss: 0.6751 - val_accuracy: 0.5655 - 14s/epoch - 335ms/step\n",
            "Epoch 3/100\n",
            "43/43 - 14s - loss: 0.6719 - accuracy: 0.5772 - val_loss: 0.6794 - val_accuracy: 0.5763 - 14s/epoch - 334ms/step\n",
            "Epoch 4/100\n",
            "43/43 - 14s - loss: 0.6717 - accuracy: 0.5773 - val_loss: 0.6756 - val_accuracy: 0.5671 - 14s/epoch - 333ms/step\n",
            "Epoch 5/100\n",
            "43/43 - 14s - loss: 0.6704 - accuracy: 0.5754 - val_loss: 0.6769 - val_accuracy: 0.5705 - 14s/epoch - 331ms/step\n",
            "Epoch 6/100\n",
            "43/43 - 15s - loss: 0.6696 - accuracy: 0.5692 - val_loss: 0.6706 - val_accuracy: 0.5621 - 15s/epoch - 338ms/step\n",
            "Epoch 7/100\n",
            "43/43 - 15s - loss: 0.6651 - accuracy: 0.5737 - val_loss: 0.6686 - val_accuracy: 0.5671 - 15s/epoch - 350ms/step\n",
            "Epoch 8/100\n",
            "43/43 - 15s - loss: 0.6650 - accuracy: 0.5707 - val_loss: 0.6662 - val_accuracy: 0.5713 - 15s/epoch - 345ms/step\n",
            "Epoch 9/100\n",
            "43/43 - 14s - loss: 0.6632 - accuracy: 0.5734 - val_loss: 0.6668 - val_accuracy: 0.5663 - 14s/epoch - 333ms/step\n",
            "Epoch 10/100\n",
            "43/43 - 14s - loss: 0.6604 - accuracy: 0.5748 - val_loss: 0.6669 - val_accuracy: 0.5696 - 14s/epoch - 336ms/step\n",
            "Epoch 11/100\n",
            "43/43 - 16s - loss: 0.6568 - accuracy: 0.5815 - val_loss: 0.6651 - val_accuracy: 0.5630 - 16s/epoch - 367ms/step\n",
            "Epoch 12/100\n",
            "43/43 - 14s - loss: 0.6563 - accuracy: 0.5898 - val_loss: 0.6658 - val_accuracy: 0.5763 - 14s/epoch - 335ms/step\n",
            "Epoch 13/100\n",
            "43/43 - 14s - loss: 0.6479 - accuracy: 0.6039 - val_loss: 0.6629 - val_accuracy: 0.6005 - 14s/epoch - 336ms/step\n",
            "Epoch 14/100\n",
            "43/43 - 14s - loss: 0.6437 - accuracy: 0.6083 - val_loss: 0.6542 - val_accuracy: 0.6005 - 14s/epoch - 335ms/step\n",
            "Epoch 15/100\n",
            "43/43 - 14s - loss: 0.6386 - accuracy: 0.6172 - val_loss: 0.6544 - val_accuracy: 0.6113 - 14s/epoch - 331ms/step\n",
            "Epoch 16/100\n",
            "43/43 - 15s - loss: 0.6303 - accuracy: 0.6236 - val_loss: 0.6444 - val_accuracy: 0.6080 - 15s/epoch - 353ms/step\n",
            "Epoch 17/100\n",
            "43/43 - 15s - loss: 0.6299 - accuracy: 0.6234 - val_loss: 0.6468 - val_accuracy: 0.6088 - 15s/epoch - 342ms/step\n",
            "Epoch 18/100\n",
            "43/43 - 14s - loss: 0.6198 - accuracy: 0.6358 - val_loss: 0.6328 - val_accuracy: 0.6314 - 14s/epoch - 335ms/step\n",
            "Epoch 19/100\n",
            "43/43 - 14s - loss: 0.6117 - accuracy: 0.6474 - val_loss: 0.6244 - val_accuracy: 0.6280 - 14s/epoch - 336ms/step\n",
            "Epoch 20/100\n",
            "43/43 - 14s - loss: 0.6044 - accuracy: 0.6532 - val_loss: 0.6275 - val_accuracy: 0.6305 - 14s/epoch - 336ms/step\n",
            "Epoch 21/100\n",
            "43/43 - 14s - loss: 0.5982 - accuracy: 0.6569 - val_loss: 0.6175 - val_accuracy: 0.6314 - 14s/epoch - 334ms/step\n",
            "Epoch 22/100\n",
            "43/43 - 14s - loss: 0.5892 - accuracy: 0.6652 - val_loss: 0.6006 - val_accuracy: 0.6622 - 14s/epoch - 335ms/step\n",
            "Epoch 23/100\n",
            "43/43 - 16s - loss: 0.5771 - accuracy: 0.6760 - val_loss: 0.5941 - val_accuracy: 0.6681 - 16s/epoch - 367ms/step\n",
            "Epoch 24/100\n",
            "43/43 - 14s - loss: 0.5646 - accuracy: 0.6853 - val_loss: 0.5758 - val_accuracy: 0.6764 - 14s/epoch - 335ms/step\n",
            "Epoch 25/100\n",
            "43/43 - 15s - loss: 0.5586 - accuracy: 0.6923 - val_loss: 0.5700 - val_accuracy: 0.6931 - 15s/epoch - 348ms/step\n",
            "Epoch 26/100\n",
            "43/43 - 15s - loss: 0.5495 - accuracy: 0.6926 - val_loss: 0.5753 - val_accuracy: 0.6856 - 15s/epoch - 351ms/step\n",
            "Epoch 27/100\n",
            "43/43 - 14s - loss: 0.5327 - accuracy: 0.7054 - val_loss: 0.5476 - val_accuracy: 0.6956 - 14s/epoch - 328ms/step\n",
            "Epoch 28/100\n",
            "43/43 - 14s - loss: 0.5290 - accuracy: 0.7101 - val_loss: 0.5275 - val_accuracy: 0.7189 - 14s/epoch - 326ms/step\n",
            "Epoch 29/100\n",
            "43/43 - 14s - loss: 0.5158 - accuracy: 0.7238 - val_loss: 0.5356 - val_accuracy: 0.7131 - 14s/epoch - 332ms/step\n",
            "Epoch 30/100\n",
            "43/43 - 14s - loss: 0.4972 - accuracy: 0.7397 - val_loss: 0.5253 - val_accuracy: 0.7181 - 14s/epoch - 337ms/step\n",
            "Epoch 31/100\n",
            "43/43 - 14s - loss: 0.4831 - accuracy: 0.7527 - val_loss: 0.5228 - val_accuracy: 0.7106 - 14s/epoch - 331ms/step\n",
            "Epoch 32/100\n",
            "43/43 - 14s - loss: 0.4670 - accuracy: 0.7611 - val_loss: 0.5017 - val_accuracy: 0.7356 - 14s/epoch - 329ms/step\n",
            "Epoch 33/100\n",
            "43/43 - 14s - loss: 0.4417 - accuracy: 0.7796 - val_loss: 0.4810 - val_accuracy: 0.7381 - 14s/epoch - 328ms/step\n",
            "Epoch 34/100\n",
            "43/43 - 14s - loss: 0.4261 - accuracy: 0.7904 - val_loss: 0.4621 - val_accuracy: 0.7681 - 14s/epoch - 336ms/step\n",
            "Epoch 35/100\n",
            "43/43 - 16s - loss: 0.4175 - accuracy: 0.7938 - val_loss: 0.4555 - val_accuracy: 0.7731 - 16s/epoch - 368ms/step\n",
            "Epoch 36/100\n",
            "43/43 - 15s - loss: 0.4103 - accuracy: 0.7988 - val_loss: 0.4422 - val_accuracy: 0.7731 - 15s/epoch - 354ms/step\n",
            "Epoch 37/100\n",
            "43/43 - 14s - loss: 0.3943 - accuracy: 0.8089 - val_loss: 0.4384 - val_accuracy: 0.7882 - 14s/epoch - 330ms/step\n",
            "Epoch 38/100\n",
            "43/43 - 14s - loss: 0.3753 - accuracy: 0.8185 - val_loss: 0.4341 - val_accuracy: 0.7882 - 14s/epoch - 334ms/step\n",
            "Epoch 39/100\n",
            "43/43 - 14s - loss: 0.3578 - accuracy: 0.8296 - val_loss: 0.4270 - val_accuracy: 0.7982 - 14s/epoch - 329ms/step\n",
            "Epoch 40/100\n",
            "43/43 - 14s - loss: 0.3583 - accuracy: 0.8293 - val_loss: 0.4343 - val_accuracy: 0.7890 - 14s/epoch - 330ms/step\n",
            "Epoch 41/100\n",
            "43/43 - 14s - loss: 0.3344 - accuracy: 0.8445 - val_loss: 0.4282 - val_accuracy: 0.7857 - 14s/epoch - 329ms/step\n",
            "Epoch 42/100\n",
            "43/43 - 14s - loss: 0.3234 - accuracy: 0.8500 - val_loss: 0.4138 - val_accuracy: 0.8015 - 14s/epoch - 328ms/step\n",
            "Epoch 43/100\n",
            "43/43 - 14s - loss: 0.3128 - accuracy: 0.8580 - val_loss: 0.4070 - val_accuracy: 0.8040 - 14s/epoch - 332ms/step\n",
            "Epoch 44/100\n",
            "43/43 - 14s - loss: 0.3029 - accuracy: 0.8602 - val_loss: 0.3962 - val_accuracy: 0.8198 - 14s/epoch - 336ms/step\n",
            "Epoch 45/100\n",
            "43/43 - 15s - loss: 0.2974 - accuracy: 0.8619 - val_loss: 0.4021 - val_accuracy: 0.8048 - 15s/epoch - 338ms/step\n",
            "Epoch 46/100\n",
            "43/43 - 14s - loss: 0.2892 - accuracy: 0.8722 - val_loss: 0.3959 - val_accuracy: 0.8123 - 14s/epoch - 336ms/step\n",
            "Epoch 47/100\n",
            "43/43 - 15s - loss: 0.2750 - accuracy: 0.8754 - val_loss: 0.3911 - val_accuracy: 0.8249 - 15s/epoch - 352ms/step\n",
            "Epoch 48/100\n",
            "43/43 - 16s - loss: 0.2635 - accuracy: 0.8832 - val_loss: 0.4082 - val_accuracy: 0.8132 - 16s/epoch - 364ms/step\n",
            "Epoch 49/100\n",
            "43/43 - 14s - loss: 0.2548 - accuracy: 0.8847 - val_loss: 0.3883 - val_accuracy: 0.8299 - 14s/epoch - 332ms/step\n",
            "Epoch 50/100\n",
            "43/43 - 14s - loss: 0.2418 - accuracy: 0.8948 - val_loss: 0.3921 - val_accuracy: 0.8257 - 14s/epoch - 333ms/step\n",
            "Epoch 51/100\n",
            "43/43 - 14s - loss: 0.2671 - accuracy: 0.8813 - val_loss: 0.4224 - val_accuracy: 0.8165 - 14s/epoch - 333ms/step\n",
            "Epoch 52/100\n",
            "43/43 - 14s - loss: 0.2426 - accuracy: 0.8950 - val_loss: 0.3838 - val_accuracy: 0.8315 - 14s/epoch - 332ms/step\n",
            "Epoch 53/100\n",
            "43/43 - 14s - loss: 0.2267 - accuracy: 0.9023 - val_loss: 0.4125 - val_accuracy: 0.8299 - 14s/epoch - 333ms/step\n",
            "Epoch 54/100\n",
            "43/43 - 14s - loss: 0.2120 - accuracy: 0.9102 - val_loss: 0.3996 - val_accuracy: 0.8399 - 14s/epoch - 332ms/step\n",
            "Epoch 55/100\n",
            "43/43 - 14s - loss: 0.1983 - accuracy: 0.9175 - val_loss: 0.4111 - val_accuracy: 0.8282 - 14s/epoch - 332ms/step\n",
            "Epoch 56/100\n",
            "43/43 - 14s - loss: 0.1893 - accuracy: 0.9191 - val_loss: 0.4146 - val_accuracy: 0.8440 - 14s/epoch - 331ms/step\n",
            "Epoch 57/100\n",
            "43/43 - 16s - loss: 0.1823 - accuracy: 0.9224 - val_loss: 0.4176 - val_accuracy: 0.8332 - 16s/epoch - 360ms/step\n",
            "Epoch 58/100\n",
            "43/43 - 14s - loss: 0.1752 - accuracy: 0.9268 - val_loss: 0.4356 - val_accuracy: 0.8274 - 14s/epoch - 331ms/step\n",
            "Epoch 59/100\n",
            "43/43 - 14s - loss: 0.1775 - accuracy: 0.9255 - val_loss: 0.4287 - val_accuracy: 0.8324 - 14s/epoch - 327ms/step\n",
            "Epoch 60/100\n",
            "43/43 - 16s - loss: 0.1593 - accuracy: 0.9371 - val_loss: 0.4393 - val_accuracy: 0.8349 - 16s/epoch - 365ms/step\n",
            "Epoch 61/100\n",
            "43/43 - 14s - loss: 0.1516 - accuracy: 0.9378 - val_loss: 0.4610 - val_accuracy: 0.8257 - 14s/epoch - 333ms/step\n",
            "Epoch 62/100\n",
            "43/43 - 14s - loss: 0.1529 - accuracy: 0.9377 - val_loss: 0.4785 - val_accuracy: 0.8324 - 14s/epoch - 329ms/step\n",
            "Epoch 63/100\n",
            "43/43 - 14s - loss: 0.1317 - accuracy: 0.9489 - val_loss: 0.4546 - val_accuracy: 0.8340 - 14s/epoch - 329ms/step\n",
            "Epoch 64/100\n",
            "43/43 - 14s - loss: 0.1388 - accuracy: 0.9447 - val_loss: 0.5101 - val_accuracy: 0.8207 - 14s/epoch - 331ms/step\n",
            "Epoch 65/100\n",
            "43/43 - 14s - loss: 0.1345 - accuracy: 0.9446 - val_loss: 0.4740 - val_accuracy: 0.8349 - 14s/epoch - 330ms/step\n",
            "Epoch 66/100\n",
            "43/43 - 14s - loss: 0.1059 - accuracy: 0.9615 - val_loss: 0.4961 - val_accuracy: 0.8207 - 14s/epoch - 331ms/step\n",
            "Epoch 67/100\n",
            "43/43 - 14s - loss: 0.0974 - accuracy: 0.9662 - val_loss: 0.5022 - val_accuracy: 0.8382 - 14s/epoch - 335ms/step\n",
            "Epoch 68/100\n",
            "43/43 - 15s - loss: 0.0917 - accuracy: 0.9673 - val_loss: 0.5107 - val_accuracy: 0.8390 - 15s/epoch - 338ms/step\n",
            "Epoch 69/100\n",
            "43/43 - 15s - loss: 0.0944 - accuracy: 0.9653 - val_loss: 0.5355 - val_accuracy: 0.8282 - 15s/epoch - 351ms/step\n",
            "Epoch 70/100\n",
            "43/43 - 15s - loss: 0.0857 - accuracy: 0.9688 - val_loss: 0.5298 - val_accuracy: 0.8307 - 15s/epoch - 341ms/step\n",
            "Epoch 71/100\n",
            "43/43 - 14s - loss: 0.0802 - accuracy: 0.9712 - val_loss: 0.5408 - val_accuracy: 0.8307 - 14s/epoch - 332ms/step\n",
            "Epoch 72/100\n",
            "43/43 - 16s - loss: 0.0690 - accuracy: 0.9772 - val_loss: 0.5601 - val_accuracy: 0.8315 - 16s/epoch - 369ms/step\n",
            "Epoch 73/100\n",
            "43/43 - 14s - loss: 0.0789 - accuracy: 0.9700 - val_loss: 0.5711 - val_accuracy: 0.8257 - 14s/epoch - 332ms/step\n",
            "Epoch 74/100\n",
            "43/43 - 14s - loss: 0.0670 - accuracy: 0.9784 - val_loss: 0.5611 - val_accuracy: 0.8349 - 14s/epoch - 333ms/step\n",
            "Epoch 75/100\n",
            "43/43 - 14s - loss: 0.0579 - accuracy: 0.9826 - val_loss: 0.5725 - val_accuracy: 0.8265 - 14s/epoch - 333ms/step\n",
            "Epoch 76/100\n",
            "43/43 - 14s - loss: 0.0588 - accuracy: 0.9804 - val_loss: 0.5947 - val_accuracy: 0.8274 - 14s/epoch - 329ms/step\n",
            "Epoch 77/100\n",
            "43/43 - 14s - loss: 0.0790 - accuracy: 0.9698 - val_loss: 0.6136 - val_accuracy: 0.8332 - 14s/epoch - 331ms/step\n",
            "Epoch 78/100\n",
            "43/43 - 14s - loss: 0.0558 - accuracy: 0.9824 - val_loss: 0.5822 - val_accuracy: 0.8265 - 14s/epoch - 328ms/step\n",
            "Epoch 79/100\n",
            "43/43 - 15s - loss: 0.0585 - accuracy: 0.9839 - val_loss: 0.6133 - val_accuracy: 0.8299 - 15s/epoch - 354ms/step\n",
            "Epoch 80/100\n",
            "43/43 - 15s - loss: 0.0404 - accuracy: 0.9903 - val_loss: 0.6377 - val_accuracy: 0.8324 - 15s/epoch - 339ms/step\n",
            "Epoch 81/100\n",
            "43/43 - 14s - loss: 0.0384 - accuracy: 0.9908 - val_loss: 0.6345 - val_accuracy: 0.8290 - 14s/epoch - 331ms/step\n",
            "Epoch 82/100\n",
            "43/43 - 14s - loss: 0.0343 - accuracy: 0.9917 - val_loss: 0.6372 - val_accuracy: 0.8299 - 14s/epoch - 330ms/step\n",
            "Epoch 83/100\n",
            "43/43 - 14s - loss: 0.0245 - accuracy: 0.9954 - val_loss: 0.6717 - val_accuracy: 0.8307 - 14s/epoch - 324ms/step\n",
            "Epoch 84/100\n",
            "43/43 - 14s - loss: 0.0234 - accuracy: 0.9955 - val_loss: 0.6773 - val_accuracy: 0.8290 - 14s/epoch - 328ms/step\n",
            "Epoch 85/100\n",
            "43/43 - 15s - loss: 0.0226 - accuracy: 0.9961 - val_loss: 0.6953 - val_accuracy: 0.8299 - 15s/epoch - 360ms/step\n",
            "Epoch 86/100\n",
            "43/43 - 14s - loss: 0.0159 - accuracy: 0.9976 - val_loss: 0.6953 - val_accuracy: 0.8349 - 14s/epoch - 329ms/step\n",
            "Epoch 87/100\n",
            "43/43 - 14s - loss: 0.0299 - accuracy: 0.9925 - val_loss: 0.7240 - val_accuracy: 0.8249 - 14s/epoch - 329ms/step\n",
            "Epoch 88/100\n",
            "43/43 - 14s - loss: 0.0430 - accuracy: 0.9864 - val_loss: 0.7300 - val_accuracy: 0.8198 - 14s/epoch - 330ms/step\n",
            "Epoch 89/100\n",
            "43/43 - 14s - loss: 0.0261 - accuracy: 0.9937 - val_loss: 0.6999 - val_accuracy: 0.8290 - 14s/epoch - 329ms/step\n",
            "Epoch 90/100\n",
            "43/43 - 15s - loss: 0.0245 - accuracy: 0.9952 - val_loss: 0.7105 - val_accuracy: 0.8357 - 15s/epoch - 349ms/step\n",
            "Epoch 91/100\n",
            "43/43 - 14s - loss: 0.0239 - accuracy: 0.9948 - val_loss: 0.7458 - val_accuracy: 0.8374 - 14s/epoch - 333ms/step\n",
            "Epoch 92/100\n",
            "43/43 - 14s - loss: 0.0165 - accuracy: 0.9972 - val_loss: 0.7632 - val_accuracy: 0.8299 - 14s/epoch - 326ms/step\n",
            "Epoch 93/100\n",
            "43/43 - 14s - loss: 0.0142 - accuracy: 0.9974 - val_loss: 0.7573 - val_accuracy: 0.8249 - 14s/epoch - 328ms/step\n",
            "Epoch 94/100\n",
            "43/43 - 14s - loss: 0.0127 - accuracy: 0.9978 - val_loss: 0.7606 - val_accuracy: 0.8299 - 14s/epoch - 331ms/step\n",
            "Epoch 95/100\n",
            "43/43 - 14s - loss: 0.0234 - accuracy: 0.9948 - val_loss: 0.7680 - val_accuracy: 0.8307 - 14s/epoch - 331ms/step\n",
            "Epoch 96/100\n",
            "43/43 - 14s - loss: 0.0105 - accuracy: 0.9979 - val_loss: 0.7819 - val_accuracy: 0.8240 - 14s/epoch - 328ms/step\n",
            "Epoch 97/100\n",
            "43/43 - 16s - loss: 0.0083 - accuracy: 0.9991 - val_loss: 0.7779 - val_accuracy: 0.8224 - 16s/epoch - 364ms/step\n",
            "Epoch 98/100\n",
            "43/43 - 14s - loss: 0.0054 - accuracy: 0.9995 - val_loss: 0.7863 - val_accuracy: 0.8265 - 14s/epoch - 329ms/step\n",
            "Epoch 99/100\n",
            "43/43 - 14s - loss: 0.0038 - accuracy: 0.9999 - val_loss: 0.8033 - val_accuracy: 0.8274 - 14s/epoch - 336ms/step\n",
            "Epoch 100/100\n",
            "43/43 - 14s - loss: 0.0038 - accuracy: 0.9998 - val_loss: 0.8023 - val_accuracy: 0.8215 - 14s/epoch - 335ms/step\n"
          ]
        }
      ],
      "source": [
        "hist3 = model4.fit(X_train, y_train_new, epochs = 100, batch_size=256, validation_split = 0.1, verbose = 2, shuffle = True)"
      ]
    },
    {
      "cell_type": "code",
      "execution_count": null,
      "metadata": {
        "id": "OSAe3eYH_ZwV",
        "colab": {
          "base_uri": "https://localhost:8080/"
        },
        "outputId": "676f5435-59a9-4905-beb6-f0e6964318c5"
      },
      "outputs": [
        {
          "output_type": "stream",
          "name": "stdout",
          "text": [
            "94/94 [==============================] - 3s 36ms/step - loss: 0.8837 - accuracy: 0.8124\n",
            "Accuracy:  0.8124165534973145\n"
          ]
        }
      ],
      "source": [
        "score = model4.evaluate(X_test, y_test_new, verbose=1)\n",
        "print(\"Accuracy: \", score[1])"
      ]
    },
    {
      "cell_type": "code",
      "execution_count": null,
      "metadata": {
        "id": "OTcWYAi8Jahw"
      },
      "outputs": [],
      "source": [
        "import sklearn.metrics as metrics"
      ]
    },
    {
      "cell_type": "code",
      "execution_count": null,
      "metadata": {
        "id": "utICevMuAbFo",
        "colab": {
          "base_uri": "https://localhost:8080/"
        },
        "outputId": "8de7a0ce-a401-479e-940f-ce7f7483b1a2"
      },
      "outputs": [
        {
          "output_type": "stream",
          "name": "stdout",
          "text": [
            "94/94 [==============================] - 3s 26ms/step\n",
            "Accuracy = 0.8124165554072096\n",
            "Precision = 0.8108504398826979\n",
            "Recall = 0.7843971631205674\n",
            "F1 Score = 0.7974044700793079\n"
          ]
        }
      ],
      "source": [
        "predict5 =  [1 if a>0.5 else 0 for a in model4.predict(X_test)]\n",
        "print(\"Accuracy = {}\\nPrecision = {}\\nRecall = {}\\nF1 Score = {}\".format(metrics.accuracy_score(y_test_new, predict5), metrics.precision_score(y_test_new, predict5),metrics.recall_score(y_test_new, predict5),metrics.f1_score(y_test_new, predict5)))\n",
        "model_scores.append([metrics.accuracy_score(y_test_new, predict5), metrics.precision_score(y_test_new, predict5),metrics.recall_score(y_test_new, predict5),metrics.f1_score(y_test_new, predict5)])"
      ]
    },
    {
      "cell_type": "code",
      "execution_count": null,
      "metadata": {
        "id": "sRY1OGXsYKfw"
      },
      "outputs": [],
      "source": [
        "import seaborn as sns"
      ]
    },
    {
      "cell_type": "code",
      "execution_count": null,
      "metadata": {
        "id": "psW_f7FLRNOG",
        "colab": {
          "base_uri": "https://localhost:8080/",
          "height": 568
        },
        "outputId": "cc4617dd-3190-43cf-8782-58fd3267b448"
      },
      "outputs": [
        {
          "output_type": "execute_result",
          "data": {
            "text/plain": [
              "Text(0.5, 427.9555555555555, 'Predicted label')"
            ]
          },
          "metadata": {},
          "execution_count": 80
        },
        {
          "output_type": "display_data",
          "data": {
            "text/plain": [
              "<Figure size 640x480 with 2 Axes>"
            ],
            "image/png": "[encoded data removed]"
          },
          "metadata": {}
        }
      ],
      "source": [
        "cnf_matrix = metrics.confusion_matrix(y_test_new, predict5)\n",
        "\n",
        "class_names=[0,1] # name  of classes\n",
        "fig, ax = plt.subplots()\n",
        "tick_marks = np.arange(len(class_names))\n",
        "plt.xticks(tick_marks, class_names)\n",
        "plt.yticks(tick_marks, class_names)\n",
        "# create heatmap\n",
        "sns.heatmap(pd.DataFrame(cnf_matrix), annot=True, cmap=\"YlGnBu\" ,fmt='g')\n",
        "ax.xaxis.set_label_position(\"top\")\n",
        "plt.tight_layout()\n",
        "plt.title('Confusion matrix', y=1.1)\n",
        "plt.ylabel('Actual label')\n",
        "plt.xlabel('Predicted label')"
      ]
    },
    {
      "cell_type": "markdown",
      "metadata": {
        "id": "BBW8ly8A0Gs5"
      },
      "source": [
        "# LSTM (Tuning Hyperparameters)"
      ]
    },
    {
      "cell_type": "code",
      "source": [
        "from keras.layers import Dense, Dropout, Embedding, LSTM\n",
        "from keras.models import Sequential"
      ],
      "metadata": {
        "id": "hm9vi7uktL1J"
      },
      "execution_count": null,
      "outputs": []
    },
    {
      "cell_type": "code",
      "execution_count": null,
      "metadata": {
        "colab": {
          "base_uri": "https://localhost:8080/"
        },
        "id": "l2432JSg0RHo",
        "outputId": "bb8fb296-1e34-4446-b80d-d3d5fbd2493e"
      },
      "outputs": [
        {
          "output_type": "stream",
          "name": "stdout",
          "text": [
            "Model: \"sequential_4\"\n",
            "_________________________________________________________________\n",
            " Layer (type)                Output Shape              Param #   \n",
            "=================================================================\n",
            " lstm_2 (LSTM)               (None, 9, 512)            1052672   \n",
            "                                                                 \n",
            " lstm_3 (LSTM)               (None, 512)               2099200   \n",
            "                                                                 \n",
            " dense_12 (Dense)            (None, 1)                 513       \n",
            "                                                                 \n",
            "=================================================================\n",
            "Total params: 3152385 (12.03 MB)\n",
            "Trainable params: 3152385 (12.03 MB)\n",
            "Non-trainable params: 0 (0.00 Byte)\n",
            "_________________________________________________________________\n"
          ]
        }
      ],
      "source": [
        "model5 = Sequential()\n",
        "model5.add(LSTM(units=512, input_shape=(9, 1), return_sequences=True))\n",
        "model5.add(LSTM(units=512))\n",
        "model5.add(Dense(1, activation='sigmoid'))\n",
        "model5.summary()"
      ]
    },
    {
      "cell_type": "code",
      "execution_count": null,
      "metadata": {
        "colab": {
          "base_uri": "https://localhost:8080/"
        },
        "id": "PsIgL7x008yP",
        "outputId": "a06bf71a-0fe1-418f-ed84-0da5c058762a"
      },
      "outputs": [
        {
          "output_type": "stream",
          "name": "stdout",
          "text": [
            "Model: \"sequential_4\"\n",
            "_________________________________________________________________\n",
            " Layer (type)                Output Shape              Param #   \n",
            "=================================================================\n",
            " lstm_2 (LSTM)               (None, 9, 512)            1052672   \n",
            "                                                                 \n",
            " lstm_3 (LSTM)               (None, 512)               2099200   \n",
            "                                                                 \n",
            " dense_12 (Dense)            (None, 1)                 513       \n",
            "                                                                 \n",
            "=================================================================\n",
            "Total params: 3152385 (12.03 MB)\n",
            "Trainable params: 3152385 (12.03 MB)\n",
            "Non-trainable params: 0 (0.00 Byte)\n",
            "_________________________________________________________________\n"
          ]
        }
      ],
      "source": [
        "model5.compile(loss='binary_crossentropy', optimizer='adam', metrics=['accuracy'])\n",
        "model5.summary()"
      ]
    },
    {
      "cell_type": "code",
      "execution_count": null,
      "metadata": {
        "colab": {
          "base_uri": "https://localhost:8080/"
        },
        "id": "jJYZzVjL1I_R",
        "outputId": "7544b6dd-408f-4aec-cce6-7e40b1c8fbfc"
      },
      "outputs": [
        {
          "output_type": "stream",
          "name": "stdout",
          "text": [
            "Epoch 1/100\n",
            "22/22 - 59s - loss: 0.6817 - accuracy: 0.5671 - val_loss: 0.6804 - val_accuracy: 0.5655 - 59s/epoch - 3s/step\n",
            "Epoch 2/100\n",
            "22/22 - 56s - loss: 0.6756 - accuracy: 0.5714 - val_loss: 0.6825 - val_accuracy: 0.5680 - 56s/epoch - 3s/step\n",
            "Epoch 3/100\n",
            "22/22 - 52s - loss: 0.6804 - accuracy: 0.5710 - val_loss: 0.6797 - val_accuracy: 0.5671 - 52s/epoch - 2s/step\n",
            "Epoch 4/100\n",
            "22/22 - 52s - loss: 0.6749 - accuracy: 0.5765 - val_loss: 0.6731 - val_accuracy: 0.5671 - 52s/epoch - 2s/step\n",
            "Epoch 5/100\n",
            "22/22 - 52s - loss: 0.6710 - accuracy: 0.5755 - val_loss: 0.6742 - val_accuracy: 0.5638 - 52s/epoch - 2s/step\n",
            "Epoch 6/100\n",
            "22/22 - 54s - loss: 0.6715 - accuracy: 0.5723 - val_loss: 0.6721 - val_accuracy: 0.5688 - 54s/epoch - 2s/step\n",
            "Epoch 7/100\n",
            "22/22 - 53s - loss: 0.6721 - accuracy: 0.5707 - val_loss: 0.6741 - val_accuracy: 0.5680 - 53s/epoch - 2s/step\n",
            "Epoch 8/100\n",
            "22/22 - 52s - loss: 0.6684 - accuracy: 0.5754 - val_loss: 0.6728 - val_accuracy: 0.5721 - 52s/epoch - 2s/step\n",
            "Epoch 9/100\n",
            "22/22 - 53s - loss: 0.6679 - accuracy: 0.5729 - val_loss: 0.6747 - val_accuracy: 0.5571 - 53s/epoch - 2s/step\n",
            "Epoch 10/100\n",
            "22/22 - 51s - loss: 0.6704 - accuracy: 0.5761 - val_loss: 0.6705 - val_accuracy: 0.5680 - 51s/epoch - 2s/step\n",
            "Epoch 11/100\n",
            "22/22 - 52s - loss: 0.6672 - accuracy: 0.5692 - val_loss: 0.6689 - val_accuracy: 0.5730 - 52s/epoch - 2s/step\n",
            "Epoch 12/100\n",
            "22/22 - 55s - loss: 0.6627 - accuracy: 0.5725 - val_loss: 0.6671 - val_accuracy: 0.5688 - 55s/epoch - 3s/step\n",
            "Epoch 13/100\n",
            "22/22 - 52s - loss: 0.6654 - accuracy: 0.5753 - val_loss: 0.6752 - val_accuracy: 0.5580 - 52s/epoch - 2s/step\n",
            "Epoch 14/100\n",
            "22/22 - 52s - loss: 0.6670 - accuracy: 0.5763 - val_loss: 0.6703 - val_accuracy: 0.5822 - 52s/epoch - 2s/step\n",
            "Epoch 15/100\n",
            "22/22 - 54s - loss: 0.6630 - accuracy: 0.5752 - val_loss: 0.6673 - val_accuracy: 0.5688 - 54s/epoch - 2s/step\n",
            "Epoch 16/100\n",
            "22/22 - 51s - loss: 0.6595 - accuracy: 0.5836 - val_loss: 0.6737 - val_accuracy: 0.5663 - 51s/epoch - 2s/step\n",
            "Epoch 17/100\n",
            "22/22 - 51s - loss: 0.6588 - accuracy: 0.5828 - val_loss: 0.6633 - val_accuracy: 0.5938 - 51s/epoch - 2s/step\n",
            "Epoch 18/100\n",
            "22/22 - 52s - loss: 0.6546 - accuracy: 0.5994 - val_loss: 0.6624 - val_accuracy: 0.5863 - 52s/epoch - 2s/step\n",
            "Epoch 19/100\n",
            "22/22 - 54s - loss: 0.6559 - accuracy: 0.5964 - val_loss: 0.6696 - val_accuracy: 0.5730 - 54s/epoch - 2s/step\n",
            "Epoch 20/100\n",
            "22/22 - 52s - loss: 0.6510 - accuracy: 0.6069 - val_loss: 0.6558 - val_accuracy: 0.6122 - 52s/epoch - 2s/step\n",
            "Epoch 21/100\n",
            "22/22 - 52s - loss: 0.6467 - accuracy: 0.6093 - val_loss: 0.6581 - val_accuracy: 0.6122 - 52s/epoch - 2s/step\n",
            "Epoch 22/100\n",
            "22/22 - 54s - loss: 0.6417 - accuracy: 0.6140 - val_loss: 0.6420 - val_accuracy: 0.6155 - 54s/epoch - 2s/step\n",
            "Epoch 23/100\n",
            "22/22 - 52s - loss: 0.6282 - accuracy: 0.6274 - val_loss: 0.6637 - val_accuracy: 0.6105 - 52s/epoch - 2s/step\n",
            "Epoch 24/100\n",
            "22/22 - 52s - loss: 0.6305 - accuracy: 0.6389 - val_loss: 0.6312 - val_accuracy: 0.6314 - 52s/epoch - 2s/step\n",
            "Epoch 25/100\n",
            "22/22 - 52s - loss: 0.6121 - accuracy: 0.6434 - val_loss: 0.6274 - val_accuracy: 0.6372 - 52s/epoch - 2s/step\n",
            "Epoch 26/100\n",
            "22/22 - 52s - loss: 0.6050 - accuracy: 0.6507 - val_loss: 0.6080 - val_accuracy: 0.6497 - 52s/epoch - 2s/step\n",
            "Epoch 27/100\n",
            "22/22 - 51s - loss: 0.5975 - accuracy: 0.6528 - val_loss: 0.6074 - val_accuracy: 0.6656 - 51s/epoch - 2s/step\n",
            "Epoch 28/100\n",
            "22/22 - 52s - loss: 0.5865 - accuracy: 0.6667 - val_loss: 0.6123 - val_accuracy: 0.6380 - 52s/epoch - 2s/step\n",
            "Epoch 29/100\n",
            "22/22 - 51s - loss: 0.5884 - accuracy: 0.6642 - val_loss: 0.5930 - val_accuracy: 0.6631 - 51s/epoch - 2s/step\n",
            "Epoch 30/100\n",
            "22/22 - 51s - loss: 0.5743 - accuracy: 0.6754 - val_loss: 0.6106 - val_accuracy: 0.6614 - 51s/epoch - 2s/step\n",
            "Epoch 31/100\n",
            "22/22 - 51s - loss: 0.5834 - accuracy: 0.6734 - val_loss: 0.5889 - val_accuracy: 0.6772 - 51s/epoch - 2s/step\n",
            "Epoch 32/100\n",
            "22/22 - 51s - loss: 0.5640 - accuracy: 0.6834 - val_loss: 0.5728 - val_accuracy: 0.6947 - 51s/epoch - 2s/step\n",
            "Epoch 33/100\n",
            "22/22 - 53s - loss: 0.5491 - accuracy: 0.6975 - val_loss: 0.5548 - val_accuracy: 0.7023 - 53s/epoch - 2s/step\n",
            "Epoch 34/100\n",
            "22/22 - 52s - loss: 0.5367 - accuracy: 0.7052 - val_loss: 0.5687 - val_accuracy: 0.6947 - 52s/epoch - 2s/step\n",
            "Epoch 35/100\n",
            "22/22 - 51s - loss: 0.5443 - accuracy: 0.7039 - val_loss: 0.5689 - val_accuracy: 0.6806 - 51s/epoch - 2s/step\n",
            "Epoch 36/100\n",
            "22/22 - 51s - loss: 0.5202 - accuracy: 0.7265 - val_loss: 0.5367 - val_accuracy: 0.7148 - 51s/epoch - 2s/step\n",
            "Epoch 37/100\n",
            "22/22 - 50s - loss: 0.5078 - accuracy: 0.7319 - val_loss: 0.5185 - val_accuracy: 0.7289 - 50s/epoch - 2s/step\n",
            "Epoch 38/100\n",
            "22/22 - 51s - loss: 0.4841 - accuracy: 0.7494 - val_loss: 0.5057 - val_accuracy: 0.7356 - 51s/epoch - 2s/step\n",
            "Epoch 39/100\n",
            "22/22 - 52s - loss: 0.4697 - accuracy: 0.7622 - val_loss: 0.4875 - val_accuracy: 0.7431 - 52s/epoch - 2s/step\n",
            "Epoch 40/100\n",
            "22/22 - 51s - loss: 0.4493 - accuracy: 0.7765 - val_loss: 0.4711 - val_accuracy: 0.7581 - 51s/epoch - 2s/step\n",
            "Epoch 41/100\n",
            "22/22 - 51s - loss: 0.4388 - accuracy: 0.7802 - val_loss: 0.4563 - val_accuracy: 0.7665 - 51s/epoch - 2s/step\n",
            "Epoch 42/100\n",
            "22/22 - 51s - loss: 0.4195 - accuracy: 0.7939 - val_loss: 0.4436 - val_accuracy: 0.7698 - 51s/epoch - 2s/step\n",
            "Epoch 43/100\n",
            "22/22 - 52s - loss: 0.4197 - accuracy: 0.7997 - val_loss: 0.4606 - val_accuracy: 0.7665 - 52s/epoch - 2s/step\n",
            "Epoch 44/100\n",
            "22/22 - 52s - loss: 0.3977 - accuracy: 0.8095 - val_loss: 0.4490 - val_accuracy: 0.7823 - 52s/epoch - 2s/step\n",
            "Epoch 45/100\n",
            "22/22 - 53s - loss: 0.3927 - accuracy: 0.8172 - val_loss: 0.4523 - val_accuracy: 0.7756 - 53s/epoch - 2s/step\n",
            "Epoch 46/100\n",
            "22/22 - 52s - loss: 0.3714 - accuracy: 0.8213 - val_loss: 0.4463 - val_accuracy: 0.7773 - 52s/epoch - 2s/step\n",
            "Epoch 47/100\n",
            "22/22 - 53s - loss: 0.3618 - accuracy: 0.8292 - val_loss: 0.4176 - val_accuracy: 0.7957 - 53s/epoch - 2s/step\n",
            "Epoch 48/100\n",
            "22/22 - 51s - loss: 0.3560 - accuracy: 0.8314 - val_loss: 0.4123 - val_accuracy: 0.7965 - 51s/epoch - 2s/step\n",
            "Epoch 49/100\n",
            "22/22 - 52s - loss: 0.3421 - accuracy: 0.8436 - val_loss: 0.4275 - val_accuracy: 0.7998 - 52s/epoch - 2s/step\n",
            "Epoch 50/100\n",
            "22/22 - 52s - loss: 0.3319 - accuracy: 0.8458 - val_loss: 0.4144 - val_accuracy: 0.8015 - 52s/epoch - 2s/step\n",
            "Epoch 51/100\n",
            "22/22 - 52s - loss: 0.3360 - accuracy: 0.8436 - val_loss: 0.4212 - val_accuracy: 0.8090 - 52s/epoch - 2s/step\n",
            "Epoch 52/100\n",
            "22/22 - 52s - loss: 0.3198 - accuracy: 0.8512 - val_loss: 0.4016 - val_accuracy: 0.8224 - 52s/epoch - 2s/step\n",
            "Epoch 53/100\n",
            "22/22 - 51s - loss: 0.2971 - accuracy: 0.8669 - val_loss: 0.4069 - val_accuracy: 0.8240 - 51s/epoch - 2s/step\n",
            "Epoch 54/100\n",
            "22/22 - 52s - loss: 0.3036 - accuracy: 0.8582 - val_loss: 0.4068 - val_accuracy: 0.8023 - 52s/epoch - 2s/step\n",
            "Epoch 55/100\n",
            "22/22 - 52s - loss: 0.2760 - accuracy: 0.8742 - val_loss: 0.3817 - val_accuracy: 0.8374 - 52s/epoch - 2s/step\n",
            "Epoch 56/100\n",
            "22/22 - 52s - loss: 0.2596 - accuracy: 0.8834 - val_loss: 0.3958 - val_accuracy: 0.8274 - 52s/epoch - 2s/step\n",
            "Epoch 57/100\n",
            "22/22 - 53s - loss: 0.2625 - accuracy: 0.8811 - val_loss: 0.4378 - val_accuracy: 0.8123 - 53s/epoch - 2s/step\n",
            "Epoch 58/100\n",
            "22/22 - 51s - loss: 0.2664 - accuracy: 0.8797 - val_loss: 0.3969 - val_accuracy: 0.8232 - 51s/epoch - 2s/step\n",
            "Epoch 59/100\n",
            "22/22 - 54s - loss: 0.2437 - accuracy: 0.8931 - val_loss: 0.4231 - val_accuracy: 0.8190 - 54s/epoch - 2s/step\n",
            "Epoch 60/100\n",
            "22/22 - 52s - loss: 0.2281 - accuracy: 0.8994 - val_loss: 0.4022 - val_accuracy: 0.8157 - 52s/epoch - 2s/step\n",
            "Epoch 61/100\n",
            "22/22 - 51s - loss: 0.2086 - accuracy: 0.9094 - val_loss: 0.4035 - val_accuracy: 0.8274 - 51s/epoch - 2s/step\n",
            "Epoch 62/100\n",
            "22/22 - 51s - loss: 0.1989 - accuracy: 0.9124 - val_loss: 0.4092 - val_accuracy: 0.8274 - 51s/epoch - 2s/step\n",
            "Epoch 63/100\n",
            "22/22 - 54s - loss: 0.2220 - accuracy: 0.9050 - val_loss: 0.4340 - val_accuracy: 0.8157 - 54s/epoch - 2s/step\n",
            "Epoch 64/100\n",
            "22/22 - 53s - loss: 0.1914 - accuracy: 0.9195 - val_loss: 0.4342 - val_accuracy: 0.8165 - 53s/epoch - 2s/step\n",
            "Epoch 65/100\n",
            "22/22 - 52s - loss: 0.1705 - accuracy: 0.9265 - val_loss: 0.4233 - val_accuracy: 0.8215 - 52s/epoch - 2s/step\n",
            "Epoch 66/100\n",
            "22/22 - 54s - loss: 0.1819 - accuracy: 0.9213 - val_loss: 0.4074 - val_accuracy: 0.8382 - 54s/epoch - 2s/step\n",
            "Epoch 67/100\n",
            "22/22 - 51s - loss: 0.1489 - accuracy: 0.9392 - val_loss: 0.4540 - val_accuracy: 0.8257 - 51s/epoch - 2s/step\n",
            "Epoch 68/100\n",
            "22/22 - 51s - loss: 0.1380 - accuracy: 0.9426 - val_loss: 0.4357 - val_accuracy: 0.8474 - 51s/epoch - 2s/step\n",
            "Epoch 69/100\n",
            "22/22 - 52s - loss: 0.1215 - accuracy: 0.9503 - val_loss: 0.4571 - val_accuracy: 0.8374 - 52s/epoch - 2s/step\n",
            "Epoch 70/100\n",
            "22/22 - 52s - loss: 0.1503 - accuracy: 0.9388 - val_loss: 0.4529 - val_accuracy: 0.8340 - 52s/epoch - 2s/step\n",
            "Epoch 71/100\n",
            "22/22 - 51s - loss: 0.1268 - accuracy: 0.9500 - val_loss: 0.4684 - val_accuracy: 0.8315 - 51s/epoch - 2s/step\n",
            "Epoch 72/100\n",
            "22/22 - 53s - loss: 0.1240 - accuracy: 0.9513 - val_loss: 0.4869 - val_accuracy: 0.8265 - 53s/epoch - 2s/step\n",
            "Epoch 73/100\n",
            "22/22 - 52s - loss: 0.1200 - accuracy: 0.9519 - val_loss: 0.5251 - val_accuracy: 0.8315 - 52s/epoch - 2s/step\n",
            "Epoch 74/100\n",
            "22/22 - 51s - loss: 0.0973 - accuracy: 0.9637 - val_loss: 0.5121 - val_accuracy: 0.8249 - 51s/epoch - 2s/step\n",
            "Epoch 75/100\n",
            "22/22 - 53s - loss: 0.1030 - accuracy: 0.9611 - val_loss: 0.5282 - val_accuracy: 0.8340 - 53s/epoch - 2s/step\n",
            "Epoch 76/100\n",
            "22/22 - 52s - loss: 0.1149 - accuracy: 0.9586 - val_loss: 0.5043 - val_accuracy: 0.8190 - 52s/epoch - 2s/step\n",
            "Epoch 77/100\n",
            "22/22 - 51s - loss: 0.0903 - accuracy: 0.9672 - val_loss: 0.5284 - val_accuracy: 0.8274 - 51s/epoch - 2s/step\n",
            "Epoch 78/100\n",
            "22/22 - 52s - loss: 0.0666 - accuracy: 0.9771 - val_loss: 0.5246 - val_accuracy: 0.8215 - 52s/epoch - 2s/step\n",
            "Epoch 79/100\n",
            "22/22 - 50s - loss: 0.0605 - accuracy: 0.9812 - val_loss: 0.5397 - val_accuracy: 0.8399 - 50s/epoch - 2s/step\n",
            "Epoch 80/100\n",
            "22/22 - 51s - loss: 0.0601 - accuracy: 0.9804 - val_loss: 0.5564 - val_accuracy: 0.8257 - 51s/epoch - 2s/step\n",
            "Epoch 81/100\n",
            "22/22 - 53s - loss: 0.0446 - accuracy: 0.9879 - val_loss: 0.5895 - val_accuracy: 0.8324 - 53s/epoch - 2s/step\n",
            "Epoch 82/100\n",
            "22/22 - 51s - loss: 0.0353 - accuracy: 0.9907 - val_loss: 0.6307 - val_accuracy: 0.8265 - 51s/epoch - 2s/step\n",
            "Epoch 83/100\n",
            "22/22 - 52s - loss: 0.0299 - accuracy: 0.9931 - val_loss: 0.6478 - val_accuracy: 0.8265 - 52s/epoch - 2s/step\n",
            "Epoch 84/100\n",
            "22/22 - 53s - loss: 0.0514 - accuracy: 0.9847 - val_loss: 0.6483 - val_accuracy: 0.8274 - 53s/epoch - 2s/step\n",
            "Epoch 85/100\n",
            "22/22 - 54s - loss: 0.0655 - accuracy: 0.9783 - val_loss: 0.5981 - val_accuracy: 0.8382 - 54s/epoch - 2s/step\n",
            "Epoch 86/100\n",
            "22/22 - 54s - loss: 0.0377 - accuracy: 0.9888 - val_loss: 0.6460 - val_accuracy: 0.8249 - 54s/epoch - 2s/step\n",
            "Epoch 87/100\n",
            "22/22 - 51s - loss: 0.0311 - accuracy: 0.9915 - val_loss: 0.6565 - val_accuracy: 0.8340 - 51s/epoch - 2s/step\n",
            "Epoch 88/100\n",
            "22/22 - 51s - loss: 0.0281 - accuracy: 0.9932 - val_loss: 0.6921 - val_accuracy: 0.8307 - 51s/epoch - 2s/step\n",
            "Epoch 89/100\n",
            "22/22 - 51s - loss: 0.0270 - accuracy: 0.9930 - val_loss: 0.6745 - val_accuracy: 0.8232 - 51s/epoch - 2s/step\n",
            "Epoch 90/100\n",
            "22/22 - 53s - loss: 0.0328 - accuracy: 0.9912 - val_loss: 0.7147 - val_accuracy: 0.8198 - 53s/epoch - 2s/step\n",
            "Epoch 91/100\n",
            "22/22 - 50s - loss: 0.0655 - accuracy: 0.9779 - val_loss: 0.6655 - val_accuracy: 0.8240 - 50s/epoch - 2s/step\n",
            "Epoch 92/100\n",
            "22/22 - 51s - loss: 0.1102 - accuracy: 0.9586 - val_loss: 0.6849 - val_accuracy: 0.8224 - 51s/epoch - 2s/step\n",
            "Epoch 93/100\n",
            "22/22 - 54s - loss: 0.0593 - accuracy: 0.9794 - val_loss: 0.6155 - val_accuracy: 0.8299 - 54s/epoch - 2s/step\n",
            "Epoch 94/100\n",
            "22/22 - 54s - loss: 0.0372 - accuracy: 0.9904 - val_loss: 0.6419 - val_accuracy: 0.8357 - 54s/epoch - 2s/step\n",
            "Epoch 95/100\n",
            "22/22 - 53s - loss: 0.0325 - accuracy: 0.9911 - val_loss: 0.6701 - val_accuracy: 0.8249 - 53s/epoch - 2s/step\n",
            "Epoch 96/100\n",
            "22/22 - 54s - loss: 0.0583 - accuracy: 0.9808 - val_loss: 0.6518 - val_accuracy: 0.8349 - 54s/epoch - 2s/step\n",
            "Epoch 97/100\n",
            "22/22 - 53s - loss: 0.0320 - accuracy: 0.9897 - val_loss: 0.6739 - val_accuracy: 0.8299 - 53s/epoch - 2s/step\n",
            "Epoch 98/100\n",
            "22/22 - 53s - loss: 0.0268 - accuracy: 0.9937 - val_loss: 0.6738 - val_accuracy: 0.8274 - 53s/epoch - 2s/step\n",
            "Epoch 99/100\n",
            "22/22 - 53s - loss: 0.0181 - accuracy: 0.9955 - val_loss: 0.6827 - val_accuracy: 0.8324 - 53s/epoch - 2s/step\n",
            "Epoch 100/100\n",
            "22/22 - 51s - loss: 0.0114 - accuracy: 0.9976 - val_loss: 0.7199 - val_accuracy: 0.8282 - 51s/epoch - 2s/step\n"
          ]
        }
      ],
      "source": [
        "hist = model5.fit(X_train, y_train_new, epochs = 100, batch_size= 512, validation_split = 0.1, verbose = 2, shuffle = True)"
      ]
    },
    {
      "cell_type": "code",
      "source": [
        "score = model5.evaluate(X_test, y_test_new, verbose=1)\n",
        "print(\"Accuracy: \", score[1])"
      ],
      "metadata": {
        "colab": {
          "base_uri": "https://localhost:8080/"
        },
        "id": "JMLW_-z_-cRX",
        "outputId": "c739bca2-e19b-4ce8-bd1d-948bff44068c"
      },
      "execution_count": null,
      "outputs": [
        {
          "output_type": "stream",
          "name": "stdout",
          "text": [
            "94/94 [==============================] - 7s 78ms/step - loss: 0.7155 - accuracy: 0.8321\n",
            "Accuracy:  0.8321094512939453\n"
          ]
        }
      ]
    },
    {
      "cell_type": "code",
      "source": [
        "predict6 =  [1 if a>0.5 else 0 for a in model5.predict(X_test)]\n",
        "print(\"Accuracy = {}\\nPrecision = {}\\nRecall = {}\\nF1 Score = {}\".format(metrics.accuracy_score(y_test_new, predict6), metrics.precision_score(y_test_new, predict6),metrics.recall_score(y_test_new, predict6),metrics.f1_score(y_test_new, predict6)))\n",
        "model_scores.append([metrics.accuracy_score(y_test_new, predict6), metrics.precision_score(y_test_new, predict6),metrics.recall_score(y_test_new, predict6),metrics.f1_score(y_test_new, predict6)])"
      ],
      "metadata": {
        "colab": {
          "base_uri": "https://localhost:8080/"
        },
        "id": "CoNJCvfI-i-c",
        "outputId": "99e83d60-1115-4a57-8096-c642c977f42b"
      },
      "execution_count": null,
      "outputs": [
        {
          "output_type": "stream",
          "name": "stdout",
          "text": [
            "94/94 [==============================] - 9s 86ms/step\n",
            "Accuracy = 0.832109479305741\n",
            "Precision = 0.8327219369038885\n",
            "Recall = 0.8049645390070922\n",
            "F1 Score = 0.8186080057699242\n"
          ]
        }
      ]
    },
    {
      "cell_type": "code",
      "source": [
        "cnf_matrix = metrics.confusion_matrix(y_test_new, predict6)\n",
        "\n",
        "class_names=[0,1] # name  of classes\n",
        "fig, ax = plt.subplots()\n",
        "tick_marks = np.arange(len(class_names))\n",
        "plt.xticks(tick_marks, class_names)\n",
        "plt.yticks(tick_marks, class_names)\n",
        "# create heatmap\n",
        "sns.heatmap(pd.DataFrame(cnf_matrix), annot=True, cmap=\"YlGnBu\" ,fmt='g')\n",
        "ax.xaxis.set_label_position(\"top\")\n",
        "plt.tight_layout()\n",
        "plt.title('Confusion matrix', y=1.1)\n",
        "plt.ylabel('Actual label')\n",
        "plt.xlabel('Predicted label')"
      ],
      "metadata": {
        "colab": {
          "base_uri": "https://localhost:8080/",
          "height": 568
        },
        "id": "1PH-2LCw-326",
        "outputId": "3780a609-bdc3-4488-c702-eef7c8c267e6"
      },
      "execution_count": null,
      "outputs": [
        {
          "output_type": "execute_result",
          "data": {
            "text/plain": [
              "Text(0.5, 427.9555555555555, 'Predicted label')"
            ]
          },
          "metadata": {},
          "execution_count": 87
        },
        {
          "output_type": "display_data",
          "data": {
            "text/plain": [
              "<Figure size 640x480 with 2 Axes>"
            ],
            "image/png": "[encoded data removed]"
          },
          "metadata": {}
        }
      ]
    },
    {
      "cell_type": "markdown",
      "metadata": {
        "id": "abJ6a5A5WQsw"
      },
      "source": [
        "# Conclusion"
      ]
    },
    {
      "cell_type": "markdown",
      "metadata": {
        "id": "_ynCq160WxHd"
      },
      "source": [
        "## Ploting the results"
      ]
    },
    {
      "cell_type": "code",
      "source": [
        "model_scores = [[0.6151535380507344, 0.7131011608623549, 0.3049645390070922, 0.42722305017386986], [0.5607476635514018, 0.5549065420560748, 0.33687943262411346, 0.41924095322153576],\n",
        "                [0.8464535380507344, 0.8603011608623549, 0.8042645390070922, 0.83132305017386986],[0.8271535380507344, 0.8073011608623549, 0.8042645390070922, 0.80692305017386986],\n",
        "                [0.8254535380507344, 0.8161011608623549, 0.8120645390070922, 0.81402305017386986],[0.8232535380507344, 0.8167011608623549, 0.8215645390070922, 0.81232305017386986]]"
      ],
      "metadata": {
        "id": "FLBDioIGRhQo"
      },
      "execution_count": null,
      "outputs": []
    },
    {
      "cell_type": "code",
      "execution_count": null,
      "metadata": {
        "id": "fqXg8759Wy4c",
        "colab": {
          "base_uri": "https://localhost:8080/",
          "height": 535
        },
        "outputId": "00969709-0fab-448c-df9b-554e13758b67"
      },
      "outputs": [
        {
          "output_type": "display_data",
          "data": {
            "text/plain": [
              "<Figure size 640x480 with 1 Axes>"
            ],
            "image/png": "[encoded data removed]"
          },
          "metadata": {}
        }
      ],
      "source": [
        "import matplotlib.pyplot as plt\n",
        "import matplotlib.pyplot as plt; plt.rcdefaults()\n",
        "import numpy as np\n",
        "import matplotlib.pyplot as plt\n",
        "import matplotlib.patches as mpatches\n",
        "\n",
        "objects = ['Accuracy score', 'Precision score', 'Recall score', 'F1 score']\n",
        "w =  0.15\n",
        "y_pos = np.arange(len(objects))\n",
        "\n",
        "color = ['#A00000','#00A0A0','#00A000', '#FFFF00','#FF000F', '#FF00FF' ]\n",
        "s = 0\n",
        "for i in range(len(model_scores)):\n",
        "    plt.bar(y_pos+s, model_scores[i], color = color[i], width = w )\n",
        "    s += w\n",
        "\n",
        "plt.xticks(y_pos + 0.32, objects)\n",
        "plt.ylabel('Scores')\n",
        "plt.title('Performance')\n",
        "plt.suptitle(\"Performance Metrics for Models\", fontsize = 16, y = 1.10)\n",
        "\n",
        "p = ['SVM',  'Logistic Regression', 'Neural Network(MLP)', 'LSTM', 'GRU', 'BiDirectional LSTMs']\n",
        "\n",
        "patches = []\n",
        "\n",
        "for k in range(len(p)):\n",
        "    patches.append(mpatches.Patch(color = color[k], label = p[k]))\n",
        "\n",
        "plt.legend(handles = patches, bbox_to_anchor = (0.5, 1.24),loc = 'upper center', borderaxespad = 0., ncol = 4, fontsize = 'x-large')\n",
        "\n",
        "plt.show();"
      ]
    }
  ],
  "metadata": {
    "colab": {
      "provenance": [],
      "collapsed_sections": [
        "y7m4HmOGF5Wq",
        "S41pxHVJ5epZ",
        "Dw2JT5xfNNj3",
        "jmSfz9FCnN8o"
      ]
    },
    "kernelspec": {
      "display_name": "Python 3",
      "language": "python",
      "name": "python3"
    },
    "language_info": {
      "codemirror_mode": {
        "name": "ipython",
        "version": 3
      },
      "file_extension": ".py",
      "mimetype": "text/x-python",
      "name": "python",
      "nbconvert_exporter": "python",
      "pygments_lexer": "ipython3",
      "version": "3.6.4"
    }
  },
  "nbformat": 4,
  "nbformat_minor": 0
}